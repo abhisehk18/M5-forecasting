{
  "nbformat": 4,
  "nbformat_minor": 0,
  "metadata": {
    "colab": {
      "name": "FIRST CUT MODELS.ipynb",
      "provenance": [],
      "collapsed_sections": [],
      "machine_shape": "hm"
    },
    "kernelspec": {
      "name": "python3",
      "display_name": "Python 3"
    }
  },
  "cells": [
    {
      "cell_type": "markdown",
      "metadata": {
        "id": "66IqO2QWmidG"
      },
      "source": [
        "#**CREATING A BASELINE MODEL**"
      ]
    },
    {
      "cell_type": "markdown",
      "metadata": {
        "id": "dMoL2IhHnDEH"
      },
      "source": [
        "##CREATING TRAIN,CV AND TEST SPLIT USING TIME BASED SPLITTING"
      ]
    },
    {
      "cell_type": "code",
      "metadata": {
        "colab": {
          "base_uri": "https://localhost:8080/"
        },
        "id": "F_nFgxCcgIOQ",
        "outputId": "20fcf2a6-9d56-4a53-ebed-86436606201a"
      },
      "source": [
        "from google.colab import drive\n",
        "drive.mount('/content/gdrive',force_remount=True)"
      ],
      "execution_count": 1,
      "outputs": [
        {
          "output_type": "stream",
          "text": [
            "Mounted at /content/gdrive\n"
          ],
          "name": "stdout"
        }
      ]
    },
    {
      "cell_type": "code",
      "metadata": {
        "colab": {
          "base_uri": "https://localhost:8080/"
        },
        "id": "FLO3rfnIy24K",
        "outputId": "3ad4069c-fba3-44a8-8606-5d5a44dcbc0b"
      },
      "source": [
        "!unzip /content/sample_submission.csv.zip"
      ],
      "execution_count": 3,
      "outputs": [
        {
          "output_type": "stream",
          "text": [
            "Archive:  /content/sample_submission.csv.zip\n",
            "  inflating: sample_submission.csv   \n"
          ],
          "name": "stdout"
        }
      ]
    },
    {
      "cell_type": "code",
      "metadata": {
        "id": "tAkg-8uwMrKz"
      },
      "source": [
        "import pandas as pd\n",
        "import numpy as np\n",
        "final_df=pd.read_hdf(\"/content/gdrive/MyDrive/m5_forecasting_data/final_df.hdf\",'mydata')\n"
      ],
      "execution_count": 2,
      "outputs": []
    },
    {
      "cell_type": "code",
      "metadata": {
        "id": "4_CGPJyg_bdI"
      },
      "source": [
        "final_df['event_name']=final_df['event_name_1']+final_df['event_name_2']\n",
        "final_df['event_type']=final_df['event_type_1']+final_df['event_type_2']\n",
        "\n",
        "final_df.drop(['event_name_1','event_name_2','event_type_1','event_type_2'],axis=1,inplace=True)"
      ],
      "execution_count": 4,
      "outputs": []
    },
    {
      "cell_type": "code",
      "metadata": {
        "id": "EUG4zoobmrQa",
        "colab": {
          "base_uri": "https://localhost:8080/"
        },
        "outputId": "2add02a3-9cde-4f86-c92e-d5e88e459e6b"
      },
      "source": [
        "#Product details upto day 1883 is used as training set\n",
        "X_train = final_df[(final_df['day']>=1200) & (final_df['day']<=1885)]\n",
        "y_train = X_train['sale']\n",
        "X_train.drop(['sale'],axis = 1,inplace = True)\n",
        "\n",
        "#Product details starting from day 1884 and ending with 1912 is used as cross validation set(we will cross validate  our model on 28 days from 1884 to 1912)  \n",
        "X_cv=final_df[(final_df['day']>=1886) & (final_df['day']<=1913)]\n",
        "y_cv=X_cv['sale']\n",
        "X_cv.drop(['sale'],axis=1,inplace=True)\n",
        "    \n",
        "#Product details starting from day 1913 is used as test set(we will test our model on 28 days from 1913 to 1941)\n",
        "#we are testing on 28 days..since our task is to forecast sales for next 28 days\n",
        "X_test = final_df[(final_df['day']>=1914)]\n",
        "y_test = X_test['sale']\n",
        "X_test.drop(['sale'],axis = 1,inplace = True)"
      ],
      "execution_count": 5,
      "outputs": [
        {
          "output_type": "stream",
          "text": [
            "/usr/local/lib/python3.7/dist-packages/pandas/core/frame.py:4174: SettingWithCopyWarning: \n",
            "A value is trying to be set on a copy of a slice from a DataFrame\n",
            "\n",
            "See the caveats in the documentation: https://pandas.pydata.org/pandas-docs/stable/user_guide/indexing.html#returning-a-view-versus-a-copy\n",
            "  errors=errors,\n",
            "/usr/local/lib/python3.7/dist-packages/pandas/core/frame.py:4174: SettingWithCopyWarning: \n",
            "A value is trying to be set on a copy of a slice from a DataFrame\n",
            "\n",
            "See the caveats in the documentation: https://pandas.pydata.org/pandas-docs/stable/user_guide/indexing.html#returning-a-view-versus-a-copy\n",
            "  errors=errors,\n",
            "/usr/local/lib/python3.7/dist-packages/pandas/core/frame.py:4174: SettingWithCopyWarning: \n",
            "A value is trying to be set on a copy of a slice from a DataFrame\n",
            "\n",
            "See the caveats in the documentation: https://pandas.pydata.org/pandas-docs/stable/user_guide/indexing.html#returning-a-view-versus-a-copy\n",
            "  errors=errors,\n"
          ],
          "name": "stderr"
        }
      ]
    },
    {
      "cell_type": "code",
      "metadata": {
        "id": "8yTO8rOOWXxb"
      },
      "source": [
        "del final_df\n"
      ],
      "execution_count": 6,
      "outputs": []
    },
    {
      "cell_type": "code",
      "metadata": {
        "id": "4_gdjErNXY6L",
        "colab": {
          "base_uri": "https://localhost:8080/"
        },
        "outputId": "f5f4af71-8adb-4c90-9c4c-af5a976667c8"
      },
      "source": [
        "import gc\n",
        "gc.collect()"
      ],
      "execution_count": 7,
      "outputs": [
        {
          "output_type": "execute_result",
          "data": {
            "text/plain": [
              "100"
            ]
          },
          "metadata": {
            "tags": []
          },
          "execution_count": 7
        }
      ]
    },
    {
      "cell_type": "code",
      "metadata": {
        "id": "NWedAUvag-4m",
        "colab": {
          "base_uri": "https://localhost:8080/"
        },
        "outputId": "86774ee1-0f27-4afd-e1bb-522ea00a1ab6"
      },
      "source": [
        "X_train.info(null_counts=True)"
      ],
      "execution_count": null,
      "outputs": [
        {
          "output_type": "stream",
          "text": [
            "<class 'pandas.core.frame.DataFrame'>\n",
            "Int64Index: 20916140 entries, 36557510 to 57473649\n",
            "Data columns (total 36 columns):\n",
            " #   Column                        Non-Null Count     Dtype  \n",
            "---  ------                        --------------     -----  \n",
            " 0   id                            20916140 non-null  int16  \n",
            " 1   item_id                       20916140 non-null  int16  \n",
            " 2   dept_id                       20916140 non-null  int8   \n",
            " 3   cat_id                        20916140 non-null  int8   \n",
            " 4   store_id                      20916140 non-null  int8   \n",
            " 5   state_id                      20916140 non-null  int8   \n",
            " 6   wday                          20916140 non-null  int8   \n",
            " 7   month                         20916140 non-null  int8   \n",
            " 8   year                          20916140 non-null  int16  \n",
            " 9   snap_CA                       20916140 non-null  int8   \n",
            " 10  snap_TX                       20916140 non-null  int8   \n",
            " 11  snap_WI                       20916140 non-null  int8   \n",
            " 12  sell_price                    20916140 non-null  float16\n",
            " 13  day                           20916140 non-null  int16  \n",
            " 14  week_of_year                  20916140 non-null  int8   \n",
            " 15  is_weekend                    20916140 non-null  int8   \n",
            " 16  is_month_start_or_end         20916140 non-null  int8   \n",
            " 17  is_first15_day_or_last15_day  20916140 non-null  int8   \n",
            " 18  is_christmas                  20916140 non-null  int8   \n",
            " 19  lag_1                         20916140 non-null  int16  \n",
            " 20  lag_7                         20916140 non-null  int16  \n",
            " 21  lag_14                        20916140 non-null  int16  \n",
            " 22  lag_21                        20916140 non-null  int16  \n",
            " 23  lag_28                        20916140 non-null  int16  \n",
            " 24  lag_30                        20916140 non-null  int16  \n",
            " 25  lag_31                        20916140 non-null  int16  \n",
            " 26  rolling_mean_7                20916140 non-null  float16\n",
            " 27  rolling_mean_14               20916140 non-null  float16\n",
            " 28  rolling_mean_28               20916140 non-null  float16\n",
            " 29  rolling_std_7                 20916140 non-null  float16\n",
            " 30  rolling_std_14                20916140 non-null  float16\n",
            " 31  rolling_std_28                20916140 non-null  float16\n",
            " 32  price_previous_day            20916140 non-null  float16\n",
            " 33  price_change                  20916140 non-null  float16\n",
            " 34  event_name                    20916140 non-null  int8   \n",
            " 35  event_type                    20916140 non-null  int8   \n",
            "dtypes: float16(9), int16(11), int8(16)\n",
            "memory usage: 1.2 GB\n"
          ],
          "name": "stdout"
        }
      ]
    },
    {
      "cell_type": "code",
      "metadata": {
        "colab": {
          "base_uri": "https://localhost:8080/"
        },
        "id": "99lEoUaPHLDA",
        "outputId": "15bb6dfc-d042-4691-99b5-007815519a9c"
      },
      "source": [
        "X_train.columns"
      ],
      "execution_count": null,
      "outputs": [
        {
          "output_type": "execute_result",
          "data": {
            "text/plain": [
              "Index(['id', 'item_id', 'dept_id', 'cat_id', 'store_id', 'state_id', 'wday',\n",
              "       'month', 'year', 'snap_CA', 'snap_TX', 'snap_WI', 'sell_price', 'day',\n",
              "       'week_of_year', 'is_weekend', 'is_month_start_or_end',\n",
              "       'is_first15_day_or_last15_day', 'is_christmas', 'lag_1', 'lag_7',\n",
              "       'lag_14', 'lag_21', 'lag_28', 'lag_30', 'lag_31', 'rolling_mean_7',\n",
              "       'rolling_mean_14', 'rolling_mean_28', 'rolling_std_7', 'rolling_std_14',\n",
              "       'rolling_std_28', 'price_previous_day', 'price_change', 'event_name',\n",
              "       'event_type'],\n",
              "      dtype='object')"
            ]
          },
          "metadata": {
            "tags": []
          },
          "execution_count": 11
        }
      ]
    },
    {
      "cell_type": "markdown",
      "metadata": {
        "id": "2r0F4JaCjnym"
      },
      "source": [
        "##CODE FOR SUBMISSION FILE"
      ]
    },
    {
      "cell_type": "code",
      "metadata": {
        "id": "VbFUzhsApNTn"
      },
      "source": [
        "\n",
        "def generate_submission_file(model,Xval,Xtest,file_name):\n",
        "    '''\n",
        "    This function is used to generate a submission file which contains estimated sales for a particular product for next 28 days.\n",
        "    Parameters:\n",
        "    1.model: Best trained model\n",
        "    2.Xval : Input Validation dataset\n",
        "    3.Xtest: Test dataset\n",
        "    4.file_name(str): Name of the generated csv file\n",
        "    '''\n",
        "    \n",
        "    yp_val  = model.predict(Xval)\n",
        "    yp_test  = model.predict(Xtest)\n",
        "    #Reshaped to (-1,28) shape. -1:the value is inferred from the length of the array and remaining dimensions.\n",
        "    #Order = 'F':  read / write the elements with the first index changing fastest, and the last index changing slowest.\n",
        "    yp_val = np.reshape(yp_val, (-1, 28),order = 'F')\n",
        "    yp_test = np.reshape(yp_test, (-1, 28),order = 'F')\n",
        "    \n",
        "\n",
        "    submission = pd.read_csv(\"sample_submission.csv\")\n",
        "    sub_validation = submission.iloc[:30490,:]\n",
        "    sub_evaluation = submission.iloc[30490:,:]\n",
        "    \n",
        "    F_columns = submission.columns[1:]\n",
        "    for i in range(len(F_columns)):\n",
        "        sub_validation[F_columns[i]] = yp_val[:,i]\n",
        "        sub_evaluation[F_columns[i]] = yp_test[:,i]\n",
        "\n",
        "    submission = pd.concat([sub_validation,sub_evaluation])\n",
        "    submission.to_csv(file_name,index = False)\n",
        "    print(\"Submission file with name \"+file_name+\" created successfully\")"
      ],
      "execution_count": 14,
      "outputs": []
    },
    {
      "cell_type": "markdown",
      "metadata": {
        "id": "Uq48vhqpL1DZ"
      },
      "source": [
        "#IMPLEMENTING LINEAR REGRESSION"
      ]
    },
    {
      "cell_type": "code",
      "metadata": {
        "id": "YQhX5n04HHb7"
      },
      "source": [
        "col=['id', 'item_id', 'dept_id', 'cat_id', 'store_id', 'state_id', 'wday',\n",
        "       'month', 'year', 'snap_CA', 'snap_TX', 'snap_WI', 'sell_price', 'day',\n",
        "       'week_of_year', 'is_weekend', 'is_month_start_or_end',\n",
        "       'is_first15_day_or_last15_day', 'is_christmas', 'lag_1', 'lag_7',\n",
        "       'lag_14', 'lag_21', 'lag_28', 'lag_30', 'lag_31', 'rolling_mean_7',\n",
        "       'rolling_mean_14', 'rolling_mean_28', 'rolling_std_7', 'rolling_std_14',\n",
        "       'rolling_std_28', 'price_previous_day', 'price_change', 'event_name',\n",
        "       'event_type']"
      ],
      "execution_count": 8,
      "outputs": []
    },
    {
      "cell_type": "code",
      "metadata": {
        "id": "Rq6d_utInbF5",
        "colab": {
          "base_uri": "https://localhost:8080/"
        },
        "outputId": "91a28577-5b0e-456f-dd6d-1ae2a868afe2"
      },
      "source": [
        "from sklearn.linear_model import LinearRegression\n",
        "reg=LinearRegression(n_jobs=-1)\n",
        "reg.fit(X_train[col],y_train)\n"
      ],
      "execution_count": null,
      "outputs": [
        {
          "output_type": "execute_result",
          "data": {
            "text/plain": [
              "LinearRegression(copy_X=True, fit_intercept=True, n_jobs=-1, normalize=False)"
            ]
          },
          "metadata": {
            "tags": []
          },
          "execution_count": 12
        }
      ]
    },
    {
      "cell_type": "code",
      "metadata": {
        "id": "nBpB9HcydpOt",
        "colab": {
          "base_uri": "https://localhost:8080/"
        },
        "outputId": "88bb37c2-c1ac-4465-d7cd-a6844ab52d4c"
      },
      "source": [
        "from sklearn.metrics import mean_squared_error\n",
        "y_pred_cv=reg.predict(X_cv[col])\n",
        "print(\"CV RMSE:\",np.sqrt(mean_squared_error(y_pred_cv,y_cv)))\n",
        "\n",
        "y_pred_test=reg.predict(X_test[col])\n",
        "y_pred_train=reg.predict(X_train[col])\n",
        "\n",
        "print(\"TEST RMSE:\",np.sqrt(mean_squared_error(y_pred_test,y_test)))\n",
        "print(\"TRAIN RMSE:\",np.sqrt(mean_squared_error(y_pred_train,y_train)))"
      ],
      "execution_count": null,
      "outputs": [
        {
          "output_type": "stream",
          "text": [
            "CV RMSE: 1.7920643\n",
            "TEST RMSE: 1.7948849\n",
            "TRAIN RMSE: 1.850878\n"
          ],
          "name": "stdout"
        }
      ]
    },
    {
      "cell_type": "code",
      "metadata": {
        "id": "WB2-4__Pdwno"
      },
      "source": [
        "generate_submission_file(reg,reg,X_cv[col],X_test[col],\"linear_regression1.csv\")"
      ],
      "execution_count": null,
      "outputs": []
    },
    {
      "cell_type": "code",
      "metadata": {
        "id": "GxvW8FZYLFeI"
      },
      "source": [
        "subm=pd.read_csv(\"/content/linear_regression1.csv\")\n",
        "subm"
      ],
      "execution_count": null,
      "outputs": []
    },
    {
      "cell_type": "code",
      "metadata": {
        "id": "b3iI_bFWVTNM",
        "colab": {
          "base_uri": "https://localhost:8080/",
          "height": 138
        },
        "outputId": "1f2135fc-d5bb-4fe7-c0df-f1b11d4740dc"
      },
      "source": [
        "from IPython.display import Image\n",
        "Image(filename='/content/lr.JPG') "
      ],
      "execution_count": null,
      "outputs": [
        {
          "output_type": "execute_result",
          "data": {
            "image/jpeg": "[encoded data removed]",
            "text/plain": [
              "<IPython.core.display.Image object>"
            ]
          },
          "metadata": {
            "tags": []
          },
          "execution_count": 31
        }
      ]
    },
    {
      "cell_type": "markdown",
      "metadata": {
        "id": "kIf0lfEgjvtB"
      },
      "source": [
        "#IMPLEMENTING RIDGE REGRESSOR"
      ]
    },
    {
      "cell_type": "code",
      "metadata": {
        "id": "zSTQwwHajzJU",
        "colab": {
          "base_uri": "https://localhost:8080/"
        },
        "outputId": "705a78c3-cbc4-479d-c67e-009025cf0a37"
      },
      "source": [
        "from sklearn.linear_model import Ridge\n",
        "from sklearn.metrics import mean_squared_error\n",
        "reg=Ridge()\n",
        "alpha=[0.01, 0.2, 0.1, 1]\n",
        "\n",
        "for i in alpha:\n",
        "  reg=Ridge(alpha=i)\n",
        "  reg.fit(X_train[col],y_train)\n",
        "  y_pred_cv=reg.predict(X_cv[col])\n",
        "  score=np.sqrt(mean_squared_error(y_pred_cv,y_cv))\n",
        "  print(f\"For alpha {i} the RMSE is {score} \")\n",
        "  print('*'*80)\n",
        "  "
      ],
      "execution_count": null,
      "outputs": [
        {
          "output_type": "stream",
          "text": [
            "For alpha 0.01 the RMSE is 1.7920373678207397 \n",
            "********************************************************************************\n",
            "For alpha 0.2 the RMSE is 1.7920398712158203 \n",
            "********************************************************************************\n",
            "For alpha 0.1 the RMSE is 1.792038917541504 \n",
            "********************************************************************************\n",
            "For alpha 1 the RMSE is 1.7920396327972412 \n",
            "********************************************************************************\n"
          ],
          "name": "stdout"
        }
      ]
    },
    {
      "cell_type": "code",
      "metadata": {
        "colab": {
          "base_uri": "https://localhost:8080/"
        },
        "id": "SXjxQwIflJoY",
        "outputId": "ec9712c4-20de-4d73-f5f7-80dfdd8ab271"
      },
      "source": [
        "reg=Ridge(alpha=0.01)\n",
        "reg.fit(X_train[col],y_train)\n",
        "\n",
        "y_pred_cv=reg.predict(X_cv[col])\n",
        "print(\"CV RMSE:\",np.sqrt(mean_squared_error(y_pred_cv,y_cv)))\n",
        "\n",
        "y_pred_test=reg.predict(X_test[col])\n",
        "y_pred_train=reg.predict(X_train[col])\n",
        "\n",
        "print(\"TEST RMSE:\",np.sqrt(mean_squared_error(y_pred_test,y_test)))\n",
        "print(\"TRAIN RMSE:\",np.sqrt(mean_squared_error(y_pred_train,y_train)))"
      ],
      "execution_count": null,
      "outputs": [
        {
          "output_type": "stream",
          "text": [
            "CV RMSE: 1.7920374\n",
            "TEST RMSE: 1.7948945\n",
            "TRAIN RMSE: 1.8508788\n"
          ],
          "name": "stdout"
        }
      ]
    },
    {
      "cell_type": "code",
      "metadata": {
        "colab": {
          "base_uri": "https://localhost:8080/"
        },
        "id": "A42ceXM1x4z2",
        "outputId": "d48ad07c-9f78-4f94-d473-cb7fa4b4ed6e"
      },
      "source": [
        "generate_submission_file(reg,X_cv[col],X_test[col],\"ridge_regression.csv\")"
      ],
      "execution_count": null,
      "outputs": [
        {
          "output_type": "stream",
          "text": [
            "/usr/local/lib/python3.7/dist-packages/ipykernel_launcher.py:26: SettingWithCopyWarning: \n",
            "A value is trying to be set on a copy of a slice from a DataFrame.\n",
            "Try using .loc[row_indexer,col_indexer] = value instead\n",
            "\n",
            "See the caveats in the documentation: https://pandas.pydata.org/pandas-docs/stable/user_guide/indexing.html#returning-a-view-versus-a-copy\n",
            "/usr/local/lib/python3.7/dist-packages/ipykernel_launcher.py:27: SettingWithCopyWarning: \n",
            "A value is trying to be set on a copy of a slice from a DataFrame.\n",
            "Try using .loc[row_indexer,col_indexer] = value instead\n",
            "\n",
            "See the caveats in the documentation: https://pandas.pydata.org/pandas-docs/stable/user_guide/indexing.html#returning-a-view-versus-a-copy\n"
          ],
          "name": "stderr"
        },
        {
          "output_type": "stream",
          "text": [
            "Submission file with name ridge_regression.csv created successfully\n"
          ],
          "name": "stdout"
        }
      ]
    },
    {
      "cell_type": "code",
      "metadata": {
        "id": "n5IKOFkQx4z5"
      },
      "source": [
        "subm=pd.read_csv(\"ridge_regression.csv\")\n",
        "subm"
      ],
      "execution_count": null,
      "outputs": []
    },
    {
      "cell_type": "code",
      "metadata": {
        "colab": {
          "base_uri": "https://localhost:8080/",
          "height": 183
        },
        "id": "0yxE-hJFzKca",
        "outputId": "5ba25f2f-5a75-483f-8c79-2268007180fe"
      },
      "source": [
        "from IPython.display import Image\n",
        "Image(filename='/content/RIDGE.JPG') "
      ],
      "execution_count": null,
      "outputs": [
        {
          "output_type": "execute_result",
          "data": {
            "image/jpeg": "[encoded data removed]",
            "text/plain": [
              "<IPython.core.display.Image object>"
            ]
          },
          "metadata": {
            "tags": []
          },
          "execution_count": 32
        }
      ]
    },
    {
      "cell_type": "markdown",
      "metadata": {
        "id": "i2ctfFczlfkd"
      },
      "source": [
        "#IMPLEMENTING LASSO REGRESSION"
      ]
    },
    {
      "cell_type": "code",
      "metadata": {
        "colab": {
          "base_uri": "https://localhost:8080/"
        },
        "id": "Qj5LVwKPlikB",
        "outputId": "92b5234d-56ba-420f-b037-be9655bc93dd"
      },
      "source": [
        "from sklearn.linear_model import Lasso\n",
        "from sklearn.metrics import mean_squared_error\n",
        "alpha=[0.01, 0.2, 0.1, 1]\n",
        "\n",
        "for i in alpha:\n",
        "  reg=Lasso(alpha=i,max_iter=250)\n",
        "  reg.fit(X_train[col],y_train)\n",
        "  y_pred_cv=reg.predict(X_cv[col])\n",
        "  score=np.sqrt(mean_squared_error(y_pred_cv,y_cv))\n",
        "  print(f\"For alpha {i} the RMSE is {score} \")\n",
        "  print('*'*80)"
      ],
      "execution_count": null,
      "outputs": [
        {
          "output_type": "stream",
          "text": [
            "/usr/local/lib/python3.7/dist-packages/sklearn/linear_model/_coordinate_descent.py:476: ConvergenceWarning: Objective did not converge. You might want to increase the number of iterations. Duality gap: 2325504.0, tolerance: 27067.890625\n",
            "  positive)\n"
          ],
          "name": "stderr"
        },
        {
          "output_type": "stream",
          "text": [
            "For alpha 0.01 the RMSE is 1.795409917831421 \n",
            "********************************************************************************\n"
          ],
          "name": "stdout"
        },
        {
          "output_type": "stream",
          "text": [
            "/usr/local/lib/python3.7/dist-packages/sklearn/linear_model/_coordinate_descent.py:476: ConvergenceWarning: Objective did not converge. You might want to increase the number of iterations. Duality gap: 37496.0, tolerance: 27067.890625\n",
            "  positive)\n"
          ],
          "name": "stderr"
        },
        {
          "output_type": "stream",
          "text": [
            "For alpha 0.2 the RMSE is 1.8269041776657104 \n",
            "********************************************************************************\n",
            "For alpha 0.1 the RMSE is 1.8203115463256836 \n",
            "********************************************************************************\n",
            "For alpha 1 the RMSE is 1.8558831214904785 \n",
            "********************************************************************************\n"
          ],
          "name": "stdout"
        }
      ]
    },
    {
      "cell_type": "code",
      "metadata": {
        "colab": {
          "base_uri": "https://localhost:8080/"
        },
        "id": "8y_uYuuomfb9",
        "outputId": "dd5dddfe-01e5-4c25-a13c-6b4c7bd55299"
      },
      "source": [
        "reg=Lasso(alpha=0.01,max_iter=250)\n",
        "reg.fit(X_train[col],y_train)\n",
        "\n",
        "y_pred_cv=reg.predict(X_cv[col])\n",
        "print(\"CV RMSE:\",np.sqrt(mean_squared_error(y_pred_cv,y_cv)))\n",
        "\n",
        "y_pred_test=reg.predict(X_test[col])\n",
        "y_pred_train=reg.predict(X_train[col])\n",
        "\n",
        "print(\"TEST RMSE:\",np.sqrt(mean_squared_error(y_pred_test,y_test)))\n",
        "print(\"TRAIN RMSE:\",np.sqrt(mean_squared_error(y_pred_train,y_train)))"
      ],
      "execution_count": null,
      "outputs": [
        {
          "output_type": "stream",
          "text": [
            "/usr/local/lib/python3.7/dist-packages/sklearn/linear_model/_coordinate_descent.py:476: ConvergenceWarning: Objective did not converge. You might want to increase the number of iterations. Duality gap: 2325504.0, tolerance: 27067.890625\n",
            "  positive)\n"
          ],
          "name": "stderr"
        },
        {
          "output_type": "stream",
          "text": [
            "CV RMSE: 1.7954099\n",
            "TEST RMSE: 1.7976841\n",
            "TRAIN RMSE: 1.8528905\n"
          ],
          "name": "stdout"
        }
      ]
    },
    {
      "cell_type": "code",
      "metadata": {
        "colab": {
          "base_uri": "https://localhost:8080/",
          "height": 997
        },
        "id": "ZL7vUSXmtOfx",
        "outputId": "a9dfc032-3cf8-4733-d398-edf69e7c1011"
      },
      "source": [
        "import matplotlib.pyplot as plt\n",
        "importance=reg.coef_\n",
        "feature_important=dict(zip(X_train[col].columns,importance.tolist()))\n",
        "keys = list(feature_important.keys())\n",
        "values = list(feature_important.values())\n",
        "\n",
        "#data = pd.DataFrame(data=values, index=keys, columns=[\"score\"]).sort_values(by = \"score\", ascending=False)\n",
        "plt.figure(figsize=(15,15))\n",
        "plt.bar(x=keys,height=values)\n",
        "plt.xticks(rotation='vertical')\n",
        "plt.show()\n"
      ],
      "execution_count": null,
      "outputs": [
        {
          "output_type": "display_data",
          "data": {
            "image/png": "[encoded data removed]",
            "text/plain": [
              "<Figure size 1080x1080 with 1 Axes>"
            ]
          },
          "metadata": {
            "tags": [],
            "needs_background": "light"
          }
        }
      ]
    },
    {
      "cell_type": "code",
      "metadata": {
        "colab": {
          "base_uri": "https://localhost:8080/"
        },
        "id": "RY-i8OBtylf4",
        "outputId": "474e727d-fe3f-47f9-d67e-bb589cbce862"
      },
      "source": [
        "generate_submission_file(reg,X_cv[col],X_test[col],\"lasso_regression.csv\")"
      ],
      "execution_count": null,
      "outputs": [
        {
          "output_type": "stream",
          "text": [
            "/usr/local/lib/python3.7/dist-packages/ipykernel_launcher.py:26: SettingWithCopyWarning: \n",
            "A value is trying to be set on a copy of a slice from a DataFrame.\n",
            "Try using .loc[row_indexer,col_indexer] = value instead\n",
            "\n",
            "See the caveats in the documentation: https://pandas.pydata.org/pandas-docs/stable/user_guide/indexing.html#returning-a-view-versus-a-copy\n",
            "/usr/local/lib/python3.7/dist-packages/ipykernel_launcher.py:27: SettingWithCopyWarning: \n",
            "A value is trying to be set on a copy of a slice from a DataFrame.\n",
            "Try using .loc[row_indexer,col_indexer] = value instead\n",
            "\n",
            "See the caveats in the documentation: https://pandas.pydata.org/pandas-docs/stable/user_guide/indexing.html#returning-a-view-versus-a-copy\n"
          ],
          "name": "stderr"
        },
        {
          "output_type": "stream",
          "text": [
            "Submission file with name lasso_regression.csv created successfully\n"
          ],
          "name": "stdout"
        }
      ]
    },
    {
      "cell_type": "code",
      "metadata": {
        "colab": {
          "base_uri": "https://localhost:8080/",
          "height": 188
        },
        "id": "uKIzENLn4YUY",
        "outputId": "a7a7f847-239c-495c-b511-593db0b93e09"
      },
      "source": [
        "from IPython.display import Image\n",
        "Image(filename='/content/LASSO.JPG') "
      ],
      "execution_count": null,
      "outputs": [
        {
          "output_type": "execute_result",
          "data": {
            "image/jpeg": "[encoded data removed]",
            "text/plain": [
              "<IPython.core.display.Image object>"
            ]
          },
          "metadata": {
            "tags": []
          },
          "execution_count": 36
        }
      ]
    },
    {
      "cell_type": "markdown",
      "metadata": {
        "id": "3UEZRDE5td7l"
      },
      "source": [
        "#ELASTIC NET REGRESSOR"
      ]
    },
    {
      "cell_type": "code",
      "metadata": {
        "colab": {
          "base_uri": "https://localhost:8080/"
        },
        "id": "NHSf2MwstgZv",
        "outputId": "d7eec796-7a3b-4ca3-8d6b-3b331772a512"
      },
      "source": [
        "from sklearn.linear_model import ElasticNet\n",
        "alpha = [0.01,0.1,1,10]\n",
        "l1_ratio = [0.01,0.1,1]\n",
        "for i in alpha:\n",
        "    for j in l1_ratio:\n",
        "        model = ElasticNet(alpha=i,l1_ratio=j, max_iter=250)\n",
        "        model.fit(X_train[col],y_train)\n",
        "        y_pred = model.predict(X_cv[col])\n",
        "        score = np.sqrt(mean_squared_error(y_cv,y_pred))\n",
        "        print(f\"For alpha {i} and l1_ratio {j} the RMSE is {score} \")\n",
        "        print('*'*80)"
      ],
      "execution_count": null,
      "outputs": [
        {
          "output_type": "stream",
          "text": [
            "/usr/local/lib/python3.7/dist-packages/sklearn/linear_model/_coordinate_descent.py:476: ConvergenceWarning: Objective did not converge. You might want to increase the number of iterations. Duality gap: 34621108.0, tolerance: 27067.890625\n",
            "  positive)\n"
          ],
          "name": "stderr"
        },
        {
          "output_type": "stream",
          "text": [
            "For alpha 0.01 and l1_ratio 0.01 the RMSE is 1.7929389476776123 \n",
            "********************************************************************************\n"
          ],
          "name": "stdout"
        },
        {
          "output_type": "stream",
          "text": [
            "/usr/local/lib/python3.7/dist-packages/sklearn/linear_model/_coordinate_descent.py:476: ConvergenceWarning: Objective did not converge. You might want to increase the number of iterations. Duality gap: 24903804.0, tolerance: 27067.890625\n",
            "  positive)\n"
          ],
          "name": "stderr"
        },
        {
          "output_type": "stream",
          "text": [
            "For alpha 0.01 and l1_ratio 0.1 the RMSE is 1.7931522130966187 \n",
            "********************************************************************************\n"
          ],
          "name": "stdout"
        },
        {
          "output_type": "stream",
          "text": [
            "/usr/local/lib/python3.7/dist-packages/sklearn/linear_model/_coordinate_descent.py:476: ConvergenceWarning: Objective did not converge. You might want to increase the number of iterations. Duality gap: 2325504.0, tolerance: 27067.890625\n",
            "  positive)\n"
          ],
          "name": "stderr"
        },
        {
          "output_type": "stream",
          "text": [
            "For alpha 0.01 and l1_ratio 1 the RMSE is 1.795409917831421 \n",
            "********************************************************************************\n"
          ],
          "name": "stdout"
        },
        {
          "output_type": "stream",
          "text": [
            "/usr/local/lib/python3.7/dist-packages/sklearn/linear_model/_coordinate_descent.py:476: ConvergenceWarning: Objective did not converge. You might want to increase the number of iterations. Duality gap: 19401380.0, tolerance: 27067.890625\n",
            "  positive)\n"
          ],
          "name": "stderr"
        },
        {
          "output_type": "stream",
          "text": [
            "For alpha 0.1 and l1_ratio 0.01 the RMSE is 1.8021425008773804 \n",
            "********************************************************************************\n"
          ],
          "name": "stdout"
        },
        {
          "output_type": "stream",
          "text": [
            "/usr/local/lib/python3.7/dist-packages/sklearn/linear_model/_coordinate_descent.py:476: ConvergenceWarning: Objective did not converge. You might want to increase the number of iterations. Duality gap: 1495494.5, tolerance: 27067.890625\n",
            "  positive)\n"
          ],
          "name": "stderr"
        },
        {
          "output_type": "stream",
          "text": [
            "For alpha 0.1 and l1_ratio 0.1 the RMSE is 1.8041290044784546 \n",
            "********************************************************************************\n",
            "For alpha 0.1 and l1_ratio 1 the RMSE is 1.8203115463256836 \n",
            "********************************************************************************\n",
            "For alpha 1 and l1_ratio 0.01 the RMSE is 1.84642493724823 \n",
            "********************************************************************************\n",
            "For alpha 1 and l1_ratio 0.1 the RMSE is 1.8478697538375854 \n",
            "********************************************************************************\n",
            "For alpha 1 and l1_ratio 1 the RMSE is 1.8558831214904785 \n",
            "********************************************************************************\n",
            "For alpha 10 and l1_ratio 0.01 the RMSE is 1.9444189071655273 \n",
            "********************************************************************************\n",
            "For alpha 10 and l1_ratio 0.1 the RMSE is 2.009639263153076 \n",
            "********************************************************************************\n",
            "For alpha 10 and l1_ratio 1 the RMSE is 3.574183464050293 \n",
            "********************************************************************************\n"
          ],
          "name": "stdout"
        }
      ]
    },
    {
      "cell_type": "code",
      "metadata": {
        "colab": {
          "base_uri": "https://localhost:8080/"
        },
        "id": "g7uwi1BJtxxF",
        "outputId": "dc749e25-fe30-4b2c-ac8d-eb6b8bb796ef"
      },
      "source": [
        "reg=ElasticNet(alpha=0.01,l1_ratio=0.01,max_iter=250)\n",
        "reg.fit(X_train[col],y_train)\n",
        "\n",
        "y_pred_cv=reg.predict(X_cv[col])\n",
        "print(\"CV RMSE:\",np.sqrt(mean_squared_error(y_pred_cv,y_cv)))\n",
        "\n",
        "y_pred_test=reg.predict(X_test[col])\n",
        "y_pred_train=reg.predict(X_train[col])\n",
        "\n",
        "print(\"TEST RMSE:\",np.sqrt(mean_squared_error(y_pred_test,y_test)))\n",
        "print(\"TRAIN RMSE:\",np.sqrt(mean_squared_error(y_pred_train,y_train)))\n"
      ],
      "execution_count": null,
      "outputs": [
        {
          "output_type": "stream",
          "text": [
            "/usr/local/lib/python3.7/dist-packages/sklearn/linear_model/_coordinate_descent.py:476: ConvergenceWarning: Objective did not converge. You might want to increase the number of iterations. Duality gap: 34621108.0, tolerance: 27067.890625\n",
            "  positive)\n"
          ],
          "name": "stderr"
        },
        {
          "output_type": "stream",
          "text": [
            "CV RMSE: 1.792939\n",
            "TEST RMSE: 1.7959634\n",
            "TRAIN RMSE: 1.8516688\n"
          ],
          "name": "stdout"
        }
      ]
    },
    {
      "cell_type": "code",
      "metadata": {
        "colab": {
          "base_uri": "https://localhost:8080/"
        },
        "id": "0_zlJNv_1pfr",
        "outputId": "a206db00-dae8-4562-ff28-8e9ee11e2541"
      },
      "source": [
        "generate_submission_file(reg,X_cv[col],X_test[col],\"ELASTIC_NET.csv\")"
      ],
      "execution_count": null,
      "outputs": [
        {
          "output_type": "stream",
          "text": [
            "/usr/local/lib/python3.7/dist-packages/ipykernel_launcher.py:26: SettingWithCopyWarning: \n",
            "A value is trying to be set on a copy of a slice from a DataFrame.\n",
            "Try using .loc[row_indexer,col_indexer] = value instead\n",
            "\n",
            "See the caveats in the documentation: https://pandas.pydata.org/pandas-docs/stable/user_guide/indexing.html#returning-a-view-versus-a-copy\n",
            "/usr/local/lib/python3.7/dist-packages/ipykernel_launcher.py:27: SettingWithCopyWarning: \n",
            "A value is trying to be set on a copy of a slice from a DataFrame.\n",
            "Try using .loc[row_indexer,col_indexer] = value instead\n",
            "\n",
            "See the caveats in the documentation: https://pandas.pydata.org/pandas-docs/stable/user_guide/indexing.html#returning-a-view-versus-a-copy\n"
          ],
          "name": "stderr"
        },
        {
          "output_type": "stream",
          "text": [
            "Submission file with name ELASTIC_NET.csv created successfully\n"
          ],
          "name": "stdout"
        }
      ]
    },
    {
      "cell_type": "code",
      "metadata": {
        "id": "JN5GryM_1pfr"
      },
      "source": [
        "subm=pd.read_csv(\"ELASTIC_NET.csv\")\n",
        "subm"
      ],
      "execution_count": null,
      "outputs": []
    },
    {
      "cell_type": "code",
      "metadata": {
        "colab": {
          "base_uri": "https://localhost:8080/",
          "height": 152
        },
        "id": "cQAtW_lyGDRr",
        "outputId": "c0aae958-d6fa-480c-e0c4-94e8991be0de"
      },
      "source": [
        "from IPython.display import Image\n",
        "Image(filename='/content/ELASTIC.JPG') "
      ],
      "execution_count": null,
      "outputs": [
        {
          "output_type": "execute_result",
          "data": {
            "image/jpeg": "[encoded data removed]",
            "text/plain": [
              "<IPython.core.display.Image object>"
            ]
          },
          "metadata": {
            "tags": []
          },
          "execution_count": 44
        }
      ]
    },
    {
      "cell_type": "markdown",
      "metadata": {
        "id": "wdd9ASJ1Lih5"
      },
      "source": [
        "#IMPLEMENTING DECISION TREE REGRESSOR"
      ]
    },
    {
      "cell_type": "code",
      "metadata": {
        "id": "lPmVH-4vzWjm",
        "colab": {
          "base_uri": "https://localhost:8080/"
        },
        "outputId": "84f2ce92-318e-4698-85e4-a9fc4905240b"
      },
      "source": [
        "from sklearn.tree import DecisionTreeRegressor\n",
        "from sklearn.model_selection import GridSearchCV\n",
        "from sklearn.metrics import mean_squared_error\n",
        "from tqdm import tqdm\n",
        "\n",
        "parameters={'max_depth':[2,5,7,10,15,20]}\n",
        "\n",
        "reg=DecisionTreeRegressor()\n",
        "hyper=GridSearchCV(reg,parameters,cv=3,scoring='neg_mean_squared_error',verbose=1,return_train_score=True,n_jobs=-1)\n",
        "hyper.fit(X_train,y_train)#fitting data\n",
        "hyper.best_estimator_\n",
        "\n",
        "\n",
        "best_depth_1=hyper.best_params_['max_depth']\n",
        "bestScore_1=hyper.best_score_\n",
        "\n",
        "\n",
        "print(\" BEST SCORE: \",bestScore_1,\"BEST DEPTH: \",best_depth_1) "
      ],
      "execution_count": null,
      "outputs": [
        {
          "output_type": "stream",
          "text": [
            "Fitting 3 folds for each of 6 candidates, totalling 18 fits\n"
          ],
          "name": "stdout"
        },
        {
          "output_type": "stream",
          "text": [
            "[Parallel(n_jobs=-1)]: Using backend LokyBackend with 4 concurrent workers.\n",
            "[Parallel(n_jobs=-1)]: Done  18 out of  18 | elapsed: 29.1min finished\n"
          ],
          "name": "stderr"
        },
        {
          "output_type": "stream",
          "text": [
            " BEST SCORE:  -3.410171007277699 BEST DEPTH:  7\n"
          ],
          "name": "stdout"
        }
      ]
    },
    {
      "cell_type": "code",
      "metadata": {
        "id": "lpnJ1XVUop2z",
        "colab": {
          "base_uri": "https://localhost:8080/"
        },
        "outputId": "92bd2b5d-7bfe-435f-d5ff-47c72c96a0de"
      },
      "source": [
        "from sklearn.tree import DecisionTreeRegressor\n",
        "from sklearn.metrics import mean_squared_error\n",
        "\n",
        "reg = DecisionTreeRegressor(max_depth=best_depth_1)\n",
        "reg.fit(X_train[col], y_train)\n",
        "\n"
      ],
      "execution_count": null,
      "outputs": [
        {
          "output_type": "execute_result",
          "data": {
            "text/plain": [
              "DecisionTreeRegressor(ccp_alpha=0.0, criterion='mse', max_depth=7,\n",
              "                      max_features=None, max_leaf_nodes=None,\n",
              "                      min_impurity_decrease=0.0, min_impurity_split=None,\n",
              "                      min_samples_leaf=1, min_samples_split=2,\n",
              "                      min_weight_fraction_leaf=0.0, presort='deprecated',\n",
              "                      random_state=None, splitter='best')"
            ]
          },
          "metadata": {
            "tags": []
          },
          "execution_count": 39
        }
      ]
    },
    {
      "cell_type": "code",
      "metadata": {
        "colab": {
          "base_uri": "https://localhost:8080/"
        },
        "id": "iSKELxn6YtB-",
        "outputId": "059d51fe-4c02-4fdc-f57e-6f36c30c4729"
      },
      "source": [
        "y_pred_train = reg.predict(X_train[col])\n",
        "y_score_train= mean_squared_error(y_pred_train, y_train)\n",
        "print(\"train rmse:\",np.sqrt(y_score_train))\n",
        "\n",
        "y_pred_cv = reg.predict(X_cv[col])\n",
        "y_score_cv= mean_squared_error(y_pred_cv, y_cv)\n",
        "print(\"CV rmse:\",np.sqrt(y_score_cv))\n",
        "\n",
        "y_pred_test = reg.predict(X_test[col])\n",
        "y_score_test= mean_squared_error(y_pred_test, y_test)\n",
        "print(\"test rmse:\",np.sqrt(y_score_test))"
      ],
      "execution_count": null,
      "outputs": [
        {
          "output_type": "stream",
          "text": [
            "train rmse: 1.8172050243876048\n",
            "CV rmse: 1.7736478110031555\n",
            "test rmse: 1.7996664234374204\n"
          ],
          "name": "stdout"
        }
      ]
    },
    {
      "cell_type": "code",
      "metadata": {
        "id": "teP8Zs3tNRUN",
        "colab": {
          "base_uri": "https://localhost:8080/"
        },
        "outputId": "aa48753a-9adf-46d0-d722-59028ecedd02"
      },
      "source": [
        "generate_submission_file(reg,X_cv[col],X_test[col],\"Decision_Tree_regressor.csv\")"
      ],
      "execution_count": null,
      "outputs": [
        {
          "output_type": "stream",
          "text": [
            "/usr/local/lib/python3.7/dist-packages/ipykernel_launcher.py:26: SettingWithCopyWarning: \n",
            "A value is trying to be set on a copy of a slice from a DataFrame.\n",
            "Try using .loc[row_indexer,col_indexer] = value instead\n",
            "\n",
            "See the caveats in the documentation: https://pandas.pydata.org/pandas-docs/stable/user_guide/indexing.html#returning-a-view-versus-a-copy\n",
            "/usr/local/lib/python3.7/dist-packages/ipykernel_launcher.py:27: SettingWithCopyWarning: \n",
            "A value is trying to be set on a copy of a slice from a DataFrame.\n",
            "Try using .loc[row_indexer,col_indexer] = value instead\n",
            "\n",
            "See the caveats in the documentation: https://pandas.pydata.org/pandas-docs/stable/user_guide/indexing.html#returning-a-view-versus-a-copy\n"
          ],
          "name": "stderr"
        },
        {
          "output_type": "stream",
          "text": [
            "Submission file with name Decision_Tree_regressor.csv created successfully\n"
          ],
          "name": "stdout"
        }
      ]
    },
    {
      "cell_type": "code",
      "metadata": {
        "id": "z_sXpw56tvJs",
        "colab": {
          "base_uri": "https://localhost:8080/",
          "height": 997
        },
        "outputId": "c7f573d2-ca5d-4668-97b9-63519fd2aa07"
      },
      "source": [
        "import matplotlib.pyplot as plt\n",
        "importance=reg.feature_importances_\n",
        "feature_important=dict(zip(X_train.columns,importance.tolist()))\n",
        "keys = list(feature_important.keys())\n",
        "values = list(feature_important.values())\n",
        "\n",
        "plt.figure(figsize=(15,15))\n",
        "plt.bar(x=keys,height=values)\n",
        "plt.xticks(rotation='vertical')\n",
        "plt.show()"
      ],
      "execution_count": null,
      "outputs": [
        {
          "output_type": "display_data",
          "data": {
            "image/png": "[encoded data removed]",
            "text/plain": [
              "<Figure size 1080x1080 with 1 Axes>"
            ]
          },
          "metadata": {
            "tags": [],
            "needs_background": "light"
          }
        }
      ]
    },
    {
      "cell_type": "code",
      "metadata": {
        "colab": {
          "base_uri": "https://localhost:8080/",
          "height": 170
        },
        "id": "N8DK93A7Q45u",
        "outputId": "044788f6-a553-4d35-b990-fa8d020c0447"
      },
      "source": [
        "from IPython.display import Image\n",
        "Image(filename='/content/decision.JPG') "
      ],
      "execution_count": null,
      "outputs": [
        {
          "output_type": "execute_result",
          "data": {
            "image/jpeg": "[encoded data removed]",
            "text/plain": [
              "<IPython.core.display.Image object>"
            ]
          },
          "metadata": {
            "tags": []
          },
          "execution_count": 14
        }
      ]
    },
    {
      "cell_type": "markdown",
      "metadata": {
        "id": "YP9NnmbGLp4-"
      },
      "source": [
        "#IMPLEMENTING XG BOOST MODEL"
      ]
    },
    {
      "cell_type": "code",
      "metadata": {
        "id": "DFzJo6DeQbVD"
      },
      "source": [
        "#dividing X_train into two parts for applying incremental training\n",
        "X_train1=X_train.iloc[0:10458070,:]\n",
        "X_train2=X_train.iloc[10458070:57473650,:]"
      ],
      "execution_count": 10,
      "outputs": []
    },
    {
      "cell_type": "code",
      "metadata": {
        "id": "Lr3diNX6UZIx"
      },
      "source": [
        "##dividing y_train into two parts for applying incremental training\n",
        "y_train1=y_train.iloc[0:10458070]\n",
        "y_train2=y_train.iloc[10458070:57473650]"
      ],
      "execution_count": 11,
      "outputs": []
    },
    {
      "cell_type": "code",
      "metadata": {
        "id": "6gT6Q6hJ_6ch"
      },
      "source": [
        "import xgboost as xgb\n",
        "data1=xgb.DMatrix(X_train1[col],label=y_train1)\n",
        "data2=xgb.DMatrix(X_train2[col],label=y_train2)\n",
        "\n",
        "cv_data=xgb.DMatrix(X_cv[col],label=y_cv)\n",
        "test_data=xgb.DMatrix(X_test[col],label=y_test)\n"
      ],
      "execution_count": null,
      "outputs": []
    },
    {
      "cell_type": "code",
      "metadata": {
        "id": "fhtyScLBzXB0",
        "colab": {
          "base_uri": "https://localhost:8080/"
        },
        "outputId": "8c1d9593-4703-4f77-cff6-45b384e9c93f"
      },
      "source": [
        "import xgboost as xgb\n",
        "from sklearn.metrics import mean_squared_error\n",
        "from sklearn.model_selection import GridSearchCV\n",
        "\n",
        "learning_rate=[0.001, 0.01, 0.1, 0.2]\n",
        "n_estimators=[25,50,75,100]#initialising parameters\n",
        "\n",
        "for i in learning_rate:\n",
        "  for j in n_estimators:\n",
        "    param={'learning_rate':i,'n_estimators':j}\n",
        "    reg1=xgb.train(param,data1)\n",
        "    file=\"model\"+str(i)+\"_\"+str(j)+\".model\"\n",
        "    reg1.save_model(file)\n",
        "    reg2=xgb.train(param,data2,xgb_model=file)\n",
        "    \n",
        "    y_pred_cv=reg2.predict(cv_data)\n",
        "    score=np.sqrt(mean_squared_error(y_pred_cv,y_cv))\n",
        "    print(f\"For learning rate {i} and n_estimators {j} the RMSE is {score} \")\n",
        "    print('*'*80)"
      ],
      "execution_count": null,
      "outputs": [
        {
          "output_type": "stream",
          "text": [
            "[10:04:09] WARNING: /workspace/src/learner.cc:686: Tree method is automatically selected to be 'approx' for faster speed. To use old behavior (exact greedy algorithm on single machine), set tree_method to 'exact'.\n",
            "[10:11:12] WARNING: /workspace/src/learner.cc:686: Tree method is automatically selected to be 'approx' for faster speed. To use old behavior (exact greedy algorithm on single machine), set tree_method to 'exact'.\n",
            "For learning rate 0.001 and n_estimators 25 the RMSE is 3.6458301544189453 \n",
            "********************************************************************************\n",
            "[10:19:01] WARNING: /workspace/src/learner.cc:686: Tree method is automatically selected to be 'approx' for faster speed. To use old behavior (exact greedy algorithm on single machine), set tree_method to 'exact'.\n",
            "[10:25:36] WARNING: /workspace/src/learner.cc:686: Tree method is automatically selected to be 'approx' for faster speed. To use old behavior (exact greedy algorithm on single machine), set tree_method to 'exact'.\n",
            "For learning rate 0.001 and n_estimators 50 the RMSE is 3.6458301544189453 \n",
            "********************************************************************************\n",
            "[10:32:24] WARNING: /workspace/src/learner.cc:686: Tree method is automatically selected to be 'approx' for faster speed. To use old behavior (exact greedy algorithm on single machine), set tree_method to 'exact'.\n",
            "[10:39:17] WARNING: /workspace/src/learner.cc:686: Tree method is automatically selected to be 'approx' for faster speed. To use old behavior (exact greedy algorithm on single machine), set tree_method to 'exact'.\n",
            "For learning rate 0.001 and n_estimators 75 the RMSE is 3.6458301544189453 \n",
            "********************************************************************************\n",
            "[10:46:00] WARNING: /workspace/src/learner.cc:686: Tree method is automatically selected to be 'approx' for faster speed. To use old behavior (exact greedy algorithm on single machine), set tree_method to 'exact'.\n",
            "[10:52:40] WARNING: /workspace/src/learner.cc:686: Tree method is automatically selected to be 'approx' for faster speed. To use old behavior (exact greedy algorithm on single machine), set tree_method to 'exact'.\n",
            "For learning rate 0.001 and n_estimators 100 the RMSE is 3.6458301544189453 \n",
            "********************************************************************************\n",
            "[10:59:38] WARNING: /workspace/src/learner.cc:686: Tree method is automatically selected to be 'approx' for faster speed. To use old behavior (exact greedy algorithm on single machine), set tree_method to 'exact'.\n",
            "[11:05:43] WARNING: /workspace/src/learner.cc:686: Tree method is automatically selected to be 'approx' for faster speed. To use old behavior (exact greedy algorithm on single machine), set tree_method to 'exact'.\n",
            "For learning rate 0.01 and n_estimators 25 the RMSE is 3.2064101696014404 \n",
            "********************************************************************************\n",
            "[11:11:39] WARNING: /workspace/src/learner.cc:686: Tree method is automatically selected to be 'approx' for faster speed. To use old behavior (exact greedy algorithm on single machine), set tree_method to 'exact'.\n",
            "[11:17:34] WARNING: /workspace/src/learner.cc:686: Tree method is automatically selected to be 'approx' for faster speed. To use old behavior (exact greedy algorithm on single machine), set tree_method to 'exact'.\n",
            "For learning rate 0.01 and n_estimators 50 the RMSE is 3.2064101696014404 \n",
            "********************************************************************************\n",
            "[11:23:14] WARNING: /workspace/src/learner.cc:686: Tree method is automatically selected to be 'approx' for faster speed. To use old behavior (exact greedy algorithm on single machine), set tree_method to 'exact'.\n",
            "[11:28:47] WARNING: /workspace/src/learner.cc:686: Tree method is automatically selected to be 'approx' for faster speed. To use old behavior (exact greedy algorithm on single machine), set tree_method to 'exact'.\n",
            "For learning rate 0.01 and n_estimators 75 the RMSE is 3.2064101696014404 \n",
            "********************************************************************************\n",
            "[11:34:25] WARNING: /workspace/src/learner.cc:686: Tree method is automatically selected to be 'approx' for faster speed. To use old behavior (exact greedy algorithm on single machine), set tree_method to 'exact'.\n",
            "[11:39:59] WARNING: /workspace/src/learner.cc:686: Tree method is automatically selected to be 'approx' for faster speed. To use old behavior (exact greedy algorithm on single machine), set tree_method to 'exact'.\n",
            "For learning rate 0.01 and n_estimators 100 the RMSE is 3.2064101696014404 \n",
            "********************************************************************************\n",
            "[11:45:39] WARNING: /workspace/src/learner.cc:686: Tree method is automatically selected to be 'approx' for faster speed. To use old behavior (exact greedy algorithm on single machine), set tree_method to 'exact'.\n",
            "[11:51:27] WARNING: /workspace/src/learner.cc:686: Tree method is automatically selected to be 'approx' for faster speed. To use old behavior (exact greedy algorithm on single machine), set tree_method to 'exact'.\n",
            "For learning rate 0.1 and n_estimators 25 the RMSE is 1.8665763139724731 \n",
            "********************************************************************************\n",
            "[11:57:24] WARNING: /workspace/src/learner.cc:686: Tree method is automatically selected to be 'approx' for faster speed. To use old behavior (exact greedy algorithm on single machine), set tree_method to 'exact'.\n",
            "[12:03:01] WARNING: /workspace/src/learner.cc:686: Tree method is automatically selected to be 'approx' for faster speed. To use old behavior (exact greedy algorithm on single machine), set tree_method to 'exact'.\n",
            "For learning rate 0.1 and n_estimators 50 the RMSE is 1.8665763139724731 \n",
            "********************************************************************************\n",
            "[12:09:03] WARNING: /workspace/src/learner.cc:686: Tree method is automatically selected to be 'approx' for faster speed. To use old behavior (exact greedy algorithm on single machine), set tree_method to 'exact'.\n",
            "[12:14:38] WARNING: /workspace/src/learner.cc:686: Tree method is automatically selected to be 'approx' for faster speed. To use old behavior (exact greedy algorithm on single machine), set tree_method to 'exact'.\n",
            "For learning rate 0.1 and n_estimators 75 the RMSE is 1.8665763139724731 \n",
            "********************************************************************************\n",
            "[12:20:26] WARNING: /workspace/src/learner.cc:686: Tree method is automatically selected to be 'approx' for faster speed. To use old behavior (exact greedy algorithm on single machine), set tree_method to 'exact'.\n",
            "[12:26:18] WARNING: /workspace/src/learner.cc:686: Tree method is automatically selected to be 'approx' for faster speed. To use old behavior (exact greedy algorithm on single machine), set tree_method to 'exact'.\n",
            "For learning rate 0.1 and n_estimators 100 the RMSE is 1.8665763139724731 \n",
            "********************************************************************************\n",
            "[12:32:06] WARNING: /workspace/src/learner.cc:686: Tree method is automatically selected to be 'approx' for faster speed. To use old behavior (exact greedy algorithm on single machine), set tree_method to 'exact'.\n",
            "[12:37:45] WARNING: /workspace/src/learner.cc:686: Tree method is automatically selected to be 'approx' for faster speed. To use old behavior (exact greedy algorithm on single machine), set tree_method to 'exact'.\n",
            "For learning rate 0.2 and n_estimators 25 the RMSE is 1.8093595504760742 \n",
            "********************************************************************************\n",
            "[12:43:36] WARNING: /workspace/src/learner.cc:686: Tree method is automatically selected to be 'approx' for faster speed. To use old behavior (exact greedy algorithm on single machine), set tree_method to 'exact'.\n",
            "[12:49:13] WARNING: /workspace/src/learner.cc:686: Tree method is automatically selected to be 'approx' for faster speed. To use old behavior (exact greedy algorithm on single machine), set tree_method to 'exact'.\n",
            "For learning rate 0.2 and n_estimators 50 the RMSE is 1.8093595504760742 \n",
            "********************************************************************************\n",
            "[12:55:01] WARNING: /workspace/src/learner.cc:686: Tree method is automatically selected to be 'approx' for faster speed. To use old behavior (exact greedy algorithm on single machine), set tree_method to 'exact'.\n",
            "[13:00:48] WARNING: /workspace/src/learner.cc:686: Tree method is automatically selected to be 'approx' for faster speed. To use old behavior (exact greedy algorithm on single machine), set tree_method to 'exact'.\n",
            "For learning rate 0.2 and n_estimators 75 the RMSE is 1.8093595504760742 \n",
            "********************************************************************************\n",
            "[13:06:43] WARNING: /workspace/src/learner.cc:686: Tree method is automatically selected to be 'approx' for faster speed. To use old behavior (exact greedy algorithm on single machine), set tree_method to 'exact'.\n",
            "[13:12:36] WARNING: /workspace/src/learner.cc:686: Tree method is automatically selected to be 'approx' for faster speed. To use old behavior (exact greedy algorithm on single machine), set tree_method to 'exact'.\n",
            "For learning rate 0.2 and n_estimators 100 the RMSE is 1.8093595504760742 \n",
            "********************************************************************************\n"
          ],
          "name": "stdout"
        }
      ]
    },
    {
      "cell_type": "code",
      "metadata": {
        "id": "x2lFZ7_gIMhR"
      },
      "source": [
        "import xgboost as xgb\n",
        "from sklearn.metrics import mean_squared_error\n",
        "\n",
        "param={'learning_rate':0.2,'n_estimators':75}\n",
        "reg1=xgb.train(param,data1)\n",
        "file=\"model.model\"\n",
        "reg1.save_model(file)\n",
        "xgb_model=xgb.train(param,data2,xgb_model=file)\n",
        "\n"
      ],
      "execution_count": null,
      "outputs": []
    },
    {
      "cell_type": "code",
      "metadata": {
        "colab": {
          "base_uri": "https://localhost:8080/"
        },
        "id": "M4culxPjaRxP",
        "outputId": "6f505879-63d7-4a3c-ea54-d9e97fbb0960"
      },
      "source": [
        "from sklearn.externals import joblib\n",
        "joblib.dump(xgb_model,'XGB_model.pkl')"
      ],
      "execution_count": null,
      "outputs": [
        {
          "output_type": "stream",
          "text": [
            "/usr/local/lib/python3.7/dist-packages/sklearn/externals/joblib/__init__.py:15: FutureWarning: sklearn.externals.joblib is deprecated in 0.21 and will be removed in 0.23. Please import this functionality directly from joblib, which can be installed with: pip install joblib. If this warning is raised when loading pickled models, you may need to re-serialize those models with scikit-learn 0.21+.\n",
            "  warnings.warn(msg, category=FutureWarning)\n"
          ],
          "name": "stderr"
        }
      ]
    },
    {
      "cell_type": "code",
      "metadata": {
        "colab": {
          "base_uri": "https://localhost:8080/"
        },
        "id": "d4OUokkaFZI3",
        "outputId": "9f269b7d-2943-4605-9a06-b8ca590fad62"
      },
      "source": [
        "y_pred_train1 = xgb_model.predict(data1)\n",
        "y_score_train1= mean_squared_error(y_pred_train1, y_train1)\n",
        "y_pred_train2 = xgb_model.predict(data2)\n",
        "y_score_train2= mean_squared_error(y_pred_train2, y_train2)\n",
        "print(\"TRAIN rmse:\",np.sqrt((y_score_train1+y_score_train2))/2)\n",
        "\n",
        "\n",
        "y_pred_cv = xgb_model.predict(cv_data)\n",
        "y_score_cv= mean_squared_error(y_pred_cv, y_cv)\n",
        "print(\"CV rmse:\",np.sqrt(y_score_cv))\n",
        "\n",
        "y_pred_test = xgb_model.predict(test_data)\n",
        "y_score_test= mean_squared_error(y_pred_test, y_test)\n",
        "print(\"TEST rmse:\",np.sqrt(y_score_test))"
      ],
      "execution_count": null,
      "outputs": [
        {
          "output_type": "stream",
          "text": [
            "TRAIN rmse: 1.3339394330978394\n",
            "CV rmse: 1.8093596\n",
            "TEST rmse: 1.8427035\n"
          ],
          "name": "stdout"
        }
      ]
    },
    {
      "cell_type": "code",
      "metadata": {
        "id": "yvMzaJclZSGL"
      },
      "source": [
        "xgb_model=joblib.load(\"/content/XGB_model.pkl\")"
      ],
      "execution_count": null,
      "outputs": []
    },
    {
      "cell_type": "code",
      "metadata": {
        "id": "a2W6hEF1S8_t"
      },
      "source": [
        "generate_submission_file(xgb_model,X_cv,X_test,\"Xgboost.csv\")"
      ],
      "execution_count": null,
      "outputs": []
    },
    {
      "cell_type": "code",
      "metadata": {
        "id": "F2PaTeAD1ZYH",
        "colab": {
          "base_uri": "https://localhost:8080/",
          "height": 997
        },
        "outputId": "8471905e-8dad-4111-a32f-1a61b12a83d2"
      },
      "source": [
        "import matplotlib.pyplot as plt\n",
        "feature_important = xgb_model.get_score(importance_type='weight')\n",
        "keys = list(feature_important.keys())\n",
        "values = list(feature_important.values())\n",
        "\n",
        "plt.figure(figsize=(15,15))\n",
        "plt.bar(x=keys,height=values)\n",
        "plt.xticks(rotation='vertical')\n",
        "plt.show()"
      ],
      "execution_count": null,
      "outputs": [
        {
          "output_type": "display_data",
          "data": {
            "image/png": "[encoded data removed]",
            "text/plain": [
              "<Figure size 1080x1080 with 1 Axes>"
            ]
          },
          "metadata": {
            "tags": [],
            "needs_background": "light"
          }
        }
      ]
    },
    {
      "cell_type": "markdown",
      "metadata": {
        "id": "wv-NgqhOLuWp"
      },
      "source": [
        "#IMPLEMENTING LIGHTGB MODEL"
      ]
    },
    {
      "cell_type": "code",
      "metadata": {
        "id": "TzemSTtO3C18"
      },
      "source": [
        "import lightgbm as lgb\n",
        "data1=lgb.Dataset(X_train1[col],label=y_train1,free_raw_data=False)\n",
        "data2=lgb.Dataset(X_train2[col],label=y_train2,free_raw_data=False)\n",
        "\n",
        "cv_data=lgb.Dataset(X_cv[col],label=y_cv)\n",
        "test_data=lgb.Dataset(X_test[col],label=y_test)"
      ],
      "execution_count": 12,
      "outputs": []
    },
    {
      "cell_type": "code",
      "metadata": {
        "id": "uS1jWW2iEkI8"
      },
      "source": [
        "import lightgbm as lgb\n",
        "import warnings\n",
        "warnings.filterwarnings(\"ignore\")\n",
        "\n",
        "from sklearn.metrics import mean_squared_error\n",
        "\n",
        "\n",
        "learning_rate=[ 0.05,0.03,0.01, 0.1, 0.2]\n",
        "n_estimators=[50,75,100,250]#initialising parameters\n",
        "\n",
        "for i in learning_rate:\n",
        "  for j in n_estimators:\n",
        "    param={'learning_rate':i,'n_estimators':j}\n",
        "    reg1=lgb.train(param,data1)\n",
        "    \n",
        "    file=\"model1\"+str(i)+\"_\"+str(j)+\".model\"\n",
        "    reg1.save_model(file)\n",
        "    reg2=lgb.train(param,data2,init_model=file)\n",
        "    \n",
        "    \n",
        "    y_pred_cv=reg2.predict(X_cv)\n",
        "    score=np.sqrt(mean_squared_error(y_pred_cv,y_cv))\n",
        "    print(f\"For learning rate {i} and n_estimators {j} the RMSE is {score} \")\n",
        "    print('*'*80)\n"
      ],
      "execution_count": null,
      "outputs": []
    },
    {
      "cell_type": "code",
      "metadata": {
        "id": "s7AWLlC2GfDX",
        "colab": {
          "base_uri": "https://localhost:8080/"
        },
        "outputId": "1a3fd435-23f5-4e86-f566-8cdac1f2118e"
      },
      "source": [
        "import lightgbm as lgb\n",
        "from sklearn.metrics import mean_squared_error\n",
        "param={'learning_rate':0.05,'n_estimators':100}\n",
        "\n",
        "reg1=lgb.train(param,data1)\n",
        "file=\"model1.model\"\n",
        "reg1.save_model(file)\n",
        "lgb_model=lgb.train(param,data2,init_model=file)\n",
        "\n",
        "y_train_pred = lgb_model.predict(X_train[col])\n",
        "y_score_train = mean_squared_error(y_train_pred, y_train)\n",
        "print(\"train rmse:\",np.sqrt(y_score_train))\n",
        "\n",
        "y_cv_pred = lgb_model.predict(X_cv[col])\n",
        "y_score_cv = mean_squared_error(y_cv_pred, y_cv)\n",
        "print(\"CV rmse:\",np.sqrt(y_score_cv))\n",
        "\n",
        "\n",
        "y_test_pred = lgb_model.predict(X_test[col])\n",
        "y_score_test = mean_squared_error(y_test_pred, y_test)\n",
        "print(\"test rmse:\",np.sqrt(y_score_test))"
      ],
      "execution_count": 13,
      "outputs": [
        {
          "output_type": "stream",
          "text": [
            "/usr/local/lib/python3.7/dist-packages/lightgbm/engine.py:118: UserWarning: Found `n_estimators` in params. Will use it instead of argument\n",
            "  warnings.warn(\"Found `{}` in params. Will use it instead of argument\".format(alias))\n"
          ],
          "name": "stderr"
        },
        {
          "output_type": "stream",
          "text": [
            "train rmse: 1.7283635108038997\n",
            "CV rmse: 1.7463282236434132\n",
            "test rmse: 1.755325015553907\n"
          ],
          "name": "stdout"
        }
      ]
    },
    {
      "cell_type": "code",
      "metadata": {
        "id": "QvbKZsBl6rWV",
        "colab": {
          "base_uri": "https://localhost:8080/"
        },
        "outputId": "cc1ef423-07ec-4abd-9f40-2eb44c6ba030"
      },
      "source": [
        "generate_submission_file(lgb_model,X_cv[col],X_test[col],\"lgbm1.csv\")"
      ],
      "execution_count": 15,
      "outputs": [
        {
          "output_type": "stream",
          "text": [
            "/usr/local/lib/python3.7/dist-packages/ipykernel_launcher.py:26: SettingWithCopyWarning: \n",
            "A value is trying to be set on a copy of a slice from a DataFrame.\n",
            "Try using .loc[row_indexer,col_indexer] = value instead\n",
            "\n",
            "See the caveats in the documentation: https://pandas.pydata.org/pandas-docs/stable/user_guide/indexing.html#returning-a-view-versus-a-copy\n",
            "/usr/local/lib/python3.7/dist-packages/ipykernel_launcher.py:27: SettingWithCopyWarning: \n",
            "A value is trying to be set on a copy of a slice from a DataFrame.\n",
            "Try using .loc[row_indexer,col_indexer] = value instead\n",
            "\n",
            "See the caveats in the documentation: https://pandas.pydata.org/pandas-docs/stable/user_guide/indexing.html#returning-a-view-versus-a-copy\n"
          ],
          "name": "stderr"
        },
        {
          "output_type": "stream",
          "text": [
            "Submission file with name lgbm1.csv created successfully\n"
          ],
          "name": "stdout"
        }
      ]
    },
    {
      "cell_type": "code",
      "metadata": {
        "id": "pgswj9qicX7F",
        "colab": {
          "base_uri": "https://localhost:8080/",
          "height": 657
        },
        "outputId": "769ce406-4936-4a77-f472-a641ba0e05aa"
      },
      "source": [
        "import matplotlib.pyplot as plt\n",
        "import seaborn as sns\n",
        "import warnings\n",
        "warnings.simplefilter(action='ignore', category=FutureWarning)\n",
        "xg=joblib.load(\"model.pkl\")\n",
        "\n",
        "# sorted(zip(clf.feature_importances_, X.columns), reverse=True)\n",
        "feature_imp = pd.DataFrame(sorted(zip(xg.feature_importance(),X_train[col].columns)), columns=['Value','Feature'])\n",
        "\n",
        "plt.figure(figsize=(18, 9))\n",
        "sns.barplot(x=\"Value\", y=\"Feature\", data=feature_imp.sort_values(by=\"Value\", ascending=False))\n",
        "plt.title('LightGBM Features (avg over folds)')\n",
        "plt.tight_layout()\n",
        "plt.show()\n"
      ],
      "execution_count": null,
      "outputs": [
        {
          "output_type": "display_data",
          "data": {
            "image/png": "[encoded data removed]",
            "text/plain": [
              "<Figure size 1296x648 with 1 Axes>"
            ]
          },
          "metadata": {
            "tags": [],
            "needs_background": "light"
          }
        }
      ]
    },
    {
      "cell_type": "code",
      "metadata": {
        "id": "VuaiEN9TNLqu"
      },
      "source": [
        "from IPython.display import Image\n",
        "Image(filename='lgbm.JPG') "
      ],
      "execution_count": null,
      "outputs": []
    },
    {
      "cell_type": "markdown",
      "metadata": {
        "id": "KPpE6VAIYf3R"
      },
      "source": [
        "##IMPLEMENTING CATBOOST MODEL"
      ]
    },
    {
      "cell_type": "code",
      "metadata": {
        "id": "VkURr25HY9yR",
        "colab": {
          "base_uri": "https://localhost:8080/"
        },
        "outputId": "fb7b307b-f690-48fc-86ad-8ffd13ec1dd4"
      },
      "source": [
        "!pip3 install catboost\n",
        "\n"
      ],
      "execution_count": 16,
      "outputs": [
        {
          "output_type": "stream",
          "text": [
            "Collecting catboost\n",
            "  Downloading catboost-0.26-cp37-none-manylinux1_x86_64.whl (69.2 MB)\n",
            "\u001b[K     |████████████████████████████████| 69.2 MB 5.5 kB/s \n",
            "\u001b[?25hRequirement already satisfied: numpy>=1.16.0 in /usr/local/lib/python3.7/dist-packages (from catboost) (1.19.5)\n",
            "Requirement already satisfied: pandas>=0.24.0 in /usr/local/lib/python3.7/dist-packages (from catboost) (1.1.5)\n",
            "Requirement already satisfied: graphviz in /usr/local/lib/python3.7/dist-packages (from catboost) (0.10.1)\n",
            "Requirement already satisfied: plotly in /usr/local/lib/python3.7/dist-packages (from catboost) (4.4.1)\n",
            "Requirement already satisfied: six in /usr/local/lib/python3.7/dist-packages (from catboost) (1.15.0)\n",
            "Requirement already satisfied: scipy in /usr/local/lib/python3.7/dist-packages (from catboost) (1.4.1)\n",
            "Requirement already satisfied: matplotlib in /usr/local/lib/python3.7/dist-packages (from catboost) (3.2.2)\n",
            "Requirement already satisfied: python-dateutil>=2.7.3 in /usr/local/lib/python3.7/dist-packages (from pandas>=0.24.0->catboost) (2.8.1)\n",
            "Requirement already satisfied: pytz>=2017.2 in /usr/local/lib/python3.7/dist-packages (from pandas>=0.24.0->catboost) (2018.9)\n",
            "Requirement already satisfied: pyparsing!=2.0.4,!=2.1.2,!=2.1.6,>=2.0.1 in /usr/local/lib/python3.7/dist-packages (from matplotlib->catboost) (2.4.7)\n",
            "Requirement already satisfied: cycler>=0.10 in /usr/local/lib/python3.7/dist-packages (from matplotlib->catboost) (0.10.0)\n",
            "Requirement already satisfied: kiwisolver>=1.0.1 in /usr/local/lib/python3.7/dist-packages (from matplotlib->catboost) (1.3.1)\n",
            "Requirement already satisfied: retrying>=1.3.3 in /usr/local/lib/python3.7/dist-packages (from plotly->catboost) (1.3.3)\n",
            "Installing collected packages: catboost\n",
            "Successfully installed catboost-0.26\n"
          ],
          "name": "stdout"
        }
      ]
    },
    {
      "cell_type": "code",
      "metadata": {
        "id": "lo-R4gmMYijI",
        "colab": {
          "base_uri": "https://localhost:8080/"
        },
        "outputId": "e6ec5107-542b-4af9-d38c-3cea6bbd1458"
      },
      "source": [
        "import catboost as cb\n",
        "from sklearn.metrics import mean_squared_error\n",
        "\n",
        "model = cb.CatBoostRegressor(loss_function='RMSE')\n",
        "model.fit(X_train,y_train)"
      ],
      "execution_count": 17,
      "outputs": [
        {
          "output_type": "stream",
          "text": [
            "Learning rate set to 0.229322\n",
            "0:\tlearn: 3.0687635\ttotal: 1.83s\tremaining: 30m 29s\n",
            "1:\tlearn: 2.6832563\ttotal: 3.57s\tremaining: 29m 43s\n",
            "2:\tlearn: 2.4086685\ttotal: 5.15s\tremaining: 28m 32s\n",
            "3:\tlearn: 2.2199961\ttotal: 6.61s\tremaining: 27m 26s\n",
            "4:\tlearn: 2.0896796\ttotal: 8.35s\tremaining: 27m 42s\n",
            "5:\tlearn: 2.0005761\ttotal: 10s\tremaining: 27m 41s\n",
            "6:\tlearn: 1.9423436\ttotal: 11.8s\tremaining: 27m 56s\n",
            "7:\tlearn: 1.9043295\ttotal: 13.4s\tremaining: 27m 38s\n",
            "8:\tlearn: 1.8795976\ttotal: 14.9s\tremaining: 27m 18s\n",
            "9:\tlearn: 1.8625768\ttotal: 16.4s\tremaining: 27m 2s\n",
            "10:\tlearn: 1.8503608\ttotal: 18s\tremaining: 26m 58s\n",
            "11:\tlearn: 1.8419296\ttotal: 19.5s\tremaining: 26m 46s\n",
            "12:\tlearn: 1.8352669\ttotal: 21.2s\tremaining: 26m 50s\n",
            "13:\tlearn: 1.8301630\ttotal: 23s\tremaining: 26m 57s\n",
            "14:\tlearn: 1.8254499\ttotal: 24.5s\tremaining: 26m 48s\n",
            "15:\tlearn: 1.8227268\ttotal: 25.9s\tremaining: 26m 35s\n",
            "16:\tlearn: 1.8198307\ttotal: 27.4s\tremaining: 26m 24s\n",
            "17:\tlearn: 1.8173967\ttotal: 28.9s\tremaining: 26m 16s\n",
            "18:\tlearn: 1.8147652\ttotal: 30.8s\tremaining: 26m 30s\n",
            "19:\tlearn: 1.8120693\ttotal: 32.7s\tremaining: 26m 40s\n",
            "20:\tlearn: 1.8106647\ttotal: 34.4s\tremaining: 26m 43s\n",
            "21:\tlearn: 1.8079466\ttotal: 35.8s\tremaining: 26m 30s\n",
            "22:\tlearn: 1.8057846\ttotal: 37.5s\tremaining: 26m 33s\n",
            "23:\tlearn: 1.8039189\ttotal: 39s\tremaining: 26m 26s\n",
            "24:\tlearn: 1.8011607\ttotal: 40.8s\tremaining: 26m 31s\n",
            "25:\tlearn: 1.7998097\ttotal: 42.4s\tremaining: 26m 30s\n",
            "26:\tlearn: 1.7983563\ttotal: 43.8s\tremaining: 26m 18s\n",
            "27:\tlearn: 1.7979345\ttotal: 45.4s\tremaining: 26m 15s\n",
            "28:\tlearn: 1.7962173\ttotal: 47s\tremaining: 26m 15s\n",
            "29:\tlearn: 1.7943132\ttotal: 49.2s\tremaining: 26m 31s\n",
            "30:\tlearn: 1.7929941\ttotal: 51.2s\tremaining: 26m 40s\n",
            "31:\tlearn: 1.7919707\ttotal: 52.8s\tremaining: 26m 37s\n",
            "32:\tlearn: 1.7912294\ttotal: 54.2s\tremaining: 26m 28s\n",
            "33:\tlearn: 1.7887416\ttotal: 55.9s\tremaining: 26m 28s\n",
            "34:\tlearn: 1.7871263\ttotal: 57.8s\tremaining: 26m 34s\n",
            "35:\tlearn: 1.7850891\ttotal: 59.4s\tremaining: 26m 30s\n",
            "36:\tlearn: 1.7840902\ttotal: 1m 1s\tremaining: 26m 42s\n",
            "37:\tlearn: 1.7831669\ttotal: 1m 3s\tremaining: 26m 35s\n",
            "38:\tlearn: 1.7815326\ttotal: 1m 4s\tremaining: 26m 38s\n",
            "39:\tlearn: 1.7807771\ttotal: 1m 6s\tremaining: 26m 36s\n",
            "40:\tlearn: 1.7798654\ttotal: 1m 7s\tremaining: 26m 28s\n",
            "41:\tlearn: 1.7790875\ttotal: 1m 9s\tremaining: 26m 20s\n",
            "42:\tlearn: 1.7784068\ttotal: 1m 11s\tremaining: 26m 25s\n",
            "43:\tlearn: 1.7771397\ttotal: 1m 12s\tremaining: 26m 21s\n",
            "44:\tlearn: 1.7765180\ttotal: 1m 14s\tremaining: 26m 16s\n",
            "45:\tlearn: 1.7753652\ttotal: 1m 15s\tremaining: 26m 13s\n",
            "46:\tlearn: 1.7742657\ttotal: 1m 17s\tremaining: 26m 11s\n",
            "47:\tlearn: 1.7737531\ttotal: 1m 19s\tremaining: 26m 19s\n",
            "48:\tlearn: 1.7725951\ttotal: 1m 21s\tremaining: 26m 12s\n",
            "49:\tlearn: 1.7720937\ttotal: 1m 22s\tremaining: 26m 3s\n",
            "50:\tlearn: 1.7715112\ttotal: 1m 23s\tremaining: 25m 54s\n",
            "51:\tlearn: 1.7704434\ttotal: 1m 24s\tremaining: 25m 49s\n",
            "52:\tlearn: 1.7699557\ttotal: 1m 26s\tremaining: 25m 49s\n",
            "53:\tlearn: 1.7687328\ttotal: 1m 28s\tremaining: 25m 55s\n",
            "54:\tlearn: 1.7676241\ttotal: 1m 30s\tremaining: 25m 53s\n",
            "55:\tlearn: 1.7671512\ttotal: 1m 32s\tremaining: 25m 54s\n",
            "56:\tlearn: 1.7660930\ttotal: 1m 33s\tremaining: 25m 54s\n",
            "57:\tlearn: 1.7653483\ttotal: 1m 35s\tremaining: 25m 51s\n",
            "58:\tlearn: 1.7642934\ttotal: 1m 36s\tremaining: 25m 46s\n",
            "59:\tlearn: 1.7634126\ttotal: 1m 38s\tremaining: 25m 44s\n",
            "60:\tlearn: 1.7624419\ttotal: 1m 39s\tremaining: 25m 38s\n",
            "61:\tlearn: 1.7617313\ttotal: 1m 41s\tremaining: 25m 36s\n",
            "62:\tlearn: 1.7608614\ttotal: 1m 43s\tremaining: 25m 32s\n",
            "63:\tlearn: 1.7601128\ttotal: 1m 44s\tremaining: 25m 32s\n",
            "64:\tlearn: 1.7588709\ttotal: 1m 46s\tremaining: 25m 32s\n",
            "65:\tlearn: 1.7579722\ttotal: 1m 48s\tremaining: 25m 29s\n",
            "66:\tlearn: 1.7574624\ttotal: 1m 49s\tremaining: 25m 30s\n",
            "67:\tlearn: 1.7567016\ttotal: 1m 51s\tremaining: 25m 25s\n",
            "68:\tlearn: 1.7561142\ttotal: 1m 53s\tremaining: 25m 29s\n",
            "69:\tlearn: 1.7554168\ttotal: 1m 55s\tremaining: 25m 29s\n",
            "70:\tlearn: 1.7545628\ttotal: 1m 57s\tremaining: 25m 31s\n",
            "71:\tlearn: 1.7539707\ttotal: 1m 59s\tremaining: 25m 39s\n",
            "72:\tlearn: 1.7532550\ttotal: 2m 1s\tremaining: 25m 38s\n",
            "73:\tlearn: 1.7527647\ttotal: 2m 2s\tremaining: 25m 35s\n",
            "74:\tlearn: 1.7520325\ttotal: 2m 4s\tremaining: 25m 33s\n",
            "75:\tlearn: 1.7514619\ttotal: 2m 6s\tremaining: 25m 33s\n",
            "76:\tlearn: 1.7506638\ttotal: 2m 7s\tremaining: 25m 30s\n",
            "77:\tlearn: 1.7503219\ttotal: 2m 9s\tremaining: 25m 32s\n",
            "78:\tlearn: 1.7499485\ttotal: 2m 11s\tremaining: 25m 36s\n",
            "79:\tlearn: 1.7492206\ttotal: 2m 13s\tremaining: 25m 30s\n",
            "80:\tlearn: 1.7483301\ttotal: 2m 14s\tremaining: 25m 25s\n",
            "81:\tlearn: 1.7478370\ttotal: 2m 15s\tremaining: 25m 20s\n",
            "82:\tlearn: 1.7473805\ttotal: 2m 17s\tremaining: 25m 19s\n",
            "83:\tlearn: 1.7465422\ttotal: 2m 19s\tremaining: 25m 16s\n",
            "84:\tlearn: 1.7461055\ttotal: 2m 20s\tremaining: 25m 11s\n",
            "85:\tlearn: 1.7456935\ttotal: 2m 21s\tremaining: 25m 8s\n",
            "86:\tlearn: 1.7452406\ttotal: 2m 23s\tremaining: 25m 5s\n",
            "87:\tlearn: 1.7447146\ttotal: 2m 24s\tremaining: 25m 1s\n",
            "88:\tlearn: 1.7440996\ttotal: 2m 26s\tremaining: 25m\n",
            "89:\tlearn: 1.7436151\ttotal: 2m 28s\tremaining: 24m 57s\n",
            "90:\tlearn: 1.7431859\ttotal: 2m 29s\tremaining: 24m 54s\n",
            "91:\tlearn: 1.7426115\ttotal: 2m 31s\tremaining: 24m 52s\n",
            "92:\tlearn: 1.7422625\ttotal: 2m 33s\tremaining: 24m 57s\n",
            "93:\tlearn: 1.7418337\ttotal: 2m 34s\tremaining: 24m 52s\n",
            "94:\tlearn: 1.7413963\ttotal: 2m 36s\tremaining: 24m 52s\n",
            "95:\tlearn: 1.7408794\ttotal: 2m 38s\tremaining: 24m 51s\n",
            "96:\tlearn: 1.7403863\ttotal: 2m 39s\tremaining: 24m 49s\n",
            "97:\tlearn: 1.7399641\ttotal: 2m 41s\tremaining: 24m 44s\n",
            "98:\tlearn: 1.7396638\ttotal: 2m 42s\tremaining: 24m 43s\n",
            "99:\tlearn: 1.7391270\ttotal: 2m 44s\tremaining: 24m 39s\n",
            "100:\tlearn: 1.7386621\ttotal: 2m 45s\tremaining: 24m 37s\n",
            "101:\tlearn: 1.7383203\ttotal: 2m 47s\tremaining: 24m 38s\n",
            "102:\tlearn: 1.7376902\ttotal: 2m 49s\tremaining: 24m 35s\n",
            "103:\tlearn: 1.7372410\ttotal: 2m 51s\tremaining: 24m 33s\n",
            "104:\tlearn: 1.7368030\ttotal: 2m 52s\tremaining: 24m 29s\n",
            "105:\tlearn: 1.7362939\ttotal: 2m 54s\tremaining: 24m 28s\n",
            "106:\tlearn: 1.7358972\ttotal: 2m 56s\tremaining: 24m 30s\n",
            "107:\tlearn: 1.7353352\ttotal: 2m 57s\tremaining: 24m 27s\n",
            "108:\tlearn: 1.7350457\ttotal: 2m 58s\tremaining: 24m 22s\n",
            "109:\tlearn: 1.7346359\ttotal: 3m\tremaining: 24m 20s\n",
            "110:\tlearn: 1.7339939\ttotal: 3m 2s\tremaining: 24m 19s\n",
            "111:\tlearn: 1.7334512\ttotal: 3m 3s\tremaining: 24m 18s\n",
            "112:\tlearn: 1.7330825\ttotal: 3m 5s\tremaining: 24m 14s\n",
            "113:\tlearn: 1.7327021\ttotal: 3m 6s\tremaining: 24m 11s\n",
            "114:\tlearn: 1.7323450\ttotal: 3m 8s\tremaining: 24m 8s\n",
            "115:\tlearn: 1.7319298\ttotal: 3m 9s\tremaining: 24m 5s\n",
            "116:\tlearn: 1.7313489\ttotal: 3m 11s\tremaining: 24m 2s\n",
            "117:\tlearn: 1.7311207\ttotal: 3m 12s\tremaining: 23m 59s\n",
            "118:\tlearn: 1.7307382\ttotal: 3m 13s\tremaining: 23m 55s\n",
            "119:\tlearn: 1.7304607\ttotal: 3m 15s\tremaining: 23m 53s\n",
            "120:\tlearn: 1.7299284\ttotal: 3m 17s\tremaining: 23m 52s\n",
            "121:\tlearn: 1.7295570\ttotal: 3m 18s\tremaining: 23m 50s\n",
            "122:\tlearn: 1.7291398\ttotal: 3m 20s\tremaining: 23m 47s\n",
            "123:\tlearn: 1.7286913\ttotal: 3m 21s\tremaining: 23m 44s\n",
            "124:\tlearn: 1.7284255\ttotal: 3m 23s\tremaining: 23m 42s\n",
            "125:\tlearn: 1.7281022\ttotal: 3m 24s\tremaining: 23m 40s\n",
            "126:\tlearn: 1.7277666\ttotal: 3m 26s\tremaining: 23m 42s\n",
            "127:\tlearn: 1.7275266\ttotal: 3m 28s\tremaining: 23m 39s\n",
            "128:\tlearn: 1.7272656\ttotal: 3m 29s\tremaining: 23m 36s\n",
            "129:\tlearn: 1.7268949\ttotal: 3m 31s\tremaining: 23m 34s\n",
            "130:\tlearn: 1.7264483\ttotal: 3m 33s\tremaining: 23m 35s\n",
            "131:\tlearn: 1.7261450\ttotal: 3m 35s\tremaining: 23m 35s\n",
            "132:\tlearn: 1.7260429\ttotal: 3m 37s\tremaining: 23m 35s\n",
            "133:\tlearn: 1.7257192\ttotal: 3m 38s\tremaining: 23m 33s\n",
            "134:\tlearn: 1.7252459\ttotal: 3m 40s\tremaining: 23m 31s\n",
            "135:\tlearn: 1.7246709\ttotal: 3m 41s\tremaining: 23m 29s\n",
            "136:\tlearn: 1.7241948\ttotal: 3m 43s\tremaining: 23m 26s\n",
            "137:\tlearn: 1.7237944\ttotal: 3m 44s\tremaining: 23m 24s\n",
            "138:\tlearn: 1.7234689\ttotal: 3m 46s\tremaining: 23m 25s\n",
            "139:\tlearn: 1.7227536\ttotal: 3m 48s\tremaining: 23m 24s\n",
            "140:\tlearn: 1.7224811\ttotal: 3m 49s\tremaining: 23m 20s\n",
            "141:\tlearn: 1.7219894\ttotal: 3m 51s\tremaining: 23m 17s\n",
            "142:\tlearn: 1.7216305\ttotal: 3m 52s\tremaining: 23m 15s\n",
            "143:\tlearn: 1.7212837\ttotal: 3m 54s\tremaining: 23m 14s\n",
            "144:\tlearn: 1.7210100\ttotal: 3m 56s\tremaining: 23m 13s\n",
            "145:\tlearn: 1.7205954\ttotal: 3m 57s\tremaining: 23m 11s\n",
            "146:\tlearn: 1.7202967\ttotal: 3m 59s\tremaining: 23m 11s\n",
            "147:\tlearn: 1.7199482\ttotal: 4m 1s\tremaining: 23m 10s\n",
            "148:\tlearn: 1.7195625\ttotal: 4m 3s\tremaining: 23m 9s\n",
            "149:\tlearn: 1.7191227\ttotal: 4m 4s\tremaining: 23m 7s\n",
            "150:\tlearn: 1.7187259\ttotal: 4m 6s\tremaining: 23m 5s\n",
            "151:\tlearn: 1.7183305\ttotal: 4m 8s\tremaining: 23m 4s\n",
            "152:\tlearn: 1.7180548\ttotal: 4m 9s\tremaining: 23m 3s\n",
            "153:\tlearn: 1.7177735\ttotal: 4m 11s\tremaining: 23m 1s\n",
            "154:\tlearn: 1.7174340\ttotal: 4m 13s\tremaining: 22m 59s\n",
            "155:\tlearn: 1.7173105\ttotal: 4m 15s\tremaining: 23m 1s\n",
            "156:\tlearn: 1.7170122\ttotal: 4m 16s\tremaining: 22m 59s\n",
            "157:\tlearn: 1.7164227\ttotal: 4m 18s\tremaining: 22m 57s\n",
            "158:\tlearn: 1.7158829\ttotal: 4m 19s\tremaining: 22m 54s\n",
            "159:\tlearn: 1.7155069\ttotal: 4m 21s\tremaining: 22m 52s\n",
            "160:\tlearn: 1.7150163\ttotal: 4m 22s\tremaining: 22m 49s\n",
            "161:\tlearn: 1.7148080\ttotal: 4m 24s\tremaining: 22m 46s\n",
            "162:\tlearn: 1.7144859\ttotal: 4m 25s\tremaining: 22m 45s\n",
            "163:\tlearn: 1.7142358\ttotal: 4m 27s\tremaining: 22m 44s\n",
            "164:\tlearn: 1.7139399\ttotal: 4m 29s\tremaining: 22m 41s\n",
            "165:\tlearn: 1.7137236\ttotal: 4m 30s\tremaining: 22m 38s\n",
            "166:\tlearn: 1.7133616\ttotal: 4m 32s\tremaining: 22m 37s\n",
            "167:\tlearn: 1.7130658\ttotal: 4m 33s\tremaining: 22m 36s\n",
            "168:\tlearn: 1.7127371\ttotal: 4m 35s\tremaining: 22m 34s\n",
            "169:\tlearn: 1.7125533\ttotal: 4m 37s\tremaining: 22m 32s\n",
            "170:\tlearn: 1.7123162\ttotal: 4m 38s\tremaining: 22m 30s\n",
            "171:\tlearn: 1.7121124\ttotal: 4m 39s\tremaining: 22m 27s\n",
            "172:\tlearn: 1.7118892\ttotal: 4m 41s\tremaining: 22m 26s\n",
            "173:\tlearn: 1.7115458\ttotal: 4m 43s\tremaining: 22m 27s\n",
            "174:\tlearn: 1.7113134\ttotal: 4m 45s\tremaining: 22m 26s\n",
            "175:\tlearn: 1.7110789\ttotal: 4m 47s\tremaining: 22m 25s\n",
            "176:\tlearn: 1.7106846\ttotal: 4m 48s\tremaining: 22m 23s\n",
            "177:\tlearn: 1.7103928\ttotal: 4m 50s\tremaining: 22m 21s\n",
            "178:\tlearn: 1.7100860\ttotal: 4m 52s\tremaining: 22m 19s\n",
            "179:\tlearn: 1.7098149\ttotal: 4m 53s\tremaining: 22m 19s\n",
            "180:\tlearn: 1.7093875\ttotal: 4m 55s\tremaining: 22m 17s\n",
            "181:\tlearn: 1.7090427\ttotal: 4m 57s\tremaining: 22m 15s\n",
            "182:\tlearn: 1.7087680\ttotal: 4m 58s\tremaining: 22m 13s\n",
            "183:\tlearn: 1.7085292\ttotal: 5m\tremaining: 22m 10s\n",
            "184:\tlearn: 1.7081624\ttotal: 5m 1s\tremaining: 22m 8s\n",
            "185:\tlearn: 1.7078354\ttotal: 5m 3s\tremaining: 22m 6s\n",
            "186:\tlearn: 1.7074981\ttotal: 5m 4s\tremaining: 22m 5s\n",
            "187:\tlearn: 1.7073475\ttotal: 5m 6s\tremaining: 22m 2s\n",
            "188:\tlearn: 1.7070687\ttotal: 5m 7s\tremaining: 22m\n",
            "189:\tlearn: 1.7066546\ttotal: 5m 9s\tremaining: 21m 59s\n",
            "190:\tlearn: 1.7063862\ttotal: 5m 10s\tremaining: 21m 55s\n",
            "191:\tlearn: 1.7061608\ttotal: 5m 12s\tremaining: 21m 54s\n",
            "192:\tlearn: 1.7057930\ttotal: 5m 13s\tremaining: 21m 52s\n",
            "193:\tlearn: 1.7054976\ttotal: 5m 15s\tremaining: 21m 50s\n",
            "194:\tlearn: 1.7051896\ttotal: 5m 16s\tremaining: 21m 47s\n",
            "195:\tlearn: 1.7048439\ttotal: 5m 18s\tremaining: 21m 45s\n",
            "196:\tlearn: 1.7045606\ttotal: 5m 19s\tremaining: 21m 43s\n",
            "197:\tlearn: 1.7042177\ttotal: 5m 21s\tremaining: 21m 42s\n",
            "198:\tlearn: 1.7039665\ttotal: 5m 22s\tremaining: 21m 39s\n",
            "199:\tlearn: 1.7037409\ttotal: 5m 25s\tremaining: 21m 40s\n",
            "200:\tlearn: 1.7034916\ttotal: 5m 26s\tremaining: 21m 39s\n",
            "201:\tlearn: 1.7031878\ttotal: 5m 28s\tremaining: 21m 37s\n",
            "202:\tlearn: 1.7028176\ttotal: 5m 29s\tremaining: 21m 35s\n",
            "203:\tlearn: 1.7025243\ttotal: 5m 31s\tremaining: 21m 32s\n",
            "204:\tlearn: 1.7023141\ttotal: 5m 32s\tremaining: 21m 30s\n",
            "205:\tlearn: 1.7021024\ttotal: 5m 34s\tremaining: 21m 30s\n",
            "206:\tlearn: 1.7019032\ttotal: 5m 36s\tremaining: 21m 29s\n",
            "207:\tlearn: 1.7015920\ttotal: 5m 38s\tremaining: 21m 27s\n",
            "208:\tlearn: 1.7014026\ttotal: 5m 39s\tremaining: 21m 24s\n",
            "209:\tlearn: 1.7011684\ttotal: 5m 40s\tremaining: 21m 22s\n",
            "210:\tlearn: 1.7010109\ttotal: 5m 42s\tremaining: 21m 20s\n",
            "211:\tlearn: 1.7007040\ttotal: 5m 44s\tremaining: 21m 19s\n",
            "212:\tlearn: 1.7004192\ttotal: 5m 45s\tremaining: 21m 17s\n",
            "213:\tlearn: 1.7002238\ttotal: 5m 47s\tremaining: 21m 16s\n",
            "214:\tlearn: 1.6998859\ttotal: 5m 49s\tremaining: 21m 14s\n",
            "215:\tlearn: 1.6995782\ttotal: 5m 50s\tremaining: 21m 13s\n",
            "216:\tlearn: 1.6993198\ttotal: 5m 52s\tremaining: 21m 12s\n",
            "217:\tlearn: 1.6991922\ttotal: 5m 54s\tremaining: 21m 11s\n",
            "218:\tlearn: 1.6989991\ttotal: 5m 56s\tremaining: 21m 11s\n",
            "219:\tlearn: 1.6987938\ttotal: 5m 58s\tremaining: 21m 10s\n",
            "220:\tlearn: 1.6985758\ttotal: 5m 59s\tremaining: 21m 7s\n",
            "221:\tlearn: 1.6983444\ttotal: 6m 1s\tremaining: 21m 5s\n",
            "222:\tlearn: 1.6981096\ttotal: 6m 2s\tremaining: 21m 3s\n",
            "223:\tlearn: 1.6979281\ttotal: 6m 4s\tremaining: 21m 1s\n",
            "224:\tlearn: 1.6977379\ttotal: 6m 5s\tremaining: 20m 59s\n",
            "225:\tlearn: 1.6975131\ttotal: 6m 7s\tremaining: 20m 58s\n",
            "226:\tlearn: 1.6971231\ttotal: 6m 9s\tremaining: 20m 56s\n",
            "227:\tlearn: 1.6968394\ttotal: 6m 10s\tremaining: 20m 54s\n",
            "228:\tlearn: 1.6966522\ttotal: 6m 12s\tremaining: 20m 53s\n",
            "229:\tlearn: 1.6964153\ttotal: 6m 13s\tremaining: 20m 51s\n",
            "230:\tlearn: 1.6962065\ttotal: 6m 15s\tremaining: 20m 49s\n",
            "231:\tlearn: 1.6958919\ttotal: 6m 17s\tremaining: 20m 48s\n",
            "232:\tlearn: 1.6957232\ttotal: 6m 18s\tremaining: 20m 46s\n",
            "233:\tlearn: 1.6955048\ttotal: 6m 20s\tremaining: 20m 44s\n",
            "234:\tlearn: 1.6951809\ttotal: 6m 21s\tremaining: 20m 42s\n",
            "235:\tlearn: 1.6949917\ttotal: 6m 22s\tremaining: 20m 39s\n",
            "236:\tlearn: 1.6948172\ttotal: 6m 24s\tremaining: 20m 37s\n",
            "237:\tlearn: 1.6946681\ttotal: 6m 25s\tremaining: 20m 34s\n",
            "238:\tlearn: 1.6943895\ttotal: 6m 27s\tremaining: 20m 32s\n",
            "239:\tlearn: 1.6942689\ttotal: 6m 28s\tremaining: 20m 30s\n",
            "240:\tlearn: 1.6940878\ttotal: 6m 29s\tremaining: 20m 28s\n",
            "241:\tlearn: 1.6939097\ttotal: 6m 31s\tremaining: 20m 26s\n",
            "242:\tlearn: 1.6935664\ttotal: 6m 33s\tremaining: 20m 25s\n",
            "243:\tlearn: 1.6933437\ttotal: 6m 34s\tremaining: 20m 22s\n",
            "244:\tlearn: 1.6931352\ttotal: 6m 36s\tremaining: 20m 20s\n",
            "245:\tlearn: 1.6929829\ttotal: 6m 37s\tremaining: 20m 19s\n",
            "246:\tlearn: 1.6927811\ttotal: 6m 39s\tremaining: 20m 17s\n",
            "247:\tlearn: 1.6926663\ttotal: 6m 41s\tremaining: 20m 17s\n",
            "248:\tlearn: 1.6925408\ttotal: 6m 43s\tremaining: 20m 17s\n",
            "249:\tlearn: 1.6923062\ttotal: 6m 45s\tremaining: 20m 16s\n",
            "250:\tlearn: 1.6920999\ttotal: 6m 47s\tremaining: 20m 15s\n",
            "251:\tlearn: 1.6919256\ttotal: 6m 48s\tremaining: 20m 13s\n",
            "252:\tlearn: 1.6915839\ttotal: 6m 50s\tremaining: 20m 10s\n",
            "253:\tlearn: 1.6913128\ttotal: 6m 51s\tremaining: 20m 8s\n",
            "254:\tlearn: 1.6911227\ttotal: 6m 53s\tremaining: 20m 6s\n",
            "255:\tlearn: 1.6909983\ttotal: 6m 54s\tremaining: 20m 4s\n",
            "256:\tlearn: 1.6907930\ttotal: 6m 56s\tremaining: 20m 2s\n",
            "257:\tlearn: 1.6906181\ttotal: 6m 57s\tremaining: 20m 1s\n",
            "258:\tlearn: 1.6903415\ttotal: 6m 59s\tremaining: 19m 59s\n",
            "259:\tlearn: 1.6901672\ttotal: 7m 1s\tremaining: 19m 58s\n",
            "260:\tlearn: 1.6896815\ttotal: 7m 2s\tremaining: 19m 57s\n",
            "261:\tlearn: 1.6895738\ttotal: 7m 4s\tremaining: 19m 55s\n",
            "262:\tlearn: 1.6894318\ttotal: 7m 6s\tremaining: 19m 54s\n",
            "263:\tlearn: 1.6892422\ttotal: 7m 7s\tremaining: 19m 52s\n",
            "264:\tlearn: 1.6890391\ttotal: 7m 9s\tremaining: 19m 50s\n",
            "265:\tlearn: 1.6888384\ttotal: 7m 10s\tremaining: 19m 48s\n",
            "266:\tlearn: 1.6886864\ttotal: 7m 12s\tremaining: 19m 46s\n",
            "267:\tlearn: 1.6883466\ttotal: 7m 13s\tremaining: 19m 45s\n",
            "268:\tlearn: 1.6882023\ttotal: 7m 15s\tremaining: 19m 42s\n",
            "269:\tlearn: 1.6880139\ttotal: 7m 16s\tremaining: 19m 40s\n",
            "270:\tlearn: 1.6878633\ttotal: 7m 18s\tremaining: 19m 38s\n",
            "271:\tlearn: 1.6877306\ttotal: 7m 19s\tremaining: 19m 36s\n",
            "272:\tlearn: 1.6875731\ttotal: 7m 21s\tremaining: 19m 34s\n",
            "273:\tlearn: 1.6872630\ttotal: 7m 22s\tremaining: 19m 33s\n",
            "274:\tlearn: 1.6871180\ttotal: 7m 24s\tremaining: 19m 31s\n",
            "275:\tlearn: 1.6869144\ttotal: 7m 26s\tremaining: 19m 30s\n",
            "276:\tlearn: 1.6867876\ttotal: 7m 28s\tremaining: 19m 29s\n",
            "277:\tlearn: 1.6865707\ttotal: 7m 29s\tremaining: 19m 27s\n",
            "278:\tlearn: 1.6864608\ttotal: 7m 30s\tremaining: 19m 25s\n",
            "279:\tlearn: 1.6863759\ttotal: 7m 32s\tremaining: 19m 23s\n",
            "280:\tlearn: 1.6861652\ttotal: 7m 34s\tremaining: 19m 22s\n",
            "281:\tlearn: 1.6858176\ttotal: 7m 35s\tremaining: 19m 20s\n",
            "282:\tlearn: 1.6856339\ttotal: 7m 37s\tremaining: 19m 18s\n",
            "283:\tlearn: 1.6855366\ttotal: 7m 38s\tremaining: 19m 17s\n",
            "284:\tlearn: 1.6853927\ttotal: 7m 40s\tremaining: 19m 14s\n",
            "285:\tlearn: 1.6851721\ttotal: 7m 41s\tremaining: 19m 13s\n",
            "286:\tlearn: 1.6849635\ttotal: 7m 43s\tremaining: 19m 11s\n",
            "287:\tlearn: 1.6848284\ttotal: 7m 44s\tremaining: 19m 8s\n",
            "288:\tlearn: 1.6846020\ttotal: 7m 46s\tremaining: 19m 8s\n",
            "289:\tlearn: 1.6843264\ttotal: 7m 48s\tremaining: 19m 6s\n",
            "290:\tlearn: 1.6840696\ttotal: 7m 49s\tremaining: 19m 4s\n",
            "291:\tlearn: 1.6838772\ttotal: 7m 51s\tremaining: 19m 3s\n",
            "292:\tlearn: 1.6837100\ttotal: 7m 53s\tremaining: 19m 1s\n",
            "293:\tlearn: 1.6835455\ttotal: 7m 54s\tremaining: 18m 59s\n",
            "294:\tlearn: 1.6834318\ttotal: 7m 56s\tremaining: 18m 57s\n",
            "295:\tlearn: 1.6832352\ttotal: 7m 58s\tremaining: 18m 57s\n",
            "296:\tlearn: 1.6831090\ttotal: 7m 59s\tremaining: 18m 55s\n",
            "297:\tlearn: 1.6828796\ttotal: 8m 1s\tremaining: 18m 53s\n",
            "298:\tlearn: 1.6826976\ttotal: 8m 3s\tremaining: 18m 52s\n",
            "299:\tlearn: 1.6826150\ttotal: 8m 5s\tremaining: 18m 51s\n",
            "300:\tlearn: 1.6823074\ttotal: 8m 6s\tremaining: 18m 50s\n",
            "301:\tlearn: 1.6821281\ttotal: 8m 8s\tremaining: 18m 48s\n",
            "302:\tlearn: 1.6820356\ttotal: 8m 9s\tremaining: 18m 46s\n",
            "303:\tlearn: 1.6817675\ttotal: 8m 11s\tremaining: 18m 45s\n",
            "304:\tlearn: 1.6815255\ttotal: 8m 13s\tremaining: 18m 43s\n",
            "305:\tlearn: 1.6813984\ttotal: 8m 14s\tremaining: 18m 42s\n",
            "306:\tlearn: 1.6812277\ttotal: 8m 16s\tremaining: 18m 40s\n",
            "307:\tlearn: 1.6810860\ttotal: 8m 17s\tremaining: 18m 38s\n",
            "308:\tlearn: 1.6808429\ttotal: 8m 19s\tremaining: 18m 36s\n",
            "309:\tlearn: 1.6806576\ttotal: 8m 20s\tremaining: 18m 34s\n",
            "310:\tlearn: 1.6804693\ttotal: 8m 22s\tremaining: 18m 32s\n",
            "311:\tlearn: 1.6799272\ttotal: 8m 23s\tremaining: 18m 31s\n",
            "312:\tlearn: 1.6797352\ttotal: 8m 25s\tremaining: 18m 29s\n",
            "313:\tlearn: 1.6794520\ttotal: 8m 27s\tremaining: 18m 28s\n",
            "314:\tlearn: 1.6793324\ttotal: 8m 28s\tremaining: 18m 26s\n",
            "315:\tlearn: 1.6789899\ttotal: 8m 30s\tremaining: 18m 24s\n",
            "316:\tlearn: 1.6788503\ttotal: 8m 31s\tremaining: 18m 22s\n",
            "317:\tlearn: 1.6786443\ttotal: 8m 33s\tremaining: 18m 20s\n",
            "318:\tlearn: 1.6784902\ttotal: 8m 35s\tremaining: 18m 19s\n",
            "319:\tlearn: 1.6783230\ttotal: 8m 36s\tremaining: 18m 18s\n",
            "320:\tlearn: 1.6782429\ttotal: 8m 39s\tremaining: 18m 17s\n",
            "321:\tlearn: 1.6779503\ttotal: 8m 40s\tremaining: 18m 16s\n",
            "322:\tlearn: 1.6777475\ttotal: 8m 42s\tremaining: 18m 14s\n",
            "323:\tlearn: 1.6775588\ttotal: 8m 43s\tremaining: 18m 12s\n",
            "324:\tlearn: 1.6773348\ttotal: 8m 45s\tremaining: 18m 11s\n",
            "325:\tlearn: 1.6771831\ttotal: 8m 47s\tremaining: 18m 9s\n",
            "326:\tlearn: 1.6770083\ttotal: 8m 48s\tremaining: 18m 7s\n",
            "327:\tlearn: 1.6768171\ttotal: 8m 50s\tremaining: 18m 6s\n",
            "328:\tlearn: 1.6767444\ttotal: 8m 52s\tremaining: 18m 5s\n",
            "329:\tlearn: 1.6765443\ttotal: 8m 53s\tremaining: 18m 4s\n",
            "330:\tlearn: 1.6763184\ttotal: 8m 55s\tremaining: 18m 2s\n",
            "331:\tlearn: 1.6762232\ttotal: 8m 57s\tremaining: 18m 1s\n",
            "332:\tlearn: 1.6759978\ttotal: 8m 59s\tremaining: 18m\n",
            "333:\tlearn: 1.6757966\ttotal: 9m 1s\tremaining: 17m 58s\n",
            "334:\tlearn: 1.6756354\ttotal: 9m 2s\tremaining: 17m 57s\n",
            "335:\tlearn: 1.6754923\ttotal: 9m 4s\tremaining: 17m 56s\n",
            "336:\tlearn: 1.6753050\ttotal: 9m 6s\tremaining: 17m 54s\n",
            "337:\tlearn: 1.6751361\ttotal: 9m 7s\tremaining: 17m 52s\n",
            "338:\tlearn: 1.6749920\ttotal: 9m 9s\tremaining: 17m 50s\n",
            "339:\tlearn: 1.6748296\ttotal: 9m 10s\tremaining: 17m 48s\n",
            "340:\tlearn: 1.6747378\ttotal: 9m 12s\tremaining: 17m 46s\n",
            "341:\tlearn: 1.6746087\ttotal: 9m 13s\tremaining: 17m 44s\n",
            "342:\tlearn: 1.6744182\ttotal: 9m 15s\tremaining: 17m 43s\n",
            "343:\tlearn: 1.6741996\ttotal: 9m 16s\tremaining: 17m 41s\n",
            "344:\tlearn: 1.6739484\ttotal: 9m 18s\tremaining: 17m 40s\n",
            "345:\tlearn: 1.6738287\ttotal: 9m 19s\tremaining: 17m 38s\n",
            "346:\tlearn: 1.6735003\ttotal: 9m 21s\tremaining: 17m 36s\n",
            "347:\tlearn: 1.6732916\ttotal: 9m 23s\tremaining: 17m 35s\n",
            "348:\tlearn: 1.6732017\ttotal: 9m 24s\tremaining: 17m 33s\n",
            "349:\tlearn: 1.6730428\ttotal: 9m 26s\tremaining: 17m 31s\n",
            "350:\tlearn: 1.6728664\ttotal: 9m 27s\tremaining: 17m 29s\n",
            "351:\tlearn: 1.6727216\ttotal: 9m 29s\tremaining: 17m 28s\n",
            "352:\tlearn: 1.6724878\ttotal: 9m 31s\tremaining: 17m 26s\n",
            "353:\tlearn: 1.6722181\ttotal: 9m 32s\tremaining: 17m 25s\n",
            "354:\tlearn: 1.6721271\ttotal: 9m 34s\tremaining: 17m 24s\n",
            "355:\tlearn: 1.6720219\ttotal: 9m 36s\tremaining: 17m 22s\n",
            "356:\tlearn: 1.6719051\ttotal: 9m 37s\tremaining: 17m 20s\n",
            "357:\tlearn: 1.6717776\ttotal: 9m 39s\tremaining: 17m 19s\n",
            "358:\tlearn: 1.6717053\ttotal: 9m 41s\tremaining: 17m 18s\n",
            "359:\tlearn: 1.6714067\ttotal: 9m 43s\tremaining: 17m 17s\n",
            "360:\tlearn: 1.6712956\ttotal: 9m 45s\tremaining: 17m 15s\n",
            "361:\tlearn: 1.6710874\ttotal: 9m 46s\tremaining: 17m 14s\n",
            "362:\tlearn: 1.6709287\ttotal: 9m 48s\tremaining: 17m 12s\n",
            "363:\tlearn: 1.6707411\ttotal: 9m 49s\tremaining: 17m 10s\n",
            "364:\tlearn: 1.6705679\ttotal: 9m 51s\tremaining: 17m 9s\n",
            "365:\tlearn: 1.6704854\ttotal: 9m 53s\tremaining: 17m 8s\n",
            "366:\tlearn: 1.6702243\ttotal: 9m 55s\tremaining: 17m 7s\n",
            "367:\tlearn: 1.6700470\ttotal: 9m 57s\tremaining: 17m 5s\n",
            "368:\tlearn: 1.6699156\ttotal: 9m 58s\tremaining: 17m 3s\n",
            "369:\tlearn: 1.6698557\ttotal: 10m\tremaining: 17m 2s\n",
            "370:\tlearn: 1.6695396\ttotal: 10m 2s\tremaining: 17m 1s\n",
            "371:\tlearn: 1.6693746\ttotal: 10m 4s\tremaining: 16m 59s\n",
            "372:\tlearn: 1.6692130\ttotal: 10m 5s\tremaining: 16m 57s\n",
            "373:\tlearn: 1.6690442\ttotal: 10m 6s\tremaining: 16m 55s\n",
            "374:\tlearn: 1.6688595\ttotal: 10m 8s\tremaining: 16m 53s\n",
            "375:\tlearn: 1.6686067\ttotal: 10m 9s\tremaining: 16m 51s\n",
            "376:\tlearn: 1.6685039\ttotal: 10m 11s\tremaining: 16m 49s\n",
            "377:\tlearn: 1.6683151\ttotal: 10m 12s\tremaining: 16m 48s\n",
            "378:\tlearn: 1.6681249\ttotal: 10m 14s\tremaining: 16m 46s\n",
            "379:\tlearn: 1.6679325\ttotal: 10m 15s\tremaining: 16m 44s\n",
            "380:\tlearn: 1.6677656\ttotal: 10m 17s\tremaining: 16m 43s\n",
            "381:\tlearn: 1.6675441\ttotal: 10m 18s\tremaining: 16m 41s\n",
            "382:\tlearn: 1.6674440\ttotal: 10m 20s\tremaining: 16m 40s\n",
            "383:\tlearn: 1.6673330\ttotal: 10m 22s\tremaining: 16m 38s\n",
            "384:\tlearn: 1.6672225\ttotal: 10m 24s\tremaining: 16m 37s\n",
            "385:\tlearn: 1.6671441\ttotal: 10m 25s\tremaining: 16m 35s\n",
            "386:\tlearn: 1.6669937\ttotal: 10m 27s\tremaining: 16m 33s\n",
            "387:\tlearn: 1.6667274\ttotal: 10m 28s\tremaining: 16m 31s\n",
            "388:\tlearn: 1.6666197\ttotal: 10m 29s\tremaining: 16m 29s\n",
            "389:\tlearn: 1.6665067\ttotal: 10m 31s\tremaining: 16m 27s\n",
            "390:\tlearn: 1.6663844\ttotal: 10m 32s\tremaining: 16m 25s\n",
            "391:\tlearn: 1.6661734\ttotal: 10m 34s\tremaining: 16m 24s\n",
            "392:\tlearn: 1.6659760\ttotal: 10m 35s\tremaining: 16m 22s\n",
            "393:\tlearn: 1.6657884\ttotal: 10m 37s\tremaining: 16m 20s\n",
            "394:\tlearn: 1.6656508\ttotal: 10m 38s\tremaining: 16m 18s\n",
            "395:\tlearn: 1.6655708\ttotal: 10m 40s\tremaining: 16m 16s\n",
            "396:\tlearn: 1.6654306\ttotal: 10m 41s\tremaining: 16m 14s\n",
            "397:\tlearn: 1.6653530\ttotal: 10m 43s\tremaining: 16m 13s\n",
            "398:\tlearn: 1.6652098\ttotal: 10m 45s\tremaining: 16m 11s\n",
            "399:\tlearn: 1.6650705\ttotal: 10m 46s\tremaining: 16m 9s\n",
            "400:\tlearn: 1.6648287\ttotal: 10m 48s\tremaining: 16m 8s\n",
            "401:\tlearn: 1.6645261\ttotal: 10m 50s\tremaining: 16m 7s\n",
            "402:\tlearn: 1.6643859\ttotal: 10m 52s\tremaining: 16m 6s\n",
            "403:\tlearn: 1.6643109\ttotal: 10m 53s\tremaining: 16m 4s\n",
            "404:\tlearn: 1.6642082\ttotal: 10m 55s\tremaining: 16m 2s\n",
            "405:\tlearn: 1.6640535\ttotal: 10m 56s\tremaining: 16m\n",
            "406:\tlearn: 1.6639505\ttotal: 10m 58s\tremaining: 15m 59s\n",
            "407:\tlearn: 1.6637564\ttotal: 10m 59s\tremaining: 15m 57s\n",
            "408:\tlearn: 1.6635984\ttotal: 11m 1s\tremaining: 15m 55s\n",
            "409:\tlearn: 1.6634740\ttotal: 11m 2s\tremaining: 15m 53s\n",
            "410:\tlearn: 1.6633313\ttotal: 11m 4s\tremaining: 15m 51s\n",
            "411:\tlearn: 1.6632095\ttotal: 11m 5s\tremaining: 15m 50s\n",
            "412:\tlearn: 1.6630131\ttotal: 11m 7s\tremaining: 15m 48s\n",
            "413:\tlearn: 1.6627667\ttotal: 11m 8s\tremaining: 15m 46s\n",
            "414:\tlearn: 1.6625385\ttotal: 11m 10s\tremaining: 15m 45s\n",
            "415:\tlearn: 1.6624076\ttotal: 11m 12s\tremaining: 15m 43s\n",
            "416:\tlearn: 1.6622688\ttotal: 11m 13s\tremaining: 15m 41s\n",
            "417:\tlearn: 1.6622014\ttotal: 11m 14s\tremaining: 15m 39s\n",
            "418:\tlearn: 1.6621075\ttotal: 11m 16s\tremaining: 15m 37s\n",
            "419:\tlearn: 1.6619814\ttotal: 11m 17s\tremaining: 15m 36s\n",
            "420:\tlearn: 1.6618755\ttotal: 11m 19s\tremaining: 15m 33s\n",
            "421:\tlearn: 1.6616966\ttotal: 11m 20s\tremaining: 15m 32s\n",
            "422:\tlearn: 1.6615648\ttotal: 11m 22s\tremaining: 15m 30s\n",
            "423:\tlearn: 1.6614338\ttotal: 11m 23s\tremaining: 15m 28s\n",
            "424:\tlearn: 1.6613162\ttotal: 11m 24s\tremaining: 15m 26s\n",
            "425:\tlearn: 1.6611129\ttotal: 11m 26s\tremaining: 15m 24s\n",
            "426:\tlearn: 1.6609871\ttotal: 11m 27s\tremaining: 15m 23s\n",
            "427:\tlearn: 1.6608721\ttotal: 11m 29s\tremaining: 15m 21s\n",
            "428:\tlearn: 1.6607910\ttotal: 11m 30s\tremaining: 15m 19s\n",
            "429:\tlearn: 1.6606806\ttotal: 11m 32s\tremaining: 15m 17s\n",
            "430:\tlearn: 1.6605725\ttotal: 11m 33s\tremaining: 15m 16s\n",
            "431:\tlearn: 1.6604689\ttotal: 11m 35s\tremaining: 15m 14s\n",
            "432:\tlearn: 1.6603275\ttotal: 11m 36s\tremaining: 15m 12s\n",
            "433:\tlearn: 1.6602065\ttotal: 11m 38s\tremaining: 15m 10s\n",
            "434:\tlearn: 1.6601403\ttotal: 11m 39s\tremaining: 15m 9s\n",
            "435:\tlearn: 1.6599685\ttotal: 11m 41s\tremaining: 15m 7s\n",
            "436:\tlearn: 1.6598369\ttotal: 11m 43s\tremaining: 15m 5s\n",
            "437:\tlearn: 1.6595149\ttotal: 11m 44s\tremaining: 15m 4s\n",
            "438:\tlearn: 1.6594321\ttotal: 11m 46s\tremaining: 15m 2s\n",
            "439:\tlearn: 1.6592320\ttotal: 11m 47s\tremaining: 15m\n",
            "440:\tlearn: 1.6591757\ttotal: 11m 49s\tremaining: 14m 59s\n",
            "441:\tlearn: 1.6590905\ttotal: 11m 51s\tremaining: 14m 57s\n",
            "442:\tlearn: 1.6589699\ttotal: 11m 52s\tremaining: 14m 55s\n",
            "443:\tlearn: 1.6588651\ttotal: 11m 54s\tremaining: 14m 54s\n",
            "444:\tlearn: 1.6587190\ttotal: 11m 55s\tremaining: 14m 52s\n",
            "445:\tlearn: 1.6586175\ttotal: 11m 57s\tremaining: 14m 50s\n",
            "446:\tlearn: 1.6584805\ttotal: 11m 58s\tremaining: 14m 49s\n",
            "447:\tlearn: 1.6582536\ttotal: 12m\tremaining: 14m 47s\n",
            "448:\tlearn: 1.6581153\ttotal: 12m 2s\tremaining: 14m 46s\n",
            "449:\tlearn: 1.6578722\ttotal: 12m 3s\tremaining: 14m 44s\n",
            "450:\tlearn: 1.6576625\ttotal: 12m 4s\tremaining: 14m 42s\n",
            "451:\tlearn: 1.6574968\ttotal: 12m 6s\tremaining: 14m 40s\n",
            "452:\tlearn: 1.6573755\ttotal: 12m 8s\tremaining: 14m 39s\n",
            "453:\tlearn: 1.6572273\ttotal: 12m 9s\tremaining: 14m 37s\n",
            "454:\tlearn: 1.6571448\ttotal: 12m 11s\tremaining: 14m 35s\n",
            "455:\tlearn: 1.6570263\ttotal: 12m 12s\tremaining: 14m 33s\n",
            "456:\tlearn: 1.6569259\ttotal: 12m 14s\tremaining: 14m 32s\n",
            "457:\tlearn: 1.6567916\ttotal: 12m 16s\tremaining: 14m 31s\n",
            "458:\tlearn: 1.6565673\ttotal: 12m 17s\tremaining: 14m 29s\n",
            "459:\tlearn: 1.6564348\ttotal: 12m 19s\tremaining: 14m 27s\n",
            "460:\tlearn: 1.6562734\ttotal: 12m 20s\tremaining: 14m 26s\n",
            "461:\tlearn: 1.6560919\ttotal: 12m 22s\tremaining: 14m 24s\n",
            "462:\tlearn: 1.6559343\ttotal: 12m 23s\tremaining: 14m 22s\n",
            "463:\tlearn: 1.6558170\ttotal: 12m 25s\tremaining: 14m 20s\n",
            "464:\tlearn: 1.6557123\ttotal: 12m 26s\tremaining: 14m 19s\n",
            "465:\tlearn: 1.6555428\ttotal: 12m 28s\tremaining: 14m 17s\n",
            "466:\tlearn: 1.6554390\ttotal: 12m 29s\tremaining: 14m 15s\n",
            "467:\tlearn: 1.6552832\ttotal: 12m 31s\tremaining: 14m 13s\n",
            "468:\tlearn: 1.6552080\ttotal: 12m 32s\tremaining: 14m 11s\n",
            "469:\tlearn: 1.6551216\ttotal: 12m 33s\tremaining: 14m 10s\n",
            "470:\tlearn: 1.6549857\ttotal: 12m 35s\tremaining: 14m 8s\n",
            "471:\tlearn: 1.6548875\ttotal: 12m 36s\tremaining: 14m 6s\n",
            "472:\tlearn: 1.6546945\ttotal: 12m 38s\tremaining: 14m 5s\n",
            "473:\tlearn: 1.6546314\ttotal: 12m 40s\tremaining: 14m 3s\n",
            "474:\tlearn: 1.6545377\ttotal: 12m 41s\tremaining: 14m 1s\n",
            "475:\tlearn: 1.6544177\ttotal: 12m 42s\tremaining: 13m 59s\n",
            "476:\tlearn: 1.6543706\ttotal: 12m 44s\tremaining: 13m 58s\n",
            "477:\tlearn: 1.6542867\ttotal: 12m 47s\tremaining: 13m 57s\n",
            "478:\tlearn: 1.6541340\ttotal: 12m 48s\tremaining: 13m 56s\n",
            "479:\tlearn: 1.6540075\ttotal: 12m 50s\tremaining: 13m 54s\n",
            "480:\tlearn: 1.6538620\ttotal: 12m 52s\tremaining: 13m 53s\n",
            "481:\tlearn: 1.6537106\ttotal: 12m 53s\tremaining: 13m 51s\n",
            "482:\tlearn: 1.6535888\ttotal: 12m 55s\tremaining: 13m 50s\n",
            "483:\tlearn: 1.6535109\ttotal: 12m 57s\tremaining: 13m 49s\n",
            "484:\tlearn: 1.6534235\ttotal: 13m\tremaining: 13m 48s\n",
            "485:\tlearn: 1.6533682\ttotal: 13m 2s\tremaining: 13m 47s\n",
            "486:\tlearn: 1.6533050\ttotal: 13m 4s\tremaining: 13m 46s\n",
            "487:\tlearn: 1.6530718\ttotal: 13m 6s\tremaining: 13m 44s\n",
            "488:\tlearn: 1.6529383\ttotal: 13m 8s\tremaining: 13m 43s\n",
            "489:\tlearn: 1.6528672\ttotal: 13m 9s\tremaining: 13m 41s\n",
            "490:\tlearn: 1.6527347\ttotal: 13m 11s\tremaining: 13m 40s\n",
            "491:\tlearn: 1.6526050\ttotal: 13m 12s\tremaining: 13m 38s\n",
            "492:\tlearn: 1.6524241\ttotal: 13m 14s\tremaining: 13m 36s\n",
            "493:\tlearn: 1.6523350\ttotal: 13m 15s\tremaining: 13m 35s\n",
            "494:\tlearn: 1.6522308\ttotal: 13m 17s\tremaining: 13m 33s\n",
            "495:\tlearn: 1.6521331\ttotal: 13m 19s\tremaining: 13m 31s\n",
            "496:\tlearn: 1.6519941\ttotal: 13m 20s\tremaining: 13m 30s\n",
            "497:\tlearn: 1.6518784\ttotal: 13m 22s\tremaining: 13m 28s\n",
            "498:\tlearn: 1.6517746\ttotal: 13m 23s\tremaining: 13m 26s\n",
            "499:\tlearn: 1.6516703\ttotal: 13m 25s\tremaining: 13m 25s\n",
            "500:\tlearn: 1.6515786\ttotal: 13m 26s\tremaining: 13m 23s\n",
            "501:\tlearn: 1.6515013\ttotal: 13m 27s\tremaining: 13m 21s\n",
            "502:\tlearn: 1.6513172\ttotal: 13m 29s\tremaining: 13m 19s\n",
            "503:\tlearn: 1.6512481\ttotal: 13m 30s\tremaining: 13m 17s\n",
            "504:\tlearn: 1.6511054\ttotal: 13m 32s\tremaining: 13m 16s\n",
            "505:\tlearn: 1.6510601\ttotal: 13m 34s\tremaining: 13m 15s\n",
            "506:\tlearn: 1.6509554\ttotal: 13m 36s\tremaining: 13m 13s\n",
            "507:\tlearn: 1.6508616\ttotal: 13m 38s\tremaining: 13m 12s\n",
            "508:\tlearn: 1.6507284\ttotal: 13m 39s\tremaining: 13m 10s\n",
            "509:\tlearn: 1.6506057\ttotal: 13m 41s\tremaining: 13m 9s\n",
            "510:\tlearn: 1.6505530\ttotal: 13m 43s\tremaining: 13m 8s\n",
            "511:\tlearn: 1.6504245\ttotal: 13m 45s\tremaining: 13m 6s\n",
            "512:\tlearn: 1.6503631\ttotal: 13m 47s\tremaining: 13m 5s\n",
            "513:\tlearn: 1.6501438\ttotal: 13m 48s\tremaining: 13m 3s\n",
            "514:\tlearn: 1.6497557\ttotal: 13m 50s\tremaining: 13m 1s\n",
            "515:\tlearn: 1.6496157\ttotal: 13m 51s\tremaining: 13m\n",
            "516:\tlearn: 1.6494116\ttotal: 13m 53s\tremaining: 12m 59s\n",
            "517:\tlearn: 1.6492827\ttotal: 13m 55s\tremaining: 12m 57s\n",
            "518:\tlearn: 1.6490862\ttotal: 13m 57s\tremaining: 12m 56s\n",
            "519:\tlearn: 1.6489506\ttotal: 13m 59s\tremaining: 12m 54s\n",
            "520:\tlearn: 1.6487657\ttotal: 14m\tremaining: 12m 53s\n",
            "521:\tlearn: 1.6485944\ttotal: 14m 2s\tremaining: 12m 51s\n",
            "522:\tlearn: 1.6484607\ttotal: 14m 3s\tremaining: 12m 49s\n",
            "523:\tlearn: 1.6483605\ttotal: 14m 5s\tremaining: 12m 47s\n",
            "524:\tlearn: 1.6481217\ttotal: 14m 7s\tremaining: 12m 46s\n",
            "525:\tlearn: 1.6480095\ttotal: 14m 8s\tremaining: 12m 44s\n",
            "526:\tlearn: 1.6477800\ttotal: 14m 10s\tremaining: 12m 43s\n",
            "527:\tlearn: 1.6477084\ttotal: 14m 12s\tremaining: 12m 41s\n",
            "528:\tlearn: 1.6476384\ttotal: 14m 13s\tremaining: 12m 40s\n",
            "529:\tlearn: 1.6474734\ttotal: 14m 15s\tremaining: 12m 38s\n",
            "530:\tlearn: 1.6473944\ttotal: 14m 17s\tremaining: 12m 36s\n",
            "531:\tlearn: 1.6473171\ttotal: 14m 18s\tremaining: 12m 35s\n",
            "532:\tlearn: 1.6472416\ttotal: 14m 19s\tremaining: 12m 33s\n",
            "533:\tlearn: 1.6469605\ttotal: 14m 21s\tremaining: 12m 31s\n",
            "534:\tlearn: 1.6467521\ttotal: 14m 23s\tremaining: 12m 30s\n",
            "535:\tlearn: 1.6465731\ttotal: 14m 25s\tremaining: 12m 28s\n",
            "536:\tlearn: 1.6464899\ttotal: 14m 26s\tremaining: 12m 27s\n",
            "537:\tlearn: 1.6463199\ttotal: 14m 28s\tremaining: 12m 25s\n",
            "538:\tlearn: 1.6461932\ttotal: 14m 29s\tremaining: 12m 24s\n",
            "539:\tlearn: 1.6460936\ttotal: 14m 31s\tremaining: 12m 22s\n",
            "540:\tlearn: 1.6460138\ttotal: 14m 33s\tremaining: 12m 20s\n",
            "541:\tlearn: 1.6459280\ttotal: 14m 35s\tremaining: 12m 19s\n",
            "542:\tlearn: 1.6458196\ttotal: 14m 36s\tremaining: 12m 17s\n",
            "543:\tlearn: 1.6456615\ttotal: 14m 38s\tremaining: 12m 16s\n",
            "544:\tlearn: 1.6455017\ttotal: 14m 39s\tremaining: 12m 14s\n",
            "545:\tlearn: 1.6453896\ttotal: 14m 40s\tremaining: 12m 12s\n",
            "546:\tlearn: 1.6452104\ttotal: 14m 42s\tremaining: 12m 10s\n",
            "547:\tlearn: 1.6451122\ttotal: 14m 44s\tremaining: 12m 9s\n",
            "548:\tlearn: 1.6449926\ttotal: 14m 45s\tremaining: 12m 7s\n",
            "549:\tlearn: 1.6448502\ttotal: 14m 47s\tremaining: 12m 6s\n",
            "550:\tlearn: 1.6447814\ttotal: 14m 49s\tremaining: 12m 4s\n",
            "551:\tlearn: 1.6446699\ttotal: 14m 50s\tremaining: 12m 3s\n",
            "552:\tlearn: 1.6444918\ttotal: 14m 52s\tremaining: 12m 1s\n",
            "553:\tlearn: 1.6444375\ttotal: 14m 54s\tremaining: 11m 59s\n",
            "554:\tlearn: 1.6443586\ttotal: 14m 55s\tremaining: 11m 58s\n",
            "555:\tlearn: 1.6441780\ttotal: 14m 57s\tremaining: 11m 56s\n",
            "556:\tlearn: 1.6440757\ttotal: 14m 58s\tremaining: 11m 54s\n",
            "557:\tlearn: 1.6439366\ttotal: 15m\tremaining: 11m 53s\n",
            "558:\tlearn: 1.6436819\ttotal: 15m 2s\tremaining: 11m 51s\n",
            "559:\tlearn: 1.6435143\ttotal: 15m 3s\tremaining: 11m 49s\n",
            "560:\tlearn: 1.6433467\ttotal: 15m 4s\tremaining: 11m 48s\n",
            "561:\tlearn: 1.6431863\ttotal: 15m 6s\tremaining: 11m 46s\n",
            "562:\tlearn: 1.6430890\ttotal: 15m 7s\tremaining: 11m 44s\n",
            "563:\tlearn: 1.6429228\ttotal: 15m 9s\tremaining: 11m 43s\n",
            "564:\tlearn: 1.6428605\ttotal: 15m 11s\tremaining: 11m 41s\n",
            "565:\tlearn: 1.6427484\ttotal: 15m 13s\tremaining: 11m 40s\n",
            "566:\tlearn: 1.6426188\ttotal: 15m 14s\tremaining: 11m 38s\n",
            "567:\tlearn: 1.6424948\ttotal: 15m 16s\tremaining: 11m 36s\n",
            "568:\tlearn: 1.6424419\ttotal: 15m 17s\tremaining: 11m 34s\n",
            "569:\tlearn: 1.6423257\ttotal: 15m 19s\tremaining: 11m 33s\n",
            "570:\tlearn: 1.6422632\ttotal: 15m 21s\tremaining: 11m 32s\n",
            "571:\tlearn: 1.6421680\ttotal: 15m 22s\tremaining: 11m 30s\n",
            "572:\tlearn: 1.6420016\ttotal: 15m 24s\tremaining: 11m 28s\n",
            "573:\tlearn: 1.6419310\ttotal: 15m 26s\tremaining: 11m 27s\n",
            "574:\tlearn: 1.6417847\ttotal: 15m 27s\tremaining: 11m 25s\n",
            "575:\tlearn: 1.6416837\ttotal: 15m 29s\tremaining: 11m 24s\n",
            "576:\tlearn: 1.6415463\ttotal: 15m 31s\tremaining: 11m 22s\n",
            "577:\tlearn: 1.6414778\ttotal: 15m 32s\tremaining: 11m 21s\n",
            "578:\tlearn: 1.6413491\ttotal: 15m 34s\tremaining: 11m 19s\n",
            "579:\tlearn: 1.6412672\ttotal: 15m 36s\tremaining: 11m 17s\n",
            "580:\tlearn: 1.6411381\ttotal: 15m 37s\tremaining: 11m 16s\n",
            "581:\tlearn: 1.6410007\ttotal: 15m 39s\tremaining: 11m 14s\n",
            "582:\tlearn: 1.6409550\ttotal: 15m 41s\tremaining: 11m 13s\n",
            "583:\tlearn: 1.6408407\ttotal: 15m 43s\tremaining: 11m 11s\n",
            "584:\tlearn: 1.6406792\ttotal: 15m 44s\tremaining: 11m 10s\n",
            "585:\tlearn: 1.6405796\ttotal: 15m 46s\tremaining: 11m 8s\n",
            "586:\tlearn: 1.6404680\ttotal: 15m 47s\tremaining: 11m 6s\n",
            "587:\tlearn: 1.6403965\ttotal: 15m 49s\tremaining: 11m 5s\n",
            "588:\tlearn: 1.6401804\ttotal: 15m 50s\tremaining: 11m 3s\n",
            "589:\tlearn: 1.6400530\ttotal: 15m 52s\tremaining: 11m 1s\n",
            "590:\tlearn: 1.6399444\ttotal: 15m 53s\tremaining: 11m\n",
            "591:\tlearn: 1.6398499\ttotal: 15m 55s\tremaining: 10m 58s\n",
            "592:\tlearn: 1.6396978\ttotal: 15m 57s\tremaining: 10m 57s\n",
            "593:\tlearn: 1.6395958\ttotal: 15m 59s\tremaining: 10m 55s\n",
            "594:\tlearn: 1.6395084\ttotal: 16m\tremaining: 10m 53s\n",
            "595:\tlearn: 1.6394525\ttotal: 16m 2s\tremaining: 10m 52s\n",
            "596:\tlearn: 1.6393763\ttotal: 16m 3s\tremaining: 10m 50s\n",
            "597:\tlearn: 1.6392584\ttotal: 16m 5s\tremaining: 10m 49s\n",
            "598:\tlearn: 1.6391267\ttotal: 16m 7s\tremaining: 10m 47s\n",
            "599:\tlearn: 1.6390784\ttotal: 16m 8s\tremaining: 10m 45s\n",
            "600:\tlearn: 1.6390050\ttotal: 16m 10s\tremaining: 10m 44s\n",
            "601:\tlearn: 1.6388511\ttotal: 16m 12s\tremaining: 10m 42s\n",
            "602:\tlearn: 1.6387808\ttotal: 16m 13s\tremaining: 10m 41s\n",
            "603:\tlearn: 1.6387522\ttotal: 16m 15s\tremaining: 10m 39s\n",
            "604:\tlearn: 1.6386384\ttotal: 16m 17s\tremaining: 10m 37s\n",
            "605:\tlearn: 1.6384879\ttotal: 16m 18s\tremaining: 10m 36s\n",
            "606:\tlearn: 1.6383605\ttotal: 16m 20s\tremaining: 10m 34s\n",
            "607:\tlearn: 1.6382571\ttotal: 16m 21s\tremaining: 10m 32s\n",
            "608:\tlearn: 1.6380963\ttotal: 16m 23s\tremaining: 10m 31s\n",
            "609:\tlearn: 1.6380174\ttotal: 16m 25s\tremaining: 10m 29s\n",
            "610:\tlearn: 1.6378724\ttotal: 16m 26s\tremaining: 10m 28s\n",
            "611:\tlearn: 1.6377695\ttotal: 16m 28s\tremaining: 10m 26s\n",
            "612:\tlearn: 1.6375631\ttotal: 16m 29s\tremaining: 10m 24s\n",
            "613:\tlearn: 1.6373991\ttotal: 16m 31s\tremaining: 10m 23s\n",
            "614:\tlearn: 1.6373313\ttotal: 16m 32s\tremaining: 10m 21s\n",
            "615:\tlearn: 1.6371361\ttotal: 16m 34s\tremaining: 10m 19s\n",
            "616:\tlearn: 1.6370577\ttotal: 16m 35s\tremaining: 10m 18s\n",
            "617:\tlearn: 1.6369100\ttotal: 16m 37s\tremaining: 10m 16s\n",
            "618:\tlearn: 1.6367878\ttotal: 16m 38s\tremaining: 10m 14s\n",
            "619:\tlearn: 1.6367174\ttotal: 16m 40s\tremaining: 10m 13s\n",
            "620:\tlearn: 1.6366636\ttotal: 16m 41s\tremaining: 10m 11s\n",
            "621:\tlearn: 1.6365926\ttotal: 16m 43s\tremaining: 10m 10s\n",
            "622:\tlearn: 1.6365060\ttotal: 16m 45s\tremaining: 10m 8s\n",
            "623:\tlearn: 1.6363711\ttotal: 16m 47s\tremaining: 10m 6s\n",
            "624:\tlearn: 1.6362747\ttotal: 16m 48s\tremaining: 10m 5s\n",
            "625:\tlearn: 1.6361981\ttotal: 16m 51s\tremaining: 10m 4s\n",
            "626:\tlearn: 1.6360300\ttotal: 16m 52s\tremaining: 10m 2s\n",
            "627:\tlearn: 1.6358907\ttotal: 16m 54s\tremaining: 10m\n",
            "628:\tlearn: 1.6357666\ttotal: 16m 56s\tremaining: 9m 59s\n",
            "629:\tlearn: 1.6356381\ttotal: 16m 57s\tremaining: 9m 57s\n",
            "630:\tlearn: 1.6354811\ttotal: 16m 59s\tremaining: 9m 55s\n",
            "631:\tlearn: 1.6353763\ttotal: 17m\tremaining: 9m 54s\n",
            "632:\tlearn: 1.6353036\ttotal: 17m 2s\tremaining: 9m 52s\n",
            "633:\tlearn: 1.6352127\ttotal: 17m 3s\tremaining: 9m 51s\n",
            "634:\tlearn: 1.6350791\ttotal: 17m 5s\tremaining: 9m 49s\n",
            "635:\tlearn: 1.6349580\ttotal: 17m 6s\tremaining: 9m 47s\n",
            "636:\tlearn: 1.6349212\ttotal: 17m 8s\tremaining: 9m 45s\n",
            "637:\tlearn: 1.6348577\ttotal: 17m 9s\tremaining: 9m 44s\n",
            "638:\tlearn: 1.6348203\ttotal: 17m 11s\tremaining: 9m 42s\n",
            "639:\tlearn: 1.6345869\ttotal: 17m 13s\tremaining: 9m 41s\n",
            "640:\tlearn: 1.6345118\ttotal: 17m 15s\tremaining: 9m 39s\n",
            "641:\tlearn: 1.6344231\ttotal: 17m 16s\tremaining: 9m 38s\n",
            "642:\tlearn: 1.6342993\ttotal: 17m 18s\tremaining: 9m 36s\n",
            "643:\tlearn: 1.6341171\ttotal: 17m 19s\tremaining: 9m 34s\n",
            "644:\tlearn: 1.6339748\ttotal: 17m 21s\tremaining: 9m 33s\n",
            "645:\tlearn: 1.6338612\ttotal: 17m 23s\tremaining: 9m 31s\n",
            "646:\tlearn: 1.6337870\ttotal: 17m 24s\tremaining: 9m 29s\n",
            "647:\tlearn: 1.6337074\ttotal: 17m 26s\tremaining: 9m 28s\n",
            "648:\tlearn: 1.6335289\ttotal: 17m 27s\tremaining: 9m 26s\n",
            "649:\tlearn: 1.6334366\ttotal: 17m 29s\tremaining: 9m 25s\n",
            "650:\tlearn: 1.6333103\ttotal: 17m 30s\tremaining: 9m 23s\n",
            "651:\tlearn: 1.6332482\ttotal: 17m 32s\tremaining: 9m 21s\n",
            "652:\tlearn: 1.6331522\ttotal: 17m 33s\tremaining: 9m 19s\n",
            "653:\tlearn: 1.6330302\ttotal: 17m 35s\tremaining: 9m 18s\n",
            "654:\tlearn: 1.6329196\ttotal: 17m 36s\tremaining: 9m 16s\n",
            "655:\tlearn: 1.6328273\ttotal: 17m 38s\tremaining: 9m 14s\n",
            "656:\tlearn: 1.6327050\ttotal: 17m 40s\tremaining: 9m 13s\n",
            "657:\tlearn: 1.6326521\ttotal: 17m 41s\tremaining: 9m 11s\n",
            "658:\tlearn: 1.6325288\ttotal: 17m 43s\tremaining: 9m 10s\n",
            "659:\tlearn: 1.6324533\ttotal: 17m 44s\tremaining: 9m 8s\n",
            "660:\tlearn: 1.6323476\ttotal: 17m 46s\tremaining: 9m 7s\n",
            "661:\tlearn: 1.6322698\ttotal: 17m 48s\tremaining: 9m 5s\n",
            "662:\tlearn: 1.6321641\ttotal: 17m 49s\tremaining: 9m 3s\n",
            "663:\tlearn: 1.6320469\ttotal: 17m 51s\tremaining: 9m 2s\n",
            "664:\tlearn: 1.6319006\ttotal: 17m 53s\tremaining: 9m\n",
            "665:\tlearn: 1.6318101\ttotal: 17m 54s\tremaining: 8m 59s\n",
            "666:\tlearn: 1.6317010\ttotal: 17m 56s\tremaining: 8m 57s\n",
            "667:\tlearn: 1.6314974\ttotal: 17m 58s\tremaining: 8m 55s\n",
            "668:\tlearn: 1.6313683\ttotal: 17m 59s\tremaining: 8m 54s\n",
            "669:\tlearn: 1.6313097\ttotal: 18m\tremaining: 8m 52s\n",
            "670:\tlearn: 1.6312663\ttotal: 18m 2s\tremaining: 8m 50s\n",
            "671:\tlearn: 1.6311876\ttotal: 18m 4s\tremaining: 8m 49s\n",
            "672:\tlearn: 1.6310300\ttotal: 18m 5s\tremaining: 8m 47s\n",
            "673:\tlearn: 1.6309051\ttotal: 18m 8s\tremaining: 8m 46s\n",
            "674:\tlearn: 1.6308272\ttotal: 18m 9s\tremaining: 8m 44s\n",
            "675:\tlearn: 1.6307284\ttotal: 18m 11s\tremaining: 8m 43s\n",
            "676:\tlearn: 1.6306067\ttotal: 18m 12s\tremaining: 8m 41s\n",
            "677:\tlearn: 1.6305331\ttotal: 18m 14s\tremaining: 8m 39s\n",
            "678:\tlearn: 1.6304375\ttotal: 18m 15s\tremaining: 8m 38s\n",
            "679:\tlearn: 1.6303029\ttotal: 18m 17s\tremaining: 8m 36s\n",
            "680:\tlearn: 1.6302057\ttotal: 18m 19s\tremaining: 8m 34s\n",
            "681:\tlearn: 1.6300755\ttotal: 18m 20s\tremaining: 8m 33s\n",
            "682:\tlearn: 1.6300018\ttotal: 18m 21s\tremaining: 8m 31s\n",
            "683:\tlearn: 1.6299392\ttotal: 18m 23s\tremaining: 8m 29s\n",
            "684:\tlearn: 1.6298693\ttotal: 18m 25s\tremaining: 8m 28s\n",
            "685:\tlearn: 1.6297573\ttotal: 18m 26s\tremaining: 8m 26s\n",
            "686:\tlearn: 1.6296116\ttotal: 18m 28s\tremaining: 8m 24s\n",
            "687:\tlearn: 1.6295083\ttotal: 18m 29s\tremaining: 8m 23s\n",
            "688:\tlearn: 1.6294410\ttotal: 18m 30s\tremaining: 8m 21s\n",
            "689:\tlearn: 1.6293780\ttotal: 18m 32s\tremaining: 8m 19s\n",
            "690:\tlearn: 1.6293192\ttotal: 18m 34s\tremaining: 8m 18s\n",
            "691:\tlearn: 1.6291928\ttotal: 18m 35s\tremaining: 8m 16s\n",
            "692:\tlearn: 1.6290982\ttotal: 18m 37s\tremaining: 8m 14s\n",
            "693:\tlearn: 1.6289755\ttotal: 18m 38s\tremaining: 8m 13s\n",
            "694:\tlearn: 1.6288624\ttotal: 18m 40s\tremaining: 8m 11s\n",
            "695:\tlearn: 1.6287290\ttotal: 18m 41s\tremaining: 8m 9s\n",
            "696:\tlearn: 1.6286071\ttotal: 18m 43s\tremaining: 8m 8s\n",
            "697:\tlearn: 1.6285497\ttotal: 18m 44s\tremaining: 8m 6s\n",
            "698:\tlearn: 1.6284721\ttotal: 18m 45s\tremaining: 8m 4s\n",
            "699:\tlearn: 1.6283311\ttotal: 18m 47s\tremaining: 8m 3s\n",
            "700:\tlearn: 1.6282253\ttotal: 18m 48s\tremaining: 8m 1s\n",
            "701:\tlearn: 1.6281035\ttotal: 18m 50s\tremaining: 7m 59s\n",
            "702:\tlearn: 1.6279581\ttotal: 18m 52s\tremaining: 7m 58s\n",
            "703:\tlearn: 1.6279029\ttotal: 18m 53s\tremaining: 7m 56s\n",
            "704:\tlearn: 1.6278258\ttotal: 18m 55s\tremaining: 7m 55s\n",
            "705:\tlearn: 1.6277569\ttotal: 18m 57s\tremaining: 7m 53s\n",
            "706:\tlearn: 1.6276717\ttotal: 18m 58s\tremaining: 7m 51s\n",
            "707:\tlearn: 1.6275822\ttotal: 19m\tremaining: 7m 50s\n",
            "708:\tlearn: 1.6275062\ttotal: 19m 1s\tremaining: 7m 48s\n",
            "709:\tlearn: 1.6274550\ttotal: 19m 3s\tremaining: 7m 47s\n",
            "710:\tlearn: 1.6273685\ttotal: 19m 4s\tremaining: 7m 45s\n",
            "711:\tlearn: 1.6272897\ttotal: 19m 6s\tremaining: 7m 43s\n",
            "712:\tlearn: 1.6271687\ttotal: 19m 7s\tremaining: 7m 41s\n",
            "713:\tlearn: 1.6270049\ttotal: 19m 9s\tremaining: 7m 40s\n",
            "714:\tlearn: 1.6268880\ttotal: 19m 11s\tremaining: 7m 38s\n",
            "715:\tlearn: 1.6267569\ttotal: 19m 12s\tremaining: 7m 37s\n",
            "716:\tlearn: 1.6266255\ttotal: 19m 14s\tremaining: 7m 35s\n",
            "717:\tlearn: 1.6265473\ttotal: 19m 15s\tremaining: 7m 33s\n",
            "718:\tlearn: 1.6264504\ttotal: 19m 17s\tremaining: 7m 32s\n",
            "719:\tlearn: 1.6263098\ttotal: 19m 18s\tremaining: 7m 30s\n",
            "720:\tlearn: 1.6262131\ttotal: 19m 20s\tremaining: 7m 28s\n",
            "721:\tlearn: 1.6261227\ttotal: 19m 21s\tremaining: 7m 27s\n",
            "722:\tlearn: 1.6260026\ttotal: 19m 23s\tremaining: 7m 25s\n",
            "723:\tlearn: 1.6259038\ttotal: 19m 24s\tremaining: 7m 24s\n",
            "724:\tlearn: 1.6258102\ttotal: 19m 26s\tremaining: 7m 22s\n",
            "725:\tlearn: 1.6257246\ttotal: 19m 28s\tremaining: 7m 21s\n",
            "726:\tlearn: 1.6256290\ttotal: 19m 30s\tremaining: 7m 19s\n",
            "727:\tlearn: 1.6255049\ttotal: 19m 31s\tremaining: 7m 17s\n",
            "728:\tlearn: 1.6254653\ttotal: 19m 33s\tremaining: 7m 16s\n",
            "729:\tlearn: 1.6253452\ttotal: 19m 35s\tremaining: 7m 14s\n",
            "730:\tlearn: 1.6252790\ttotal: 19m 36s\tremaining: 7m 13s\n",
            "731:\tlearn: 1.6252040\ttotal: 19m 38s\tremaining: 7m 11s\n",
            "732:\tlearn: 1.6250711\ttotal: 19m 39s\tremaining: 7m 9s\n",
            "733:\tlearn: 1.6248718\ttotal: 19m 41s\tremaining: 7m 8s\n",
            "734:\tlearn: 1.6247694\ttotal: 19m 43s\tremaining: 7m 6s\n",
            "735:\tlearn: 1.6246988\ttotal: 19m 44s\tremaining: 7m 4s\n",
            "736:\tlearn: 1.6246479\ttotal: 19m 46s\tremaining: 7m 3s\n",
            "737:\tlearn: 1.6245127\ttotal: 19m 48s\tremaining: 7m 1s\n",
            "738:\tlearn: 1.6244249\ttotal: 19m 49s\tremaining: 7m\n",
            "739:\tlearn: 1.6243939\ttotal: 19m 51s\tremaining: 6m 58s\n",
            "740:\tlearn: 1.6242703\ttotal: 19m 52s\tremaining: 6m 56s\n",
            "741:\tlearn: 1.6241544\ttotal: 19m 54s\tremaining: 6m 55s\n",
            "742:\tlearn: 1.6240843\ttotal: 19m 55s\tremaining: 6m 53s\n",
            "743:\tlearn: 1.6240416\ttotal: 19m 57s\tremaining: 6m 52s\n",
            "744:\tlearn: 1.6239172\ttotal: 19m 59s\tremaining: 6m 50s\n",
            "745:\tlearn: 1.6237591\ttotal: 20m 1s\tremaining: 6m 48s\n",
            "746:\tlearn: 1.6236840\ttotal: 20m 2s\tremaining: 6m 47s\n",
            "747:\tlearn: 1.6235954\ttotal: 20m 4s\tremaining: 6m 45s\n",
            "748:\tlearn: 1.6234391\ttotal: 20m 5s\tremaining: 6m 44s\n",
            "749:\tlearn: 1.6233484\ttotal: 20m 7s\tremaining: 6m 42s\n",
            "750:\tlearn: 1.6232440\ttotal: 20m 9s\tremaining: 6m 40s\n",
            "751:\tlearn: 1.6231543\ttotal: 20m 10s\tremaining: 6m 39s\n",
            "752:\tlearn: 1.6231003\ttotal: 20m 12s\tremaining: 6m 37s\n",
            "753:\tlearn: 1.6229578\ttotal: 20m 13s\tremaining: 6m 35s\n",
            "754:\tlearn: 1.6228137\ttotal: 20m 15s\tremaining: 6m 34s\n",
            "755:\tlearn: 1.6227649\ttotal: 20m 17s\tremaining: 6m 32s\n",
            "756:\tlearn: 1.6225867\ttotal: 20m 18s\tremaining: 6m 31s\n",
            "757:\tlearn: 1.6225112\ttotal: 20m 20s\tremaining: 6m 29s\n",
            "758:\tlearn: 1.6224537\ttotal: 20m 21s\tremaining: 6m 27s\n",
            "759:\tlearn: 1.6223707\ttotal: 20m 23s\tremaining: 6m 26s\n",
            "760:\tlearn: 1.6222824\ttotal: 20m 25s\tremaining: 6m 24s\n",
            "761:\tlearn: 1.6222484\ttotal: 20m 26s\tremaining: 6m 23s\n",
            "762:\tlearn: 1.6222006\ttotal: 20m 28s\tremaining: 6m 21s\n",
            "763:\tlearn: 1.6221510\ttotal: 20m 29s\tremaining: 6m 19s\n",
            "764:\tlearn: 1.6220825\ttotal: 20m 31s\tremaining: 6m 18s\n",
            "765:\tlearn: 1.6220192\ttotal: 20m 32s\tremaining: 6m 16s\n",
            "766:\tlearn: 1.6218694\ttotal: 20m 34s\tremaining: 6m 15s\n",
            "767:\tlearn: 1.6217668\ttotal: 20m 36s\tremaining: 6m 13s\n",
            "768:\tlearn: 1.6216348\ttotal: 20m 37s\tremaining: 6m 11s\n",
            "769:\tlearn: 1.6215257\ttotal: 20m 39s\tremaining: 6m 10s\n",
            "770:\tlearn: 1.6214231\ttotal: 20m 41s\tremaining: 6m 8s\n",
            "771:\tlearn: 1.6213479\ttotal: 20m 42s\tremaining: 6m 7s\n",
            "772:\tlearn: 1.6212503\ttotal: 20m 44s\tremaining: 6m 5s\n",
            "773:\tlearn: 1.6211717\ttotal: 20m 46s\tremaining: 6m 3s\n",
            "774:\tlearn: 1.6211134\ttotal: 20m 48s\tremaining: 6m 2s\n",
            "775:\tlearn: 1.6209604\ttotal: 20m 50s\tremaining: 6m\n",
            "776:\tlearn: 1.6208911\ttotal: 20m 51s\tremaining: 5m 59s\n",
            "777:\tlearn: 1.6208249\ttotal: 20m 53s\tremaining: 5m 57s\n",
            "778:\tlearn: 1.6207258\ttotal: 20m 55s\tremaining: 5m 56s\n",
            "779:\tlearn: 1.6206420\ttotal: 20m 56s\tremaining: 5m 54s\n",
            "780:\tlearn: 1.6205556\ttotal: 20m 58s\tremaining: 5m 53s\n",
            "781:\tlearn: 1.6204911\ttotal: 21m\tremaining: 5m 51s\n",
            "782:\tlearn: 1.6203746\ttotal: 21m 2s\tremaining: 5m 49s\n",
            "783:\tlearn: 1.6202901\ttotal: 21m 4s\tremaining: 5m 48s\n",
            "784:\tlearn: 1.6201882\ttotal: 21m 6s\tremaining: 5m 46s\n",
            "785:\tlearn: 1.6200979\ttotal: 21m 7s\tremaining: 5m 45s\n",
            "786:\tlearn: 1.6200492\ttotal: 21m 9s\tremaining: 5m 43s\n",
            "787:\tlearn: 1.6199801\ttotal: 21m 10s\tremaining: 5m 41s\n",
            "788:\tlearn: 1.6199051\ttotal: 21m 12s\tremaining: 5m 40s\n",
            "789:\tlearn: 1.6198342\ttotal: 21m 13s\tremaining: 5m 38s\n",
            "790:\tlearn: 1.6197121\ttotal: 21m 15s\tremaining: 5m 36s\n",
            "791:\tlearn: 1.6196086\ttotal: 21m 16s\tremaining: 5m 35s\n",
            "792:\tlearn: 1.6195303\ttotal: 21m 18s\tremaining: 5m 33s\n",
            "793:\tlearn: 1.6194122\ttotal: 21m 20s\tremaining: 5m 32s\n",
            "794:\tlearn: 1.6193681\ttotal: 21m 21s\tremaining: 5m 30s\n",
            "795:\tlearn: 1.6193022\ttotal: 21m 22s\tremaining: 5m 28s\n",
            "796:\tlearn: 1.6192224\ttotal: 21m 24s\tremaining: 5m 27s\n",
            "797:\tlearn: 1.6191544\ttotal: 21m 25s\tremaining: 5m 25s\n",
            "798:\tlearn: 1.6190847\ttotal: 21m 27s\tremaining: 5m 23s\n",
            "799:\tlearn: 1.6190346\ttotal: 21m 28s\tremaining: 5m 22s\n",
            "800:\tlearn: 1.6189039\ttotal: 21m 30s\tremaining: 5m 20s\n",
            "801:\tlearn: 1.6187645\ttotal: 21m 31s\tremaining: 5m 18s\n",
            "802:\tlearn: 1.6186481\ttotal: 21m 33s\tremaining: 5m 17s\n",
            "803:\tlearn: 1.6184905\ttotal: 21m 35s\tremaining: 5m 15s\n",
            "804:\tlearn: 1.6184624\ttotal: 21m 36s\tremaining: 5m 14s\n",
            "805:\tlearn: 1.6184366\ttotal: 21m 38s\tremaining: 5m 12s\n",
            "806:\tlearn: 1.6183665\ttotal: 21m 39s\tremaining: 5m 10s\n",
            "807:\tlearn: 1.6182762\ttotal: 21m 41s\tremaining: 5m 9s\n",
            "808:\tlearn: 1.6181708\ttotal: 21m 43s\tremaining: 5m 7s\n",
            "809:\tlearn: 1.6180454\ttotal: 21m 44s\tremaining: 5m 6s\n",
            "810:\tlearn: 1.6179600\ttotal: 21m 45s\tremaining: 5m 4s\n",
            "811:\tlearn: 1.6179010\ttotal: 21m 47s\tremaining: 5m 2s\n",
            "812:\tlearn: 1.6178536\ttotal: 21m 48s\tremaining: 5m 1s\n",
            "813:\tlearn: 1.6176705\ttotal: 21m 50s\tremaining: 4m 59s\n",
            "814:\tlearn: 1.6176378\ttotal: 21m 52s\tremaining: 4m 57s\n",
            "815:\tlearn: 1.6175456\ttotal: 21m 53s\tremaining: 4m 56s\n",
            "816:\tlearn: 1.6174564\ttotal: 21m 55s\tremaining: 4m 54s\n",
            "817:\tlearn: 1.6173607\ttotal: 21m 56s\tremaining: 4m 53s\n",
            "818:\tlearn: 1.6173068\ttotal: 21m 58s\tremaining: 4m 51s\n",
            "819:\tlearn: 1.6172548\ttotal: 22m\tremaining: 4m 49s\n",
            "820:\tlearn: 1.6172060\ttotal: 22m 1s\tremaining: 4m 48s\n",
            "821:\tlearn: 1.6171227\ttotal: 22m 2s\tremaining: 4m 46s\n",
            "822:\tlearn: 1.6170587\ttotal: 22m 4s\tremaining: 4m 44s\n",
            "823:\tlearn: 1.6169422\ttotal: 22m 5s\tremaining: 4m 43s\n",
            "824:\tlearn: 1.6168616\ttotal: 22m 7s\tremaining: 4m 41s\n",
            "825:\tlearn: 1.6167811\ttotal: 22m 9s\tremaining: 4m 40s\n",
            "826:\tlearn: 1.6166536\ttotal: 22m 10s\tremaining: 4m 38s\n",
            "827:\tlearn: 1.6165665\ttotal: 22m 12s\tremaining: 4m 36s\n",
            "828:\tlearn: 1.6164673\ttotal: 22m 13s\tremaining: 4m 35s\n",
            "829:\tlearn: 1.6163658\ttotal: 22m 15s\tremaining: 4m 33s\n",
            "830:\tlearn: 1.6163168\ttotal: 22m 17s\tremaining: 4m 31s\n",
            "831:\tlearn: 1.6161738\ttotal: 22m 18s\tremaining: 4m 30s\n",
            "832:\tlearn: 1.6160699\ttotal: 22m 20s\tremaining: 4m 28s\n",
            "833:\tlearn: 1.6160185\ttotal: 22m 21s\tremaining: 4m 27s\n",
            "834:\tlearn: 1.6159605\ttotal: 22m 23s\tremaining: 4m 25s\n",
            "835:\tlearn: 1.6158611\ttotal: 22m 24s\tremaining: 4m 23s\n",
            "836:\tlearn: 1.6157682\ttotal: 22m 26s\tremaining: 4m 22s\n",
            "837:\tlearn: 1.6156685\ttotal: 22m 28s\tremaining: 4m 20s\n",
            "838:\tlearn: 1.6155981\ttotal: 22m 29s\tremaining: 4m 19s\n",
            "839:\tlearn: 1.6154268\ttotal: 22m 31s\tremaining: 4m 17s\n",
            "840:\tlearn: 1.6153338\ttotal: 22m 32s\tremaining: 4m 15s\n",
            "841:\tlearn: 1.6152456\ttotal: 22m 34s\tremaining: 4m 14s\n",
            "842:\tlearn: 1.6151571\ttotal: 22m 35s\tremaining: 4m 12s\n",
            "843:\tlearn: 1.6150824\ttotal: 22m 37s\tremaining: 4m 10s\n",
            "844:\tlearn: 1.6150241\ttotal: 22m 39s\tremaining: 4m 9s\n",
            "845:\tlearn: 1.6149440\ttotal: 22m 40s\tremaining: 4m 7s\n",
            "846:\tlearn: 1.6148831\ttotal: 22m 42s\tremaining: 4m 6s\n",
            "847:\tlearn: 1.6148468\ttotal: 22m 44s\tremaining: 4m 4s\n",
            "848:\tlearn: 1.6147879\ttotal: 22m 46s\tremaining: 4m 2s\n",
            "849:\tlearn: 1.6147186\ttotal: 22m 47s\tremaining: 4m 1s\n",
            "850:\tlearn: 1.6146644\ttotal: 22m 49s\tremaining: 3m 59s\n",
            "851:\tlearn: 1.6146018\ttotal: 22m 51s\tremaining: 3m 58s\n",
            "852:\tlearn: 1.6145345\ttotal: 22m 52s\tremaining: 3m 56s\n",
            "853:\tlearn: 1.6144531\ttotal: 22m 54s\tremaining: 3m 54s\n",
            "854:\tlearn: 1.6143714\ttotal: 22m 56s\tremaining: 3m 53s\n",
            "855:\tlearn: 1.6143019\ttotal: 22m 58s\tremaining: 3m 51s\n",
            "856:\tlearn: 1.6141530\ttotal: 22m 59s\tremaining: 3m 50s\n",
            "857:\tlearn: 1.6140652\ttotal: 23m 1s\tremaining: 3m 48s\n",
            "858:\tlearn: 1.6139950\ttotal: 23m 2s\tremaining: 3m 46s\n",
            "859:\tlearn: 1.6139625\ttotal: 23m 4s\tremaining: 3m 45s\n",
            "860:\tlearn: 1.6138805\ttotal: 23m 6s\tremaining: 3m 43s\n",
            "861:\tlearn: 1.6137904\ttotal: 23m 7s\tremaining: 3m 42s\n",
            "862:\tlearn: 1.6136942\ttotal: 23m 9s\tremaining: 3m 40s\n",
            "863:\tlearn: 1.6136097\ttotal: 23m 10s\tremaining: 3m 38s\n",
            "864:\tlearn: 1.6135373\ttotal: 23m 12s\tremaining: 3m 37s\n",
            "865:\tlearn: 1.6134651\ttotal: 23m 13s\tremaining: 3m 35s\n",
            "866:\tlearn: 1.6134071\ttotal: 23m 14s\tremaining: 3m 33s\n",
            "867:\tlearn: 1.6133369\ttotal: 23m 16s\tremaining: 3m 32s\n",
            "868:\tlearn: 1.6132760\ttotal: 23m 17s\tremaining: 3m 30s\n",
            "869:\tlearn: 1.6130778\ttotal: 23m 19s\tremaining: 3m 29s\n",
            "870:\tlearn: 1.6130028\ttotal: 23m 20s\tremaining: 3m 27s\n",
            "871:\tlearn: 1.6129461\ttotal: 23m 22s\tremaining: 3m 25s\n",
            "872:\tlearn: 1.6128607\ttotal: 23m 24s\tremaining: 3m 24s\n",
            "873:\tlearn: 1.6128053\ttotal: 23m 25s\tremaining: 3m 22s\n",
            "874:\tlearn: 1.6127059\ttotal: 23m 27s\tremaining: 3m 21s\n",
            "875:\tlearn: 1.6126477\ttotal: 23m 28s\tremaining: 3m 19s\n",
            "876:\tlearn: 1.6125618\ttotal: 23m 30s\tremaining: 3m 17s\n",
            "877:\tlearn: 1.6124622\ttotal: 23m 32s\tremaining: 3m 16s\n",
            "878:\tlearn: 1.6123912\ttotal: 23m 33s\tremaining: 3m 14s\n",
            "879:\tlearn: 1.6123462\ttotal: 23m 35s\tremaining: 3m 12s\n",
            "880:\tlearn: 1.6123016\ttotal: 23m 36s\tremaining: 3m 11s\n",
            "881:\tlearn: 1.6122447\ttotal: 23m 38s\tremaining: 3m 9s\n",
            "882:\tlearn: 1.6121605\ttotal: 23m 39s\tremaining: 3m 8s\n",
            "883:\tlearn: 1.6121286\ttotal: 23m 41s\tremaining: 3m 6s\n",
            "884:\tlearn: 1.6120842\ttotal: 23m 44s\tremaining: 3m 5s\n",
            "885:\tlearn: 1.6120237\ttotal: 23m 45s\tremaining: 3m 3s\n",
            "886:\tlearn: 1.6119548\ttotal: 23m 47s\tremaining: 3m 1s\n",
            "887:\tlearn: 1.6119172\ttotal: 23m 49s\tremaining: 3m\n",
            "888:\tlearn: 1.6118442\ttotal: 23m 50s\tremaining: 2m 58s\n",
            "889:\tlearn: 1.6117566\ttotal: 23m 52s\tremaining: 2m 57s\n",
            "890:\tlearn: 1.6117302\ttotal: 23m 53s\tremaining: 2m 55s\n",
            "891:\tlearn: 1.6116330\ttotal: 23m 55s\tremaining: 2m 53s\n",
            "892:\tlearn: 1.6115186\ttotal: 23m 57s\tremaining: 2m 52s\n",
            "893:\tlearn: 1.6114269\ttotal: 23m 58s\tremaining: 2m 50s\n",
            "894:\tlearn: 1.6113162\ttotal: 24m\tremaining: 2m 48s\n",
            "895:\tlearn: 1.6112264\ttotal: 24m 1s\tremaining: 2m 47s\n",
            "896:\tlearn: 1.6111630\ttotal: 24m 3s\tremaining: 2m 45s\n",
            "897:\tlearn: 1.6110658\ttotal: 24m 4s\tremaining: 2m 44s\n",
            "898:\tlearn: 1.6110171\ttotal: 24m 6s\tremaining: 2m 42s\n",
            "899:\tlearn: 1.6109135\ttotal: 24m 7s\tremaining: 2m 40s\n",
            "900:\tlearn: 1.6108733\ttotal: 24m 9s\tremaining: 2m 39s\n",
            "901:\tlearn: 1.6108285\ttotal: 24m 10s\tremaining: 2m 37s\n",
            "902:\tlearn: 1.6107721\ttotal: 24m 12s\tremaining: 2m 35s\n",
            "903:\tlearn: 1.6106741\ttotal: 24m 13s\tremaining: 2m 34s\n",
            "904:\tlearn: 1.6105962\ttotal: 24m 14s\tremaining: 2m 32s\n",
            "905:\tlearn: 1.6105299\ttotal: 24m 16s\tremaining: 2m 31s\n",
            "906:\tlearn: 1.6104880\ttotal: 24m 17s\tremaining: 2m 29s\n",
            "907:\tlearn: 1.6104190\ttotal: 24m 19s\tremaining: 2m 27s\n",
            "908:\tlearn: 1.6103411\ttotal: 24m 20s\tremaining: 2m 26s\n",
            "909:\tlearn: 1.6102130\ttotal: 24m 22s\tremaining: 2m 24s\n",
            "910:\tlearn: 1.6101825\ttotal: 24m 23s\tremaining: 2m 22s\n",
            "911:\tlearn: 1.6101581\ttotal: 24m 24s\tremaining: 2m 21s\n",
            "912:\tlearn: 1.6101238\ttotal: 24m 26s\tremaining: 2m 19s\n",
            "913:\tlearn: 1.6099500\ttotal: 24m 28s\tremaining: 2m 18s\n",
            "914:\tlearn: 1.6098423\ttotal: 24m 29s\tremaining: 2m 16s\n",
            "915:\tlearn: 1.6097583\ttotal: 24m 31s\tremaining: 2m 14s\n",
            "916:\tlearn: 1.6096990\ttotal: 24m 32s\tremaining: 2m 13s\n",
            "917:\tlearn: 1.6096286\ttotal: 24m 34s\tremaining: 2m 11s\n",
            "918:\tlearn: 1.6095452\ttotal: 24m 36s\tremaining: 2m 10s\n",
            "919:\tlearn: 1.6094980\ttotal: 24m 37s\tremaining: 2m 8s\n",
            "920:\tlearn: 1.6093832\ttotal: 24m 39s\tremaining: 2m 6s\n",
            "921:\tlearn: 1.6093332\ttotal: 24m 40s\tremaining: 2m 5s\n",
            "922:\tlearn: 1.6092609\ttotal: 24m 42s\tremaining: 2m 3s\n",
            "923:\tlearn: 1.6092207\ttotal: 24m 44s\tremaining: 2m 2s\n",
            "924:\tlearn: 1.6091909\ttotal: 24m 45s\tremaining: 2m\n",
            "925:\tlearn: 1.6091272\ttotal: 24m 46s\tremaining: 1m 58s\n",
            "926:\tlearn: 1.6090404\ttotal: 24m 48s\tremaining: 1m 57s\n",
            "927:\tlearn: 1.6089865\ttotal: 24m 50s\tremaining: 1m 55s\n",
            "928:\tlearn: 1.6089407\ttotal: 24m 51s\tremaining: 1m 54s\n",
            "929:\tlearn: 1.6088752\ttotal: 24m 53s\tremaining: 1m 52s\n",
            "930:\tlearn: 1.6087978\ttotal: 24m 54s\tremaining: 1m 50s\n",
            "931:\tlearn: 1.6086950\ttotal: 24m 56s\tremaining: 1m 49s\n",
            "932:\tlearn: 1.6085817\ttotal: 24m 58s\tremaining: 1m 47s\n",
            "933:\tlearn: 1.6085088\ttotal: 24m 59s\tremaining: 1m 45s\n",
            "934:\tlearn: 1.6084715\ttotal: 25m 1s\tremaining: 1m 44s\n",
            "935:\tlearn: 1.6083588\ttotal: 25m 3s\tremaining: 1m 42s\n",
            "936:\tlearn: 1.6083094\ttotal: 25m 5s\tremaining: 1m 41s\n",
            "937:\tlearn: 1.6082886\ttotal: 25m 6s\tremaining: 1m 39s\n",
            "938:\tlearn: 1.6082469\ttotal: 25m 8s\tremaining: 1m 38s\n",
            "939:\tlearn: 1.6081732\ttotal: 25m 10s\tremaining: 1m 36s\n",
            "940:\tlearn: 1.6080591\ttotal: 25m 12s\tremaining: 1m 34s\n",
            "941:\tlearn: 1.6078328\ttotal: 25m 14s\tremaining: 1m 33s\n",
            "942:\tlearn: 1.6077735\ttotal: 25m 15s\tremaining: 1m 31s\n",
            "943:\tlearn: 1.6076790\ttotal: 25m 17s\tremaining: 1m 29s\n",
            "944:\tlearn: 1.6076011\ttotal: 25m 18s\tremaining: 1m 28s\n",
            "945:\tlearn: 1.6075291\ttotal: 25m 19s\tremaining: 1m 26s\n",
            "946:\tlearn: 1.6074578\ttotal: 25m 21s\tremaining: 1m 25s\n",
            "947:\tlearn: 1.6074123\ttotal: 25m 22s\tremaining: 1m 23s\n",
            "948:\tlearn: 1.6073470\ttotal: 25m 24s\tremaining: 1m 21s\n",
            "949:\tlearn: 1.6073013\ttotal: 25m 26s\tremaining: 1m 20s\n",
            "950:\tlearn: 1.6072769\ttotal: 25m 29s\tremaining: 1m 18s\n",
            "951:\tlearn: 1.6072593\ttotal: 25m 30s\tremaining: 1m 17s\n",
            "952:\tlearn: 1.6071900\ttotal: 25m 32s\tremaining: 1m 15s\n",
            "953:\tlearn: 1.6071369\ttotal: 25m 34s\tremaining: 1m 13s\n",
            "954:\tlearn: 1.6069927\ttotal: 25m 36s\tremaining: 1m 12s\n",
            "955:\tlearn: 1.6069225\ttotal: 25m 38s\tremaining: 1m 10s\n",
            "956:\tlearn: 1.6068430\ttotal: 25m 39s\tremaining: 1m 9s\n",
            "957:\tlearn: 1.6067415\ttotal: 25m 41s\tremaining: 1m 7s\n",
            "958:\tlearn: 1.6066538\ttotal: 25m 43s\tremaining: 1m 5s\n",
            "959:\tlearn: 1.6065901\ttotal: 25m 44s\tremaining: 1m 4s\n",
            "960:\tlearn: 1.6065248\ttotal: 25m 46s\tremaining: 1m 2s\n",
            "961:\tlearn: 1.6064627\ttotal: 25m 47s\tremaining: 1m 1s\n",
            "962:\tlearn: 1.6063689\ttotal: 25m 49s\tremaining: 59.5s\n",
            "963:\tlearn: 1.6063097\ttotal: 25m 50s\tremaining: 57.9s\n",
            "964:\tlearn: 1.6062394\ttotal: 25m 52s\tremaining: 56.3s\n",
            "965:\tlearn: 1.6061820\ttotal: 25m 53s\tremaining: 54.7s\n",
            "966:\tlearn: 1.6061324\ttotal: 25m 55s\tremaining: 53.1s\n",
            "967:\tlearn: 1.6061086\ttotal: 25m 56s\tremaining: 51.5s\n",
            "968:\tlearn: 1.6060154\ttotal: 25m 58s\tremaining: 49.9s\n",
            "969:\tlearn: 1.6059097\ttotal: 26m\tremaining: 48.3s\n",
            "970:\tlearn: 1.6058374\ttotal: 26m 2s\tremaining: 46.7s\n",
            "971:\tlearn: 1.6057536\ttotal: 26m 3s\tremaining: 45s\n",
            "972:\tlearn: 1.6057017\ttotal: 26m 5s\tremaining: 43.4s\n",
            "973:\tlearn: 1.6056529\ttotal: 26m 6s\tremaining: 41.8s\n",
            "974:\tlearn: 1.6055645\ttotal: 26m 8s\tremaining: 40.2s\n",
            "975:\tlearn: 1.6055077\ttotal: 26m 9s\tremaining: 38.6s\n",
            "976:\tlearn: 1.6054152\ttotal: 26m 11s\tremaining: 37s\n",
            "977:\tlearn: 1.6053523\ttotal: 26m 13s\tremaining: 35.4s\n",
            "978:\tlearn: 1.6052884\ttotal: 26m 14s\tremaining: 33.8s\n",
            "979:\tlearn: 1.6052453\ttotal: 26m 16s\tremaining: 32.2s\n",
            "980:\tlearn: 1.6051495\ttotal: 26m 17s\tremaining: 30.6s\n",
            "981:\tlearn: 1.6051087\ttotal: 26m 19s\tremaining: 29s\n",
            "982:\tlearn: 1.6050637\ttotal: 26m 21s\tremaining: 27.3s\n",
            "983:\tlearn: 1.6049987\ttotal: 26m 22s\tremaining: 25.7s\n",
            "984:\tlearn: 1.6049531\ttotal: 26m 24s\tremaining: 24.1s\n",
            "985:\tlearn: 1.6049088\ttotal: 26m 25s\tremaining: 22.5s\n",
            "986:\tlearn: 1.6048107\ttotal: 26m 27s\tremaining: 20.9s\n",
            "987:\tlearn: 1.6047736\ttotal: 26m 29s\tremaining: 19.3s\n",
            "988:\tlearn: 1.6047201\ttotal: 26m 30s\tremaining: 17.7s\n",
            "989:\tlearn: 1.6046556\ttotal: 26m 32s\tremaining: 16.1s\n",
            "990:\tlearn: 1.6046238\ttotal: 26m 33s\tremaining: 14.5s\n",
            "991:\tlearn: 1.6045862\ttotal: 26m 35s\tremaining: 12.9s\n",
            "992:\tlearn: 1.6045309\ttotal: 26m 36s\tremaining: 11.3s\n",
            "993:\tlearn: 1.6044379\ttotal: 26m 38s\tremaining: 9.65s\n",
            "994:\tlearn: 1.6043425\ttotal: 26m 40s\tremaining: 8.04s\n",
            "995:\tlearn: 1.6042681\ttotal: 26m 42s\tremaining: 6.43s\n",
            "996:\tlearn: 1.6042068\ttotal: 26m 43s\tremaining: 4.83s\n",
            "997:\tlearn: 1.6040923\ttotal: 26m 45s\tremaining: 3.22s\n",
            "998:\tlearn: 1.6040280\ttotal: 26m 46s\tremaining: 1.61s\n",
            "999:\tlearn: 1.6039351\ttotal: 26m 48s\tremaining: 0us\n"
          ],
          "name": "stdout"
        },
        {
          "output_type": "execute_result",
          "data": {
            "text/plain": [
              "<catboost.core.CatBoostRegressor at 0x7fd6fc83bd10>"
            ]
          },
          "metadata": {
            "tags": []
          },
          "execution_count": 17
        }
      ]
    },
    {
      "cell_type": "code",
      "metadata": {
        "id": "QXvLkew-ZJWX",
        "colab": {
          "base_uri": "https://localhost:8080/"
        },
        "outputId": "4bd9c1e0-8408-4a03-97a6-5e33a6dd48cd"
      },
      "source": [
        "import numpy as np\n",
        "pred = model.predict(X_cv)\n",
        "rmse = (np.sqrt(mean_squared_error(y_cv, pred)))\n",
        "print(\"CV rmse:\",rmse)\n",
        "\n",
        "pred_test = model.predict(X_test)\n",
        "rmse = (np.sqrt(mean_squared_error(y_test, pred_test)))\n",
        "print(\"TEST rmse:\",rmse)\n"
      ],
      "execution_count": 18,
      "outputs": [
        {
          "output_type": "stream",
          "text": [
            "CV rmse: 1.7550030464972113\n",
            "TEST rmse: 1.7610096297235083\n"
          ],
          "name": "stdout"
        }
      ]
    },
    {
      "cell_type": "code",
      "metadata": {
        "id": "Q_QY0l8ekEkm",
        "colab": {
          "base_uri": "https://localhost:8080/"
        },
        "outputId": "8f06f88a-8cb8-4c74-d0d4-8e3e85b235c8"
      },
      "source": [
        "pred_train = model.predict(X_train)\n",
        "rmse_train = (np.sqrt(mean_squared_error(y_train, pred_train)))\n",
        "\n",
        "print(\"TRAIN rmse:\",rmse_train)\n"
      ],
      "execution_count": 19,
      "outputs": [
        {
          "output_type": "stream",
          "text": [
            "TRAIN rmse: 1.603935114635707\n"
          ],
          "name": "stdout"
        }
      ]
    },
    {
      "cell_type": "code",
      "metadata": {
        "id": "oNZlBzoNeAuF",
        "colab": {
          "base_uri": "https://localhost:8080/",
          "height": 720
        },
        "outputId": "ff669a44-b5eb-4f68-df82-d74ccd21a1db"
      },
      "source": [
        "import matplotlib.pyplot as plt\n",
        "import seaborn as sns\n",
        "import warnings\n",
        "warnings.simplefilter(action='ignore', category=FutureWarning)\n",
        "\n",
        "# sorted(zip(clf.feature_importances_, X.columns), reverse=True)\n",
        "feature_imp = pd.DataFrame(sorted(zip(model.feature_importances_,X_train[col].columns)), columns=['Value','Feature'])\n",
        "\n",
        "plt.figure(figsize=(20, 10))\n",
        "sns.barplot(x=\"Value\", y=\"Feature\", data=feature_imp.sort_values(by=\"Value\", ascending=False))\n",
        "plt.title('LightGBM Features (avg over folds)')\n",
        "plt.tight_layout()\n",
        "plt.show()"
      ],
      "execution_count": 20,
      "outputs": [
        {
          "output_type": "display_data",
          "data": {
            "image/png": "[encoded data removed]",
            "text/plain": [
              "<Figure size 1440x720 with 1 Axes>"
            ]
          },
          "metadata": {
            "tags": [],
            "needs_background": "light"
          }
        }
      ]
    },
    {
      "cell_type": "code",
      "metadata": {
        "id": "WHklOXySWaU2",
        "colab": {
          "base_uri": "https://localhost:8080/"
        },
        "outputId": "21aba676-ee43-48b9-fc72-a5aeb0487399"
      },
      "source": [
        "generate_submission_file(model,X_cv,X_test,\"catboost.csv\")"
      ],
      "execution_count": 22,
      "outputs": [
        {
          "output_type": "stream",
          "text": [
            "/usr/local/lib/python3.7/dist-packages/ipykernel_launcher.py:26: SettingWithCopyWarning: \n",
            "A value is trying to be set on a copy of a slice from a DataFrame.\n",
            "Try using .loc[row_indexer,col_indexer] = value instead\n",
            "\n",
            "See the caveats in the documentation: https://pandas.pydata.org/pandas-docs/stable/user_guide/indexing.html#returning-a-view-versus-a-copy\n",
            "/usr/local/lib/python3.7/dist-packages/ipykernel_launcher.py:27: SettingWithCopyWarning: \n",
            "A value is trying to be set on a copy of a slice from a DataFrame.\n",
            "Try using .loc[row_indexer,col_indexer] = value instead\n",
            "\n",
            "See the caveats in the documentation: https://pandas.pydata.org/pandas-docs/stable/user_guide/indexing.html#returning-a-view-versus-a-copy\n"
          ],
          "name": "stderr"
        },
        {
          "output_type": "stream",
          "text": [
            "Submission file with name catboost.csv created successfully\n"
          ],
          "name": "stdout"
        }
      ]
    },
    {
      "cell_type": "code",
      "metadata": {
        "colab": {
          "base_uri": "https://localhost:8080/",
          "height": 140
        },
        "id": "ZjT5aWDbi7L2",
        "outputId": "d0c20145-9e1b-4f10-f4e0-fb4670d94718"
      },
      "source": [
        "from IPython.display import Image\n",
        "Image(filename='/content/Capture.JPG')"
      ],
      "execution_count": 25,
      "outputs": [
        {
          "output_type": "execute_result",
          "data": {
            "image/jpeg": "[encoded data removed]",
            "text/plain": [
              "<IPython.core.display.Image object>"
            ]
          },
          "metadata": {
            "tags": []
          },
          "execution_count": 25
        }
      ]
    },
    {
      "cell_type": "code",
      "metadata": {
        "id": "2IBK1ZuCaQCh",
        "colab": {
          "base_uri": "https://localhost:8080/"
        },
        "outputId": "7da16749-2841-4578-8f29-f2b73b9fff3d"
      },
      "source": [
        "#https://www.geeksforgeeks.org/creating-tables-with-prettytable-library-python/\n",
        "from prettytable import PrettyTable\n",
        "  \n",
        "# Specify the Column Names while initializing the Table\n",
        "myTable = PrettyTable([\"MODEL\", \"PRIVATE WRMSSE\",\"PUBLIC WRMSSE\"])\n",
        "myTable.title = \"PERFORMANCE ON DATA OF 2 YEARS\"\n",
        "\n",
        "\n",
        "\n",
        "# Add rows\n",
        "myTable.add_row([\"LINEAR REGRESSION\",'0.68762','0.78864'])\n",
        "myTable.add_row([\"RIDGE REGRESSION\", '0.68711','0.77808'])\n",
        "myTable.add_row([\"ELASTIC NET REGRESSION\",'0.69251','0.78553'])\n",
        "myTable.add_row([\"DECISION TREE REGRESSOR\", '0.69979','0.78363'])\n",
        "myTable.add_row([\"LIGHTGBM\",'0.66999','0.71980' ])\n",
        "myTable.add_row([\"CATBOOST\",'0.80044','0.79487' ])\n",
        "print(myTable)"
      ],
      "execution_count": 37,
      "outputs": [
        {
          "output_type": "stream",
          "text": [
            "+----------------------------------------------------------+\n",
            "|              PERFORMANCE ON DATA OF 2 YEARS              |\n",
            "+-------------------------+----------------+---------------+\n",
            "|          MODEL          | PRIVATE WRMSSE | PUBLIC WRMSSE |\n",
            "+-------------------------+----------------+---------------+\n",
            "|    LINEAR REGRESSION    |    0.68762     |    0.78864    |\n",
            "|     RIDGE REGRESSION    |    0.68711     |    0.77808    |\n",
            "|  ELASTIC NET REGRESSION |    0.69251     |    0.78553    |\n",
            "| DECISION TREE REGRESSOR |    0.69979     |    0.78363    |\n",
            "|         LIGHTGBM        |    0.66999     |    0.71980    |\n",
            "|         CATBOOST        |    0.80044     |    0.79487    |\n",
            "+-------------------------+----------------+---------------+\n"
          ],
          "name": "stdout"
        }
      ]
    },
    {
      "cell_type": "markdown",
      "metadata": {
        "id": "WTDHrjEXC1HY"
      },
      "source": [
        "#CUSTOM MODEL"
      ]
    },
    {
      "cell_type": "code",
      "metadata": {
        "id": "Tv1jAIjYCBXt"
      },
      "source": [
        "import pandas as pd\n",
        "import numpy as np\n",
        "final_df=pd.read_hdf(\"/content/gdrive/MyDrive/m5_forecasting_data/final_df.hdf\",'mydata')\n"
      ],
      "execution_count": 26,
      "outputs": []
    },
    {
      "cell_type": "code",
      "metadata": {
        "id": "7j-uo2pVNYfw"
      },
      "source": [
        "final_df=final_df[final_df['day']>=1200]"
      ],
      "execution_count": 27,
      "outputs": []
    },
    {
      "cell_type": "code",
      "metadata": {
        "id": "98HVPXW-Gdv0"
      },
      "source": [
        "y=final_df['sale']\n",
        "final_df=final_df.drop(['sale'],axis=1)"
      ],
      "execution_count": 28,
      "outputs": []
    },
    {
      "cell_type": "code",
      "metadata": {
        "id": "fg04yPEzJx0K"
      },
      "source": [
        "from sklearn.model_selection import train_test_split\n",
        "#splitting into train and test set\n",
        "X_train,X_test,y_train,y_test=train_test_split(final_df,y,test_size=0.2,random_state=42)\n",
        "\n",
        "#splitting training set into two sets \n",
        "d1_train,d2_train,d1_test,d2_test=train_test_split(X_train,y_train,test_size=0.5,random_state=42)\n",
        "\n",
        "\n",
        "\n"
      ],
      "execution_count": 29,
      "outputs": []
    },
    {
      "cell_type": "code",
      "metadata": {
        "colab": {
          "base_uri": "https://localhost:8080/"
        },
        "id": "J8dwGnzWYwsB",
        "outputId": "afbba76e-07a3-45d4-bb5d-cb0a3cbccabb"
      },
      "source": [
        "import gc\n",
        "del final_df\n",
        "del X_train\n",
        "del y_train\n",
        "gc.collect()"
      ],
      "execution_count": 30,
      "outputs": [
        {
          "output_type": "execute_result",
          "data": {
            "text/plain": [
              "318"
            ]
          },
          "metadata": {
            "tags": []
          },
          "execution_count": 30
        }
      ]
    },
    {
      "cell_type": "code",
      "metadata": {
        "id": "bK8aFK1LIfs7"
      },
      "source": [
        "#creating samples form dataset\n",
        "import numpy as np\n",
        "n=200000 #number of datapoints in each sample\n",
        "def create_samples(x,y,k,n):\n",
        "  x_sample=[]\n",
        "  y_sample=[]\n",
        "  for i in range(k):\n",
        "    random_index=np.random.randint(0,x.shape[0],n)#selecting random index from dataframe\n",
        "    x_sample1=x.iloc[random_index]#selecting samples from the randomly generated indeices\n",
        "    y_sample1=y.iloc[random_index]\n",
        "    #appending the generated samples to the list.\n",
        "    x_sample.append(x_sample1)\n",
        "    y_sample.append(y_sample1)\n",
        "  return x_sample,y_sample\n",
        "\n"
      ],
      "execution_count": 31,
      "outputs": []
    },
    {
      "cell_type": "code",
      "metadata": {
        "id": "lh2xy_ySQA-U"
      },
      "source": [
        "from sklearn.linear_model import LinearRegression\n",
        "from sklearn.tree import DecisionTreeRegressor\n",
        "from sklearn.metrics import mean_squared_error\n",
        "from sklearn.linear_model import Ridge\n",
        "#!pip3 install catboost\n",
        "#import catboost as cb\n",
        "import xgboost as xgb\n",
        "import lightgbm as lgb\n",
        "def base_models(x_sample,y_sample):\n",
        "  models_list=[]\n",
        "  for i in range(len(x_sample)):\n",
        "    rndm_number=np.random.randint(0,4)\n",
        "    if rndm_number==0:\n",
        "      #train linear regression model\n",
        "      model=LinearRegression(n_jobs=-1)\n",
        "      model.fit(x_sample[i],y_sample[i])\n",
        "      models_list.append(model)\n",
        "    elif rndm_number==1:\n",
        "      #train decision tree model\n",
        "      model=DecisionTreeRegressor()\n",
        "      model.fit(x_sample[i],y_sample[i])\n",
        "      models_list.append(model)\n",
        "    elif rndm_number==2:\n",
        "      #train ridge regressor model\n",
        "      model=xgb.XGBRegressor(n_jobs=-1)\n",
        "      model.fit(x_sample[i],y_sample[i])\n",
        "      models_list.append(model)\n",
        "    elif rndm_number==3:\n",
        "      #train lgbm model\n",
        "      model=lgb.LGBMRegressor(n_jobs=-1)\n",
        "      model.fit(x_sample[i],y_sample[i])\n",
        "      models_list.append(model)\n",
        "\n",
        "  return models_list\n",
        "\n",
        "\n"
      ],
      "execution_count": 32,
      "outputs": []
    },
    {
      "cell_type": "code",
      "metadata": {
        "id": "QLOyV6USSf8i"
      },
      "source": [
        "def predictions_from_d2(models_list,d2_train):\n",
        "  pred={}\n",
        "  for i in range(len(models_list)):\n",
        "    key=\"model\"+str(i)\n",
        "    pred[key]=models_list[i].predict(d2_train)\n",
        "    \n",
        "\n",
        "  return pd.DataFrame(pred)\n"
      ],
      "execution_count": 33,
      "outputs": []
    },
    {
      "cell_type": "code",
      "metadata": {
        "colab": {
          "base_uri": "https://localhost:8080/"
        },
        "id": "FxK_HM_HU2M_",
        "outputId": "264e497d-2591-4a33-cdf4-96fec7295609"
      },
      "source": [
        "from tqdm import tqdm\n",
        "import warnings\n",
        "warnings.filterwarnings(\"ignore\")\n",
        "k=[5,10,15,20,30,40]\n",
        "rmse=[]\n",
        "for i in tqdm(k):\n",
        "  x_samples,y_samples=create_samples(d1_train,d1_test,i,n)\n",
        "  model_list=base_models(x_samples,y_samples)\n",
        "  pred_df=predictions_from_d2(model_list,d2_train)\n",
        "  #using linear regression as metamodel\n",
        "  m_model=LinearRegression(n_jobs=-1)\n",
        "  m_model.fit(pred_df,d2_test)\n",
        "  pred_meta_model_on_test=predictions_from_d2(model_list,X_test)\n",
        "  y_test_pred = m_model.predict(pred_meta_model_on_test)\n",
        "  \n",
        "  rmse.append(np.sqrt(mean_squared_error(y_test, y_test_pred)))\n",
        "  print(rmse)\n",
        "  \n"
      ],
      "execution_count": null,
      "outputs": [
        {
          "output_type": "stream",
          "text": [
            "\r  0%|          | 0/6 [00:00<?, ?it/s]"
          ],
          "name": "stderr"
        },
        {
          "output_type": "stream",
          "text": [
            "[08:27:41] WARNING: /workspace/src/objective/regression_obj.cu:152: reg:linear is now deprecated in favor of reg:squarederror.\n"
          ],
          "name": "stdout"
        },
        {
          "output_type": "stream",
          "text": [
            "\r 17%|█▋        | 1/6 [01:12<06:02, 72.54s/it]"
          ],
          "name": "stderr"
        },
        {
          "output_type": "stream",
          "text": [
            "[1.7986927421318684]\n",
            "[08:29:05] WARNING: /workspace/src/objective/regression_obj.cu:152: reg:linear is now deprecated in favor of reg:squarederror.\n"
          ],
          "name": "stdout"
        },
        {
          "output_type": "stream",
          "text": [
            "\r 33%|███▎      | 2/6 [03:57<06:41, 100.31s/it]"
          ],
          "name": "stderr"
        },
        {
          "output_type": "stream",
          "text": [
            "[1.7986927421318684, 1.7842268568119393]\n",
            "[08:31:32] WARNING: /workspace/src/objective/regression_obj.cu:152: reg:linear is now deprecated in favor of reg:squarederror.\n",
            "[08:31:48] WARNING: /workspace/src/objective/regression_obj.cu:152: reg:linear is now deprecated in favor of reg:squarederror.\n",
            "[08:31:58] WARNING: /workspace/src/objective/regression_obj.cu:152: reg:linear is now deprecated in favor of reg:squarederror.\n",
            "[08:32:11] WARNING: /workspace/src/objective/regression_obj.cu:152: reg:linear is now deprecated in favor of reg:squarederror.\n",
            "[08:32:23] WARNING: /workspace/src/objective/regression_obj.cu:152: reg:linear is now deprecated in favor of reg:squarederror.\n"
          ],
          "name": "stdout"
        },
        {
          "output_type": "stream",
          "text": [
            "\r 50%|█████     | 3/6 [07:37<06:48, 136.05s/it]"
          ],
          "name": "stderr"
        },
        {
          "output_type": "stream",
          "text": [
            "[1.7986927421318684, 1.7842268568119393, 1.7890270559646737]\n",
            "[08:35:18] WARNING: /workspace/src/objective/regression_obj.cu:152: reg:linear is now deprecated in favor of reg:squarederror.\n",
            "[08:35:31] WARNING: /workspace/src/objective/regression_obj.cu:152: reg:linear is now deprecated in favor of reg:squarederror.\n",
            "[08:35:41] WARNING: /workspace/src/objective/regression_obj.cu:152: reg:linear is now deprecated in favor of reg:squarederror.\n",
            "[08:35:52] WARNING: /workspace/src/objective/regression_obj.cu:152: reg:linear is now deprecated in favor of reg:squarederror.\n",
            "[08:36:02] WARNING: /workspace/src/objective/regression_obj.cu:152: reg:linear is now deprecated in favor of reg:squarederror.\n",
            "[08:36:20] WARNING: /workspace/src/objective/regression_obj.cu:152: reg:linear is now deprecated in favor of reg:squarederror.\n",
            "[08:36:36] WARNING: /workspace/src/objective/regression_obj.cu:152: reg:linear is now deprecated in favor of reg:squarederror.\n"
          ],
          "name": "stdout"
        },
        {
          "output_type": "stream",
          "text": [
            "\r 67%|██████▋   | 4/6 [13:40<06:48, 204.39s/it]"
          ],
          "name": "stderr"
        },
        {
          "output_type": "stream",
          "text": [
            "[1.7986927421318684, 1.7842268568119393, 1.7890270559646737, 1.7799139358092722]\n",
            "[08:41:23] WARNING: /workspace/src/objective/regression_obj.cu:152: reg:linear is now deprecated in favor of reg:squarederror.\n",
            "[08:41:46] WARNING: /workspace/src/objective/regression_obj.cu:152: reg:linear is now deprecated in favor of reg:squarederror.\n",
            "[08:42:04] WARNING: /workspace/src/objective/regression_obj.cu:152: reg:linear is now deprecated in favor of reg:squarederror.\n",
            "[08:42:19] WARNING: /workspace/src/objective/regression_obj.cu:152: reg:linear is now deprecated in favor of reg:squarederror.\n",
            "[08:42:30] WARNING: /workspace/src/objective/regression_obj.cu:152: reg:linear is now deprecated in favor of reg:squarederror.\n",
            "[08:42:52] WARNING: /workspace/src/objective/regression_obj.cu:152: reg:linear is now deprecated in favor of reg:squarederror.\n"
          ],
          "name": "stdout"
        },
        {
          "output_type": "stream",
          "text": [
            "\r 83%|████████▎ | 5/6 [20:36<04:27, 267.87s/it]"
          ],
          "name": "stderr"
        },
        {
          "output_type": "stream",
          "text": [
            "[1.7986927421318684, 1.7842268568119393, 1.7890270559646737, 1.7799139358092722, 1.7763206966429501]\n",
            "[08:48:43] WARNING: /workspace/src/objective/regression_obj.cu:152: reg:linear is now deprecated in favor of reg:squarederror.\n",
            "[08:48:59] WARNING: /workspace/src/objective/regression_obj.cu:152: reg:linear is now deprecated in favor of reg:squarederror.\n",
            "[08:49:10] WARNING: /workspace/src/objective/regression_obj.cu:152: reg:linear is now deprecated in favor of reg:squarederror.\n",
            "[08:49:21] WARNING: /workspace/src/objective/regression_obj.cu:152: reg:linear is now deprecated in favor of reg:squarederror.\n",
            "[08:49:31] WARNING: /workspace/src/objective/regression_obj.cu:152: reg:linear is now deprecated in favor of reg:squarederror.\n",
            "[08:49:41] WARNING: /workspace/src/objective/regression_obj.cu:152: reg:linear is now deprecated in favor of reg:squarederror.\n",
            "[08:50:22] WARNING: /workspace/src/objective/regression_obj.cu:152: reg:linear is now deprecated in favor of reg:squarederror.\n",
            "[08:50:32] WARNING: /workspace/src/objective/regression_obj.cu:152: reg:linear is now deprecated in favor of reg:squarederror.\n",
            "[08:50:43] WARNING: /workspace/src/objective/regression_obj.cu:152: reg:linear is now deprecated in favor of reg:squarederror.\n"
          ],
          "name": "stdout"
        },
        {
          "output_type": "stream",
          "text": [
            "100%|██████████| 6/6 [32:31<00:00, 325.18s/it]"
          ],
          "name": "stderr"
        },
        {
          "output_type": "stream",
          "text": [
            "[1.7986927421318684, 1.7842268568119393, 1.7890270559646737, 1.7799139358092722, 1.7763206966429501, 1.7719639326797405]\n"
          ],
          "name": "stdout"
        },
        {
          "output_type": "stream",
          "text": [
            "\n"
          ],
          "name": "stderr"
        }
      ]
    },
    {
      "cell_type": "code",
      "metadata": {
        "id": "LC-R9_yqZYH2",
        "colab": {
          "base_uri": "https://localhost:8080/",
          "height": 269
        },
        "outputId": "f6554d95-2d8c-4aa6-d9d6-c35819ba01a9"
      },
      "source": [
        "import matplotlib.pyplot as plt\n",
        "plt.plot(k,rmse)\n",
        "plt.show()"
      ],
      "execution_count": null,
      "outputs": [
        {
          "output_type": "display_data",
          "data": {
            "image/png": "[encoded data removed]",
            "text/plain": [
              "<Figure size 432x288 with 1 Axes>"
            ]
          },
          "metadata": {
            "tags": [],
            "needs_background": "light"
          }
        }
      ]
    },
    {
      "cell_type": "markdown",
      "metadata": {
        "id": "iAkvJO29WvV1"
      },
      "source": [
        "#THE OPTIMAL BASE LEARNER IS COMING OUT TO BE 40"
      ]
    },
    {
      "cell_type": "code",
      "metadata": {
        "colab": {
          "base_uri": "https://localhost:8080/"
        },
        "id": "paLWw-G5W5sv",
        "outputId": "487f54d6-b1a8-43a4-c139-e9b924ea76d6"
      },
      "source": [
        "from tqdm import tqdm\n",
        "import warnings\n",
        "warnings.filterwarnings(\"ignore\")\n",
        "\n",
        "rmse=[]\n",
        "\n",
        "x_samples,y_samples=create_samples(d1_train,d1_test,40,n)\n",
        "model_list=base_models(x_samples,y_samples)\n",
        "pred_df=predictions_from_d2(model_list,d2_train)\n",
        "#using linear regression as metamodel\n",
        "m_model=LinearRegression(n_jobs=-1)\n",
        "m_model.fit(pred_df,d2_test)\n",
        "pred_meta_model_on_test=predictions_from_d2(model_list,X_test)\n",
        "y_test_pred = m_model.predict(pred_meta_model_on_test)\n",
        "  \n",
        "rmse.append(np.sqrt(mean_squared_error(y_test, y_test_pred)))\n",
        "print(rmse)"
      ],
      "execution_count": 34,
      "outputs": [
        {
          "output_type": "stream",
          "text": [
            "[10:43:11] WARNING: /workspace/src/objective/regression_obj.cu:152: reg:linear is now deprecated in favor of reg:squarederror.\n",
            "[10:43:49] WARNING: /workspace/src/objective/regression_obj.cu:152: reg:linear is now deprecated in favor of reg:squarederror.\n",
            "[10:44:05] WARNING: /workspace/src/objective/regression_obj.cu:152: reg:linear is now deprecated in favor of reg:squarederror.\n",
            "[10:44:23] WARNING: /workspace/src/objective/regression_obj.cu:152: reg:linear is now deprecated in favor of reg:squarederror.\n",
            "[10:44:34] WARNING: /workspace/src/objective/regression_obj.cu:152: reg:linear is now deprecated in favor of reg:squarederror.\n",
            "[10:44:45] WARNING: /workspace/src/objective/regression_obj.cu:152: reg:linear is now deprecated in favor of reg:squarederror.\n",
            "[10:44:55] WARNING: /workspace/src/objective/regression_obj.cu:152: reg:linear is now deprecated in favor of reg:squarederror.\n",
            "[10:45:22] WARNING: /workspace/src/objective/regression_obj.cu:152: reg:linear is now deprecated in favor of reg:squarederror.\n",
            "[10:45:33] WARNING: /workspace/src/objective/regression_obj.cu:152: reg:linear is now deprecated in favor of reg:squarederror.\n",
            "[10:45:43] WARNING: /workspace/src/objective/regression_obj.cu:152: reg:linear is now deprecated in favor of reg:squarederror.\n",
            "[10:45:54] WARNING: /workspace/src/objective/regression_obj.cu:152: reg:linear is now deprecated in favor of reg:squarederror.\n",
            "[10:46:10] WARNING: /workspace/src/objective/regression_obj.cu:152: reg:linear is now deprecated in favor of reg:squarederror.\n",
            "[10:46:21] WARNING: /workspace/src/objective/regression_obj.cu:152: reg:linear is now deprecated in favor of reg:squarederror.\n",
            "[1.7721025794692915]\n"
          ],
          "name": "stdout"
        }
      ]
    },
    {
      "cell_type": "markdown",
      "metadata": {
        "id": "OyDVa7vAZhVP"
      },
      "source": [
        "##THE TEST RMSE USING STACKING REGRESSOR IS 1.77"
      ]
    }
  ]
}