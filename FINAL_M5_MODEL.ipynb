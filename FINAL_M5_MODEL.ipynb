{
  "nbformat": 4,
  "nbformat_minor": 0,
  "metadata": {
    "colab": {
      "name": "FINAL_M5_MODEL.ipynb",
      "provenance": []
    },
    "kernelspec": {
      "name": "python3",
      "display_name": "Python 3"
    },
    "language_info": {
      "name": "python"
    }
  },
  "cells": [
    {
      "cell_type": "code",
      "metadata": {
        "id": "PPoC9Q9-UzRb"
      },
      "source": [
        "import pandas as pd\n",
        "import numpy as np\n",
        "from datetime import datetime\n",
        "import lightgbm as lgb\n",
        "import warnings\n",
        "warnings.filterwarnings(\"ignore\")\n",
        "from sklearn.metrics import mean_squared_error\n",
        "from tqdm import tqdm\n",
        "from sklearn.externals import joblib"
      ],
      "execution_count": 3,
      "outputs": []
    },
    {
      "cell_type": "code",
      "metadata": {
        "id": "VwElLYcsueaW"
      },
      "source": [
        "#REFERENCE-https://www.kaggle.com/priyanka4pc/m5-model\n",
        "#code to reduce memory consumption\n",
        "import numpy as np\n",
        "def reduce_mem_usage(df, verbose=True):\n",
        "    numerics = ['int16', 'int32', 'int64', 'float16', 'float32', 'float64']\n",
        "    start_mem = df.memory_usage().sum() / 1024**2    \n",
        "    for col in df.columns:\n",
        "        col_type = df[col].dtypes\n",
        "        if col_type in numerics:\n",
        "            c_min = df[col].min()\n",
        "            c_max = df[col].max()\n",
        "            if str(col_type)[:3] == 'int':\n",
        "                if c_min > np.iinfo(np.int8).min and c_max < np.iinfo(np.int8).max:\n",
        "                    df[col] = df[col].astype(np.int8)\n",
        "                elif c_min > np.iinfo(np.int16).min and c_max < np.iinfo(np.int16).max:\n",
        "                    df[col] = df[col].astype(np.int16)\n",
        "                elif c_min > np.iinfo(np.int32).min and c_max < np.iinfo(np.int32).max:\n",
        "                    df[col] = df[col].astype(np.int32)\n",
        "                elif c_min > np.iinfo(np.int64).min and c_max < np.iinfo(np.int64).max:\n",
        "                    df[col] = df[col].astype(np.int64)  \n",
        "            else:\n",
        "                if c_min > np.finfo(np.float16).min and c_max < np.finfo(np.float16).max:\n",
        "                    df[col] = df[col].astype(np.float16)\n",
        "                elif c_min > np.finfo(np.float32).min and c_max < np.finfo(np.float32).max:\n",
        "                    df[col] = df[col].astype(np.float32)\n",
        "                else:\n",
        "                    df[col] = df[col].astype(np.float64)    \n",
        "    end_mem = df.memory_usage().sum() / 1024**2\n",
        "    if verbose: \n",
        "        print('Mem. usage decreased to {:5.2f} Mb ({:.1f}% reduction)'.format(end_mem, 100 * (start_mem - end_mem) / start_mem))\n",
        "    return df"
      ],
      "execution_count": 2,
      "outputs": []
    },
    {
      "cell_type": "code",
      "metadata": {
        "colab": {
          "base_uri": "https://localhost:8080/"
        },
        "id": "a31JOjR1U8gi",
        "outputId": "6b5279b2-cb2c-4e30-9e93-a3616720b4ae"
      },
      "source": [
        "#DOWNLOADING DATASET\n",
        "!curl --header \"Host: storage.googleapis.com\" --header \"User-Agent: Mozilla/5.0 (Windows NT 10.0; Win64; x64) AppleWebKit/537.36 (KHTML, like Gecko) Chrome/91.0.4472.124 Safari/537.36\" --header \"Accept: text/html,application/xhtml+xml,application/xml;q=0.9,image/avif,image/webp,image/apng,*/*;q=0.8,application/signed-exchange;v=b3;q=0.9\" --header \"Accept-Language: en-GB,en;q=0.9\" --header \"Referer: https://www.kaggle.com/\" \"https://storage.googleapis.com/kaggle-competitions-data/kaggle-v2/18599/1236839/bundle/archive.zip?GoogleAccessId=web-data@kaggle-161607.iam.gserviceaccount.com&Expires=1626948840&Signature=SSQ5BiEZ6Pmadghnnd5oqppi0b6P%2F5utcPz4P56WcO39%2FSNjcZ6NGvVTD3SrZ6XkO%2F1yqFy0kGzmTL%2BEZcM3h%2FcoeLeVKWFHYabFLU2oS5121z85ts4lARqSLSZ10PZMxZEFKwH3TP0%2BJ6nKwMk2M5lsLrGGV1X3IZwU%2F6zzcDFqLrjkxVxdrGiz%2FRN49MVAf3fZNV3wYqaKBjilZFrOoNkCj9Akwf0Vew6lRSwu%2BTWSWbnsaWuW7FJqnb%2FTRTiPvDt%2FcIDtKhPOXNdBO6XneU%2BKBbrmTD3Yu%2F0ALxD4ve9nT3XefbvpkkoQSEoO5w2ehjWs%2B6Zw55LaikYycXsVJg%3D%3D&response-content-disposition=attachment%3B+filename%3Dm5-forecasting-accuracy.zip\" -L -o \"m5-forecasting-accuracy.zip\"\n",
        "!unzip '/content/m5-forecasting-accuracy.zip'"
      ],
      "execution_count": null,
      "outputs": [
        {
          "output_type": "stream",
          "text": [
            "  % Total    % Received % Xferd  Average Speed   Time    Time     Time  Current\n",
            "                                 Dload  Upload   Total   Spent    Left  Speed\n",
            "100 45.7M  100 45.7M    0     0  25.9M      0  0:00:01  0:00:01 --:--:-- 25.9M\n",
            "Archive:  /content/m5-forecasting-accuracy.zip\n",
            "  inflating: calendar.csv            \n",
            "  inflating: sales_train_evaluation.csv  \n",
            "  inflating: sales_train_validation.csv  \n",
            "  inflating: sample_submission.csv   \n",
            "  inflating: sell_prices.csv         \n"
          ],
          "name": "stdout"
        }
      ]
    },
    {
      "cell_type": "code",
      "metadata": {
        "id": "BUjO0CK_n8Mh"
      },
      "source": [
        "#importing dataset\n",
        "calendar=pd.read_csv('calendar.csv')\n",
        "sales=pd.read_csv('sales_train_evaluation.csv')\n",
        "price=pd.read_csv('sell_prices.csv')"
      ],
      "execution_count": null,
      "outputs": []
    },
    {
      "cell_type": "code",
      "metadata": {
        "colab": {
          "base_uri": "https://localhost:8080/",
          "height": 417
        },
        "id": "WinyC4yyVQyQ",
        "outputId": "3b29d27d-d05a-4544-c9ff-1114928b98f0"
      },
      "source": [
        "#useful for deploying model\n",
        "sales_desc=sales[['item_id','store_id']]\n",
        "sales_desc"
      ],
      "execution_count": null,
      "outputs": [
        {
          "output_type": "execute_result",
          "data": {
            "text/html": [
              "<div>\n",
              "<style scoped>\n",
              "    .dataframe tbody tr th:only-of-type {\n",
              "        vertical-align: middle;\n",
              "    }\n",
              "\n",
              "    .dataframe tbody tr th {\n",
              "        vertical-align: top;\n",
              "    }\n",
              "\n",
              "    .dataframe thead th {\n",
              "        text-align: right;\n",
              "    }\n",
              "</style>\n",
              "<table border=\"1\" class=\"dataframe\">\n",
              "  <thead>\n",
              "    <tr style=\"text-align: right;\">\n",
              "      <th></th>\n",
              "      <th>item_id</th>\n",
              "      <th>store_id</th>\n",
              "    </tr>\n",
              "  </thead>\n",
              "  <tbody>\n",
              "    <tr>\n",
              "      <th>0</th>\n",
              "      <td>HOBBIES_1_001</td>\n",
              "      <td>CA_1</td>\n",
              "    </tr>\n",
              "    <tr>\n",
              "      <th>1</th>\n",
              "      <td>HOBBIES_1_002</td>\n",
              "      <td>CA_1</td>\n",
              "    </tr>\n",
              "    <tr>\n",
              "      <th>2</th>\n",
              "      <td>HOBBIES_1_003</td>\n",
              "      <td>CA_1</td>\n",
              "    </tr>\n",
              "    <tr>\n",
              "      <th>3</th>\n",
              "      <td>HOBBIES_1_004</td>\n",
              "      <td>CA_1</td>\n",
              "    </tr>\n",
              "    <tr>\n",
              "      <th>4</th>\n",
              "      <td>HOBBIES_1_005</td>\n",
              "      <td>CA_1</td>\n",
              "    </tr>\n",
              "    <tr>\n",
              "      <th>...</th>\n",
              "      <td>...</td>\n",
              "      <td>...</td>\n",
              "    </tr>\n",
              "    <tr>\n",
              "      <th>30485</th>\n",
              "      <td>FOODS_3_823</td>\n",
              "      <td>WI_3</td>\n",
              "    </tr>\n",
              "    <tr>\n",
              "      <th>30486</th>\n",
              "      <td>FOODS_3_824</td>\n",
              "      <td>WI_3</td>\n",
              "    </tr>\n",
              "    <tr>\n",
              "      <th>30487</th>\n",
              "      <td>FOODS_3_825</td>\n",
              "      <td>WI_3</td>\n",
              "    </tr>\n",
              "    <tr>\n",
              "      <th>30488</th>\n",
              "      <td>FOODS_3_826</td>\n",
              "      <td>WI_3</td>\n",
              "    </tr>\n",
              "    <tr>\n",
              "      <th>30489</th>\n",
              "      <td>FOODS_3_827</td>\n",
              "      <td>WI_3</td>\n",
              "    </tr>\n",
              "  </tbody>\n",
              "</table>\n",
              "<p>30490 rows × 2 columns</p>\n",
              "</div>"
            ],
            "text/plain": [
              "             item_id store_id\n",
              "0      HOBBIES_1_001     CA_1\n",
              "1      HOBBIES_1_002     CA_1\n",
              "2      HOBBIES_1_003     CA_1\n",
              "3      HOBBIES_1_004     CA_1\n",
              "4      HOBBIES_1_005     CA_1\n",
              "...              ...      ...\n",
              "30485    FOODS_3_823     WI_3\n",
              "30486    FOODS_3_824     WI_3\n",
              "30487    FOODS_3_825     WI_3\n",
              "30488    FOODS_3_826     WI_3\n",
              "30489    FOODS_3_827     WI_3\n",
              "\n",
              "[30490 rows x 2 columns]"
            ]
          },
          "metadata": {
            "tags": []
          },
          "execution_count": 12
        }
      ]
    },
    {
      "cell_type": "code",
      "metadata": {
        "colab": {
          "base_uri": "https://localhost:8080/"
        },
        "id": "WMtm7xfytzq_",
        "outputId": "76674873-41b7-49b4-df43-039c2c7cd923"
      },
      "source": [
        "#MELTING DATAFRAME\n",
        "sales_melt=sales.melt(id_vars=['id', 'item_id', 'dept_id', 'cat_id', 'store_id', 'state_id'], var_name='d',value_name='sale')\n",
        "\n",
        "#MERGING SALES DF AND CALENDAR DF\n",
        "sales_pivot=sales_melt.merge(calendar,on='d',how='left')\n",
        "\n",
        "#MERGING SALES DF AND PRICE DF\n",
        "final_df=sales_pivot.merge(price,on=['store_id', 'item_id', 'wm_yr_wk'],how='left')"
      ],
      "execution_count": null,
      "outputs": [
        {
          "output_type": "stream",
          "text": [
            "Mem. usage decreased to 678.95 Mb (33.3% reduction)\n"
          ],
          "name": "stdout"
        }
      ]
    },
    {
      "cell_type": "code",
      "metadata": {
        "id": "yd276ZZqY0rq"
      },
      "source": [
        "#CONVERTING OBJECT TYPE TO CATEGORY\n",
        "object_columns=final_df.select_dtypes('object').columns\n",
        "final_df[object_columns]=final_df[object_columns].astype('category')\n"
      ],
      "execution_count": null,
      "outputs": []
    },
    {
      "cell_type": "code",
      "metadata": {
        "id": "cljFMF4yuwt9"
      },
      "source": [
        "#REDUCING MEMORY USAGE BY DOWNCASTING\n",
        "final_df=reduce_mem_usage(final_df)"
      ],
      "execution_count": null,
      "outputs": []
    },
    {
      "cell_type": "code",
      "metadata": {
        "id": "JULbs80NYEgU"
      },
      "source": [
        "final_df.info()"
      ],
      "execution_count": null,
      "outputs": []
    },
    {
      "cell_type": "code",
      "metadata": {
        "id": "8RljSStwgeFj",
        "colab": {
          "base_uri": "https://localhost:8080/"
        },
        "outputId": "b8ec114a-48ee-49f6-d765-cf054fc1550c"
      },
      "source": [
        "def data_modelling(X):\n",
        "  '''the function takes single argument and performs all the preprocessing and feature\n",
        "  engineering on top of that and also performs modelling of data..\n",
        "  the function will return the predicted output of our task'''\n",
        "\n",
        "  #HERE THE FUNCTION ARGUMENT WILL TAKE A DATAFRAME AS AN INPUT\n",
        "\n",
        "  #PERFORMING ALL THE REQUIRED DATA PREPROCESSING\n",
        "  #ENCODING ALL CATEGORICAL FEATURES\n",
        "  '''for i in X.columns:\n",
        "    try:\n",
        "        X[i] = X[i].cat.codes\n",
        "    except AttributeError:\n",
        "        pass\n",
        "\n",
        "  #HERE WE ARE STRIPPING THE D FROM D COLUMN AND MAKING IT INTEGER...IT WILL HELP US TO SPLIT THE DATASET USING DAY\n",
        "  X['day'] = X['d'].map(lambda x: x.split('_')[1]).astype('int')\n",
        "\n",
        "  #BEFORE SPLITTING THE DATASET WE ARE REMOVING THE WEEKDAY COLUMN AS WE ALREADY HAVE WDAY COLUMN WHICH IS NUMERIC REPRESENTATION OF WEEKDAY..\n",
        "  #WE ARE ALSO DROPING 'D' COLUMN SINCE WE HAVE CONVERTED IT TO A COLUMN 'DAY'\n",
        "  X=X.drop(['weekday','d'],axis=1)\n",
        "\n",
        "  #DEALING WITH NAN VALUES\n",
        "  X['sell_price'] = X['sell_price'].fillna(X.groupby('id')['sell_price'].transform('median'))\n",
        "\n",
        "  \n",
        "\n",
        "  #PERFORMING FEARURE ENGINEERINGS\n",
        "\n",
        "  #FEATURE ENGINNERING USING DATE(TYPE=datetime) COLUMN\n",
        "  X.drop(['wm_yr_wk'],axis=1,inplace=True)\n",
        "  X['week_of_year']=X['date'].dt.week\n",
        "\n",
        "  #WHETEHER THE DAY FALLS IN WEEKEND OR NOT\n",
        "  X['is_weekend']=X['wday'].map(lambda x:1 if x<=2 else 0)\n",
        "\n",
        "  #WHETHER THE DAY IS THE STARING OF MONTH OR ENDING OR MONTH\n",
        "  month_start=X['date'].dt.is_month_start.map(lambda x:1 if x==True else 0)\n",
        "  month_end=X['date'].dt.is_month_end.map(lambda x:2 if x==True else 0)\n",
        "  X['is_month_start_or_end']=month_start+month_end\n",
        "\n",
        "  #WHETHER THE DAY IS LESS THAN HALF THE MONTH OR MORE\n",
        "  X['is_first15_day_or_last15_day']=X['date'].dt.day.map(lambda x:1 if x<=15 else 0)\n",
        "\n",
        "  #WHETHER ITS CHRISTMAS OR NOT ON SPECIFIC DAY\n",
        "  X['is_christmas']=X['event_name_1'].map(lambda x:1 if x==1 else 0)\n",
        "  X.drop(['date'],axis=1,inplace=True)\n",
        "\n",
        "\n",
        "  X=reduce_mem_usage(X)\n",
        "\n",
        "  #LAG FEATURES\n",
        "  from tqdm import tqdm\n",
        "  lags=[1,7,14,21,28,30,31]\n",
        "  for lag in tqdm(lags):\n",
        "    X[\"lag_\" + str(lag)] = X.groupby(\"id\")[\"sale\"].shift(lag)\n",
        "    X[\"lag_\" + str(lag)]=X[\"lag_\" + str(lag)].fillna(0).astype('int')#FILLING NAN VALUES FORMED DUE TO LAG BY ZERO.\n",
        "\n",
        "  #ROLLING MEAN FEATURES\n",
        "  #USING MULTIPROCESSING FOR FASTER EXECUTION\n",
        "  temp=X[['id','sale']]\n",
        "  def rolling_7(temp):\n",
        "      \n",
        "      rolling_mean_7 = temp.groupby(['id'])['sale'].transform(lambda x: x.rolling(7).mean())\n",
        "      rolling_mean_7.to_csv(\"rolling_mean_7\")\n",
        "      \n",
        "\n",
        "  def rolling_14(temp):\n",
        "      \n",
        "      rolling_mean_14 = temp.groupby(['id'])['sale'].transform(lambda x: x.rolling(14).mean())\n",
        "      rolling_mean_14.to_csv(\"rolling_mean_14\")\n",
        "     \n",
        "      \n",
        "  def rolling_28(temp):\n",
        "      \n",
        "      rolling_mean_28 = temp.groupby(['id'])['sale'].transform(lambda x: x.rolling(28).mean())\n",
        "      rolling_mean_28.to_csv(\"rolling_mean_28\")\n",
        "      \n",
        "  p1 = multiprocessing.Process(target=rolling_7,args=(temp,))\n",
        "  p2 = multiprocessing.Process(target=rolling_14,args=(temp,))\n",
        "  p3 = multiprocessing.Process(target=rolling_28,args=(temp,))\n",
        "\n",
        "  p1.start()\n",
        "  p2.start()\n",
        "  p3.start()\n",
        "\n",
        "  p1.join()\n",
        "  p2.join()\n",
        "  p3.join()\n",
        "\n",
        "  rolling_mean_7=pd.read_csv(\"rolling_mean_7\",)\n",
        "  X['rolling_mean_7']=rolling_mean_7.drop(['Unnamed: 0'],axis=1)\n",
        "\n",
        "\n",
        "  rolling_mean_14=pd.read_csv(\"rolling_mean_14\")\n",
        "  X['rolling_mean_14']=rolling_mean_14.drop(['Unnamed: 0'],axis=1)\n",
        "\n",
        "\n",
        "\n",
        "  rolling_mean_28=pd.read_csv(\"rolling_mean_28\")\n",
        "  X['rolling_mean_28']=rolling_mean_28.drop(['Unnamed: 0'],axis=1)\n",
        "\n",
        "  \n",
        "\n",
        "  #ROLLING STANDARD DEVIATION FEATURES\n",
        "  temp=X[['id','sale']]\n",
        "  def rolling1_7(temp):\n",
        "      \n",
        "      rolling_std_7 = temp.groupby(['id'])['sale'].transform(lambda x: x.rolling(7).std())\n",
        "      rolling_std_7.to_csv(\"rolling_std_7\")\n",
        "\n",
        "      \n",
        "  def rolling1_14(temp):\n",
        "      rolling_std_14 = temp.groupby(['id'])['sale'].transform(lambda x: x.rolling(14).std())\n",
        "      rolling_std_14.to_csv(\"rolling_std_14\")\n",
        "      \n",
        "\n",
        "  def rolling1_28(temp):\n",
        "      rolling_std_28 = temp.groupby(['id'])['sale'].transform(lambda x: x.rolling(28).std())\n",
        "      rolling_std_28.to_csv(\"rolling_std_28\")\n",
        "\n",
        "\n",
        "  p1 = multiprocessing.Process(target=rolling1_7,args=(temp,))\n",
        "  p2 = multiprocessing.Process(target=rolling1_14,args=(temp,))\n",
        "  p3 = multiprocessing.Process(target=rolling1_28,args=(temp,))\n",
        "\n",
        "  p1.start()\n",
        "  p2.start()\n",
        "  p3.start()\n",
        "\n",
        "  p1.join()\n",
        "  p2.join()\n",
        "  p3.join()\n",
        "\n",
        "  rolling_std_7=pd.read_csv(\"rolling_std_7\")\n",
        "  X['rolling_std_7']=rolling_std_7.drop(['Unnamed: 0'],axis=1)\n",
        "\n",
        "  rolling_std_14=pd.read_csv(\"rolling_std_14\")\n",
        "  X['rolling_std_14']=rolling_std_14.drop(['Unnamed: 0'],axis=1)\n",
        "\n",
        "  rolling_std_28=pd.read_csv(\"rolling_std_28\")\n",
        "  X['rolling_std_28']=rolling_std_28.drop(['Unnamed: 0'],axis=1)\n",
        "\n",
        "  #FILLING NAN VALUES FROMED DUE TO ROOLLING OPERATION BY ZERO\n",
        "  X=X.fillna(0)\n",
        "\n",
        "  X=reduce_mem_usage(X)\n",
        "\n",
        "  #FEATURING ENGINEERING USING PRICE FEATURE\n",
        "\n",
        "  #PRICE LAG FOR 1 DAY\n",
        "  X[\"price_previous_day\"]=X['sell_price'].transform(lambda x:x.shift(1))\n",
        "  X['price_previous_day']=X['price_previous_day'].fillna(0)\n",
        "\n",
        "  #PRICE CHANGE FROM PREVIOUS DAY\n",
        "  diff=(X['price_previous_day']-X['sell_price'])\n",
        "  deno=X['price_previous_day'].apply(lambda x:0.1 if x==0 else x)\n",
        "\n",
        "  X['price_change']=diff/deno\n",
        "  X['price_change']=X['price_change'].fillna(0)\n",
        "\n",
        "  X=reduce_mem_usage(X)'''\n",
        "  \n",
        "\n",
        "  #SPLITTING THE DATASET INTO TRAIN,CV AND TEST SET\n",
        "  #SINCE ITS A TIME SERIES PROBLEM,THE SPLITTING SHOULD BE DONE WITH RESPECT TO TIME\n",
        "  X_train = X[(X['day']>=1200) & (X['day']<=1885)]\n",
        "  y_train = X_train['sale']\n",
        "  X_train.drop(['sale'],axis = 1,inplace = True)\n",
        "\n",
        "#Product details starting from day 1884 and ending with 1912 is used as cross validation set(we will cross validate  our model on 28 days from 1884 to 1912)  \n",
        "  X_cv=X[(X['day']>=1886) & (X['day']<=1913)]\n",
        "  y_cv=X_cv['sale']\n",
        "  X_cv.drop(['sale'],axis=1,inplace=True)\n",
        "    \n",
        "#Product details starting from day 1913 is used as test set(we will test our model on 28 days from 1913 to 1941)\n",
        "#we are testing on 28 days..since our task is to forecast sales for next 28 days\n",
        "  X_test = X[(X['day']>=1914)]\n",
        "  y_test = X_test['sale']\n",
        "  X_test.drop(['sale'],axis = 1,inplace = True)\n",
        "\n",
        "\n",
        "  #IMPLEMENTING LGBMM MODEL\n",
        "  #PARAMETERS FOUND OUT BY USING CROSS VALIDATION\n",
        "  param={'learning_rate':0.1,'n_estimators':75}\n",
        "\n",
        "  data=lgb.Dataset(X_train,label=y_train,free_raw_data=False)\n",
        "\n",
        " \n",
        "  \n",
        "  lgb_model=lgb.train(param,data)\n",
        "\n",
        "  joblib.dump(lgb_model,'model.pkl')\n",
        "\n",
        "  y_cv_pred = lgb_model.predict(X_cv)#prediction on train data\n",
        "  \n",
        "  y_test_pred = lgb_model.predict(X_test)#prediction on test data\n",
        "\n",
        "  \n",
        "\n",
        "  return y_test_pred,y_cv_pred\n",
        "\n",
        "\n",
        "from google.colab import drive\n",
        "\n",
        "drive.mount('/content/gdrive',force_remount=True)\n",
        "\n",
        "final_df=pd.read_hdf(\"/content/gdrive/MyDrive/m5_forecasting_data/final_df.hdf\",'mydata')\n",
        "final_df.columns\n",
        "y_test_pred,y_cv_pred=data_modelling(final_df)\n",
        "\n",
        "\n",
        "\n",
        "\n"
      ],
      "execution_count": null,
      "outputs": [
        {
          "output_type": "stream",
          "text": [
            "Mounted at /content/gdrive\n"
          ],
          "name": "stdout"
        }
      ]
    },
    {
      "cell_type": "code",
      "metadata": {
        "id": "DOpSfuoLYzY8"
      },
      "source": [
        "def calculating_metric(X,y_test_pred):\n",
        "  '''this functin will take the X(our dataset) and the predicted target values as argument and calculate the \n",
        "  metric for our model'''\n",
        "  X_test = X[(X['day']>=1914)]\n",
        "  y_test = X_test['sale']\n",
        "  X_test.drop(['sale'],axis = 1,inplace = True)\n",
        "  \n",
        "\n",
        "  \n",
        "\n",
        "  #calculating RMSE metric\n",
        "\n",
        "  score=mean_squared_error(y_test_pred,y_test)\n",
        "  rmse=np.sqrt(score)\n",
        "  return rmse\n",
        "\n",
        "\n",
        "rmse=calculating_metric(X,y_test_pred)\n",
        "print(rmse)\n"
      ],
      "execution_count": null,
      "outputs": []
    },
    {
      "cell_type": "code",
      "metadata": {
        "id": "sd5LvZDLzt3w"
      },
      "source": [
        "#FUNCTION TO CREATE SUBMISSION FILE FOR EVALAUTING KAGGLE COMPETITION SCORE\n",
        "def generate_submission_file(model,Xtest,Xval,file_name):\n",
        "    '''\n",
        "    This function is used to generate a submission file which contains estimated sales for a particular product for next 28 days.\n",
        "    Parameters:\n",
        "    1.model: Best trained model\n",
        "    2.Xval : Input Validation dataset\n",
        "    3.Xtest: Test dataset\n",
        "    4.file_name(str): Name of the generated csv file\n",
        "    '''\n",
        "    \n",
        "    yp_val  = model.predict(Xval)\n",
        "    yp_test  = model.predict(Xtest)\n",
        "    #Reshaped to (-1,28) shape. -1:the value is inferred from the length of the array and remaining dimensions.\n",
        "    #Order = 'F':  read / write the elements with the first index changing fastest, and the last index changing slowest.\n",
        "    yp_val = np.reshape(yp_val, (-1, 28),order = 'F')\n",
        "    yp_test = np.reshape(yp_test, (-1, 28),order = 'F')\n",
        "    \n",
        "\n",
        "    submission = pd.read_csv(\"sample_submission.csv\")\n",
        "    sub_validation = submission.iloc[:30490,:]\n",
        "    sub_evaluation = submission.iloc[30490:,:]\n",
        "    \n",
        "    F_columns = submission.columns[1:]\n",
        "    for i in range(len(F_columns)):\n",
        "        sub_validation[F_columns[i]] = yp_val[:,i]\n",
        "        sub_evaluation[F_columns[i]] = yp_test[:,i]\n",
        "\n",
        "    #submission = pd.concat([sub_validation,sub_evaluation])\n",
        "    sub_evaluation.to_csv(file_name,index = False)\n",
        "    print(\"Submission file with name \"+file_name+\" created successfully\")"
      ],
      "execution_count": null,
      "outputs": []
    },
    {
      "cell_type": "code",
      "metadata": {
        "colab": {
          "base_uri": "https://localhost:8080/",
          "height": 184
        },
        "id": "Orw6xkqqj2Pt",
        "outputId": "41746838-5321-4de1-e13f-a52c9b50eeb7"
      },
      "source": [
        "from IPython.display import Image\n",
        "Image(filename='/content/FINAL_SUBMISS.JPG') "
      ],
      "execution_count": null,
      "outputs": [
        {
          "output_type": "execute_result",
          "data": {
            "image/jpeg": "[encoded data removed]",
            "text/plain": [
              "<IPython.core.display.Image object>"
            ]
          },
          "metadata": {
            "tags": []
          },
          "execution_count": 1
        }
      ]
    }
  ]
}