{
  "nbformat": 4,
  "nbformat_minor": 0,
  "metadata": {
    "colab": {
      "name": "M5_deployment.py",
      "provenance": []
    },
    "kernelspec": {
      "name": "python3",
      "display_name": "Python 3"
    },
    "language_info": {
      "name": "python"
    }
  },
  "cells": [
    {
      "cell_type": "code",
      "metadata": {
        "id": "9lt7w6hnCmob"
      },
      "source": [
        "#https://towardsdatascience.com/how-to-deploy-a-streamlit-app-using-an-amazon-free-ec2-instance-416a41f69dc3\n",
        "import streamlit as st\n",
        "import pandas as pd\n",
        "import numpy as np\n",
        "import matplotlib.pyplot as plt\n",
        "import joblib\n",
        "\n",
        "\n",
        "\n",
        "st.title(\"Walmart Store Sales Prediction For Next 28 Days\")\n",
        "\n",
        "\n",
        "\n",
        "\n",
        "\n",
        "@st.cache\n",
        "def predict_28day_sale(X_test):\n",
        "  clf = joblib.load('model.pkl')\n",
        "  x_desc=pd.read_csv(\"sales_item_entry.csv\")\n",
        "  y_pred=clf.predict(X_test)\n",
        "  y_pred = np.reshape(y_pred, (-1, 28),order = 'F')\n",
        "  y_pred=pd.DataFrame(y_pred)\n",
        "  pred_df=pd.concat([x_desc,y_pred],axis=1)\n",
        "  return pred_df\n",
        "\n",
        "\n",
        "uploaded_file = st.file_uploader(\"Choose a file\")\n",
        "if uploaded_file is not None:\n",
        "\n",
        "  df=pd.read_csv(uploaded_file,compression=\"zip\")\n",
        "  sale=predict_28day_sale(df)\n",
        "  \n",
        "\n",
        "\n",
        "  item_id = st.selectbox('Select The Item!',sale['item_id'].unique()) \n",
        "\n",
        "  store_id= st.selectbox('Select The Store!',sale['store_id'].unique())\n",
        "\n",
        "  if item_id and store_id:\n",
        "  \n",
        "    sale=sale[(sale['item_id']==item_id) & (sale['store_id']==store_id)]\n",
        "    a=sale.drop(['item_id','store_id','Unnamed: 0'],axis=1)\n",
        "    if st.checkbox(\"Show Raw Data\"):\n",
        "      st.subheader(\"28 day Forecast\")\n",
        "      st.write(a)\n",
        "    else:\n",
        "      st.subheader(\"Graphical Representation\")\n",
        "      fig=plt.figure(figsize=(15,7))\n",
        "  \n",
        "      [y_axis]=a.values\n",
        "      x_axis=a.columns.tolist()\n",
        "      plt.grid()\n",
        "      plt.plot(x_axis,y_axis)\n",
        "      s=np.arange(1,29)\n",
        "      plt.xticks(x_axis,s)\n",
        "      st.pyplot(fig)\n",
        "  \n",
        "st.markdown('''\n",
        "    <a href=\"https://www.linkedin.com/in/abhishek-rai-8b3634169/\">\n",
        "        <img src=\"data:image/png;base64,iVBORw0KGgoAAAANSUhEUgAAAGQAAABkCAMAAABHPGVmAAAAaVBMVEUAd7X///8AcLEEebb7/f4Debb9/v79/v8DeLY8l8Y7lsYAbbCcyuKlz+WQxN+Lwd0KfbiDvdvl8fcAc7O+3OwgiL6x1ehFnMlytNZqsNQZhLzF4O7w9/tSo81gqtGp0ebc7PUsjsJ8udngaOvIAAADg0lEQVRoge2abZeqIBCAGV7EjXItKjc1y/7/j7xD7m5AWHdD+uScs3s8kDzOIMwMDoGrSJ4lEC6H0ckVkUEiyeQPBC+ar+pjcqm+GsQMEAntUSuaQJQ+toZC8F+7U4KJBMKE6ltUwkAqJUgiEapCAJGwpSwVgxBGtyAJh4NKCVEH4AStRZNZC+1F0V5orgXN00FyukBzZekh2XsgbzFXCMIGSQlhTCsjegrMCEQQVXfF8rOrFYm3YxjCdFnw6zbdFkJHr6AgROjdGYAbATjXOlaXEISRcgN88GEZh3NJIuclBBF0BfzXr3EoYve1ACTXPViuOAO+izRYAMLUxVLEqBK7RQcggp48yHJ6SG5cjAWRsI/0A0FN9g6Ew2p6TZhae+a6pDDXwn67UKt++rcL3+Gts072sW4gDOn5L4VjRBa7rwT3LkarDMNvmeEf8EV0tDSyC9O++dZku4uPyEb8CdO6KrbNtvjQOt5rjXnGnGGkrKmibALfP+7jBQ6fs0lCvnHIn4Tlj2KBsTkJX4cGYgLH1yiD8n+A/LcgACevrHe7ujRXQYXCEFHaIsLNZjgMnMrjstm0nLebZnXodSi6Cbvfz3Zzk3Y97I/ozOxmE2Dkql5vnCS0OQbe+WAgoZbOjcUPpLBbeU0I7dprZi4xlZYyM8ENNP3d6h2DcPkj/Ab5vDVjkllrgg/DpfNA+HN59D3DKMTahW3ILbxoa3Ru/D75x59Uni6vQ3hZOL7N8j9+ePMqRMLmACNnGHce6FUItrcgA4ThCdwU9HUIjDLuVImAjB/4+EFnjCZXba6xv/SU8oLOOEhmvQgu5GRPShQER25Pl667nFrXeBmc7ZUSA8FxLyU1mSWtTw7Fm5S4ia/Ud5KsnVtM34dlrwiIxNkV31ZhhG1sXTh01sy/DkG7W55SqC9npcLXJBBvHEzPLFU4rCeBgBeHs7MDKaaA4A5ZWggvdXKzs5chGTSOn2XKTZlX02jiJnnGOU8O8ZO8u146CWTpQdYzZIbMkBkyQ2bIDJkhA+QmDsRqDkCs3tXTqH4FtiyDxx6BkMiW/ZO4K6eH/eom+27oy2nnNB+8DPfo9j5JgswBk/PVnj1sfnzTKMScPVpf7fMnzU97JzqDfCxvhMxfsf8Ake8pX3hLIUbqkhJtSkpSF8ccTXGMKSXqk5f5vKVg6Xpkkbz06j1FZJC6HO4fbRVnSvd35FUAAAAASUVORK5CYII=\" />\n",
        "    </a>''',\n",
        "    unsafe_allow_html=True\n",
        ")\n",
        "  "
      ],
      "execution_count": null,
      "outputs": []
    }
  ]
}